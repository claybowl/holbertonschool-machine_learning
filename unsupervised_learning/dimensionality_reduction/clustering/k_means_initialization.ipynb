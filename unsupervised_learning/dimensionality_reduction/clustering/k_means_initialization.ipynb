{
  "cells": [
    {
      "cell_type": "markdown",
      "id": "8a86a727-0bf3-4cec-873b-343760cb3d5c",
      "metadata": {
        "noteable": {
          "cell_type": "markdown"
        }
      },
      "source": [
        "# Task 0"
      ]
    },
    {
      "cell_type": "code",
      "execution_count": 1,
      "id": "73007978-9c8a-4657-b7c8-18e5bf28a757",
      "metadata": {
        "ExecuteTime": {
          "end_time": "2023-05-30T13:48:59.785248+00:00",
          "start_time": "2023-05-30T13:48:59.626277+00:00"
        },
        "jupyter": {
          "outputs_hidden": false,
          "source_hidden": false
        },
        "noteable": {
          "cell_type": "code"
        }
      },
      "outputs": [],
      "source": [
        "import numpy as np\n",
        "\n",
        "def initialize(X, k):\n",
        "    \"\"\"\n",
        "    Initializes cluster centroids for K-means.\n",
        "\n",
        "    Parameters:\n",
        "    X (numpy.ndarray): The dataset that will be used for K-means clustering. Shape (n, d).\n",
        "    k (int): The number of clusters.\n",
        "\n",
        "    Returns:\n",
        "    numpy.ndarray: The initialized centroids for each cluster. Shape (k, d).\n",
        "    \"\"\"\n",
        "    if not isinstance(X, np.ndarray) or len(X.shape) != 2:\n",
        "        return None\n",
        "    if not isinstance(k, int) or k <= 0 or X.shape[0] < k:\n",
        "        return None\n",
        "\n",
        "    n, d = X.shape\n",
        "\n",
        "    min_vals = X.min(axis=0)\n",
        "    max_vals = X.max(axis=0)\n",
        "\n",
        "    centroids = np.random.uniform(min_vals, max_vals, (k, d))\n",
        "\n",
        "    return centroids"
      ]
    },
    {
      "attachments": {},
      "cell_type": "markdown",
      "id": "b002c8d0",
      "metadata": {},
      "source": [
        "## Task 0 - Main File"
      ]
    },
    {
      "cell_type": "code",
      "execution_count": 2,
      "id": "a7dea8b1-2afe-4b12-a538-913ca4d1fde7",
      "metadata": {
        "ExecuteTime": {
          "end_time": "2023-05-30T13:50:58.052806+00:00",
          "start_time": "2023-05-30T13:50:56.071836+00:00"
        },
        "jupyter": {
          "outputs_hidden": false,
          "source_hidden": false
        },
        "noteable": {
          "cell_type": "code"
        }
      },
      "outputs": [
        {
          "data": {
            "image/png": "[encoded data removed]",
            "text/plain": [
              "<Figure size 640x480 with 1 Axes>"
            ]
          },
          "metadata": {},
          "output_type": "display_data"
        },
        {
          "name": "stdout",
          "output_type": "stream",
          "text": [
            "[[14.54730144 13.46780434]\n",
            " [20.57098466 33.55245039]\n",
            " [ 9.55556506 51.51143281]\n",
            " [48.72458008 20.03154959]\n",
            " [25.43826106 60.35542243]]\n"
          ]
        }
      ],
      "source": [
        "import numpy as np\n",
        "import matplotlib.pyplot as plt\n",
        "\n",
        "np.random.seed(0)\n",
        "a = np.random.multivariate_normal([30, 40], [[16, 0], [0, 16]], size=50)\n",
        "b = np.random.multivariate_normal([10, 25], [[16, 0], [0, 16]], size=50)\n",
        "c = np.random.multivariate_normal([40, 20], [[16, 0], [0, 16]], size=50)\n",
        "d = np.random.multivariate_normal([60, 30], [[16, 0], [0, 16]], size=50)\n",
        "e = np.random.multivariate_normal([20, 70], [[16, 0], [0, 16]], size=50)\n",
        "X = np.concatenate((a, b, c, d, e), axis=0)\n",
        "np.random.shuffle(X)\n",
        "plt.scatter(X[:, 0], X[:, 1], s=10)\n",
        "plt.show()\n",
        "print(initialize(X, 5))"
      ]
    }
  ],
  "metadata": {
    "kernelspec": {
      "display_name": "Python 3",
      "language": "python",
      "name": "python3"
    },
    "language_info": {
      "codemirror_mode": {
        "name": "ipython",
        "version": 3
      },
      "file_extension": ".py",
      "mimetype": "text/x-python",
      "name": "python",
      "nbconvert_exporter": "python",
      "pygments_lexer": "ipython3",
      "version": "3.10.6"
    },
    "noteable": {
      "last_delta_id": "5e646a7b-f6b7-4ba5-82e8-b4938bb928b0"
    },
    "noteable-chatgpt": {
      "create_notebook": {
        "openai_conversation_id": "fadd1d7e-6a2e-5c18-afe5-ba5c52f8d03a",
        "openai_ephemeral_user_id": "d75d1b96-fc34-5f1a-868e-4901c907ffab",
        "openai_subdivision1_iso_code": "US-OK"
      }
    },
    "nteract": {
      "version": "noteable@2.9.0"
    },
    "selected_hardware_size": "small"
  },
  "nbformat": 4,
  "nbformat_minor": 5
}
