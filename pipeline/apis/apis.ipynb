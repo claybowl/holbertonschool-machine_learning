{
 "cells": [
  {
   "cell_type": "code",
   "execution_count": 1,
   "metadata": {},
   "outputs": [],
   "source": [
    "import requests"
   ]
  },
  {
   "cell_type": "markdown",
   "metadata": {},
   "source": [
    "## Task 0. Can I join?:"
   ]
  },
  {
   "cell_type": "code",
   "execution_count": 2,
   "metadata": {},
   "outputs": [],
   "source": [
    "def availableShips(passengerCount):\n",
    "    \"\"\"Returns a list of ships available for a given\n",
    "    passenger count\"\"\"\n",
    "    # empty list to hold names of available ships\n",
    "    available_ships = []\n",
    "    \n",
    "    # initialize URL for Swapi API endpoint for starships\n",
    "    url = \"https://swapi.dev/api/starships/\"\n",
    "\n",
    "    while url:\n",
    "        # connect with API\n",
    "        response = requests.get(url)\n",
    "        ship_data = response.json()\n",
    "\n",
    "        # loop through starship pages\n",
    "        for starship in ship_data['results']:\n",
    "            try:\n",
    "                capacity = int(starship['passengers'])\n",
    "            except ValueError:\n",
    "                continue\n",
    "            if capacity >= passengerCount:\n",
    "                available_ships.append(starship['name'])\n",
    "        url = ship_data['next']\n",
    "    return available_ships\n",
    "        \n"
   ]
  },
  {
   "cell_type": "code",
   "execution_count": 3,
   "metadata": {},
   "outputs": [
    {
     "name": "stdout",
     "output_type": "stream",
     "text": [
      "CR90 corvette\n",
      "Sentinel-class landing craft\n",
      "Millennium Falcon\n",
      "Executor\n",
      "Rebel transport\n",
      "Slave 1\n",
      "Imperial shuttle\n",
      "EF76 Nebulon-B escort frigate\n",
      "Calamari Cruiser\n",
      "Republic Cruiser\n",
      "Droid control ship\n",
      "Scimitar\n",
      "J-type diplomatic barge\n",
      "AA-9 Coruscant freighter\n",
      "Republic Assault ship\n",
      "Solar Sailer\n",
      "Trade Federation cruiser\n",
      "Theta-class T-2c shuttle\n",
      "Republic attack cruiser\n"
     ]
    }
   ],
   "source": [
    "if __name__ == \"__main__\":\n",
    "    ships = availableShips(4)\n",
    "    for ship in ships:\n",
    "        print(ship)"
   ]
  },
  {
   "cell_type": "markdown",
   "metadata": {},
   "source": [
    "## Task 1. Where I am?:"
   ]
  },
  {
   "cell_type": "code",
   "execution_count": 6,
   "metadata": {},
   "outputs": [],
   "source": [
    "def sentientPlanets():\n",
    "    \"\"\"Returns a list of planets with sentient life\"\"\"\n",
    "    # initialize an empty list of sentient planets\n",
    "    sentient_planets = []\n",
    "\n",
    "    # create API object\n",
    "    url = \"https://swapi-api.hbtn.io/api/species/\"\n",
    "\n",
    "    while url:\n",
    "        # make get request to url and store response\n",
    "        # parse json data from response and store in data variable\n",
    "        response = requests.get(url)\n",
    "        sentience_data = response.json()\n",
    "\n",
    "        # the loop for life\n",
    "        for species in sentience_data['results']:\n",
    "            if species['designation'] == 'sentient' or species['classification'] == 'sentient':\n",
    "                homeworld_url = species['homeworld']\n",
    "\n",
    "                # get the name of the planet from the homeworld url\n",
    "                if homeworld_url:\n",
    "                    homeworld_response = requests.get(homeworld_url)\n",
    "                    homeworld_response = requests.get(homeworld_url).json()\n",
    "                    sentient_planets.append(homeworld_response['name'])\n",
    "        url = sentience_data['next']\n",
    "    return sentience_data"
   ]
  },
  {
   "cell_type": "code",
   "execution_count": 7,
   "metadata": {},
   "outputs": [
    {
     "name": "stdout",
     "output_type": "stream",
     "text": [
      "count\n",
      "next\n",
      "previous\n",
      "results\n"
     ]
    }
   ],
   "source": [
    "if __name__ == \"__main__\":\n",
    "    planets = sentientPlanets()\n",
    "    for planet in planets:\n",
    "        print(planet)"
   ]
  },
  {
   "cell_type": "markdown",
   "metadata": {},
   "source": [
    "## Task 2. Rate me is you can!"
   ]
  },
  {
   "cell_type": "code",
   "execution_count": 1,
   "metadata": {},
   "outputs": [],
   "source": [
    "import requests\n",
    "import sys\n",
    "from datetime import datetime, timedelta"
   ]
  },
  {
   "cell_type": "code",
   "execution_count": 13,
   "metadata": {},
   "outputs": [
    {
     "ename": "SyntaxError",
     "evalue": "invalid syntax (2546150355.py, line 3)",
     "output_type": "error",
     "traceback": [
      "\u001b[1;36m  Cell \u001b[1;32mIn[13], line 3\u001b[1;36m\u001b[0m\n\u001b[1;33m    response = requests.get(api_url):\u001b[0m\n\u001b[1;37m                                    ^\u001b[0m\n\u001b[1;31mSyntaxError\u001b[0m\u001b[1;31m:\u001b[0m invalid syntax\n"
     ]
    }
   ],
   "source": [
    "def fetch_user_location(api_url):\n",
    "    \"\"\"fetches user location\"\"\"\n",
    "    response = requests.get(api_url):\n",
    "\n",
    "    # check if response is valid\n",
    "    if response.status_code == 200:\n",
    "        # Parse the JSON data from the response\n",
    "        data = response.json()\n",
    "        \n",
    "        # Print the location of the user\n",
    "        print(data.get('location', 'Location not set'))\n",
    "        \n",
    "    elif response.status_code == 404:\n",
    "        # User does not exist\n",
    "        print(\"Not found\")\n",
    "        \n",
    "    elif response.status_code == 403:\n",
    "        # Rate limit exceeded\n",
    "        reset_time = int(response.headers.get('X-Ratelimit-Reset', 0))\n",
    "        \n",
    "        # Calculate the time remaining for the rate limit to reset\n",
    "        reset_time = datetime.fromtimestamp(reset_time) - datetime.now()\n",
    "        minutes = reset_time.total_seconds() // 60\n",
    "        \n",
    "        print(f\"Reset in {int(minutes)} min\")"
   ]
  },
  {
   "cell_type": "code",
   "execution_count": null,
   "metadata": {},
   "outputs": [],
   "source": [
    "# Ensure the script is not executed when imported\n",
    "if __name__ == \"__main__\":\n",
    "    # The API URL is passed as the first argument\n",
    "    api_url = sys.argv[1]\n",
    "    \n",
    "    # Fetch and print the user location\n",
    "    fetch_user_location(api_url)"
   ]
  },
  {
   "cell_type": "markdown",
   "metadata": {},
   "source": [
    "## 3. First launch"
   ]
  },
  {
   "cell_type": "code",
   "execution_count": 8,
   "metadata": {},
   "outputs": [],
   "source": [
    "def fetch_first_launch():\n",
    "    # Fetch launches from SpaceX API\n",
    "    response = requests.get(\"https://api.spacexdata.com/v4/launches\")\n",
    "    launches = response.json()\n",
    "    \n",
    "    # Sort launches by date_unix\n",
    "    sorted_launches = sorted(launches, key=lambda x: x['date_unix'])\n",
    "    \n",
    "    # Get the first launch\n",
    "    first_launch = sorted_launches[0]\n",
    "    \n",
    "    # Extract required information\n",
    "    launch_name = first_launch['name']\n",
    "    launch_date = first_launch['date_local']\n",
    "    rocket_id = first_launch['rocket']\n",
    "    launchpad_id = first_launch['launchpad']\n",
    "    \n",
    "    # Fetch rocket details\n",
    "    rocket_response = requests.get(f\"https://api.spacexdata.com/v4/rockets/{rocket_id}\")\n",
    "    rocket_name = rocket_response.json()['name']\n",
    "    \n",
    "    # Fetch launchpad details\n",
    "    launchpad_response = requests.get(f\"https://api.spacexdata.com/v4/launchpads/{launchpad_id}\")\n",
    "    launchpad_data = launchpad_response.json()\n",
    "    launchpad_name = launchpad_data['name']\n",
    "    launchpad_locality = launchpad_data['locality']\n",
    "    \n",
    "    # Print the information\n",
    "    print(f\"{launch_name} ({launch_date}) {rocket_name} - {launchpad_name} ({launchpad_locality})\")"
   ]
  },
  {
   "cell_type": "code",
   "execution_count": 9,
   "metadata": {},
   "outputs": [
    {
     "name": "stdout",
     "output_type": "stream",
     "text": [
      "FalconSat (2006-03-25T10:30:00+12:00) Falcon 1 - Kwajalein Atoll (Omelek Island)\n"
     ]
    }
   ],
   "source": [
    "# the script is not executed when imported\n",
    "if __name__ == \"__main__\":\n",
    "    fetch_first_launch()"
   ]
  },
  {
   "cell_type": "markdown",
   "metadata": {},
   "source": [
    "## 4. How many by rocket? "
   ]
  },
  {
   "cell_type": "code",
   "execution_count": 3,
   "metadata": {},
   "outputs": [],
   "source": [
    "import requests\n",
    "from collections import Counter"
   ]
  },
  {
   "cell_type": "code",
   "execution_count": 4,
   "metadata": {},
   "outputs": [],
   "source": [
    "def fetch_launches_per_rocket():\n",
    "    # Initialize rocket count dictionary\n",
    "    rocket_count = Counter()\n",
    "    \n",
    "    # Fetch launches from SpaceX API\n",
    "    response = requests.get(\"https://api.spacexdata.com/v3/launches\")\n",
    "    launches = response.json()\n",
    "    \n",
    "    # Count launches per rocket\n",
    "    for launch in launches:\n",
    "        rocket_id = launch['rocket']['rocket_id']\n",
    "        \n",
    "        # Fetch rocket details\n",
    "        rocket_response = requests.get(f\"https://api.spacexdata.com/v3/rockets/{rocket_id}\")\n",
    "        rocket_name = rocket_response.json()['rocket_name']\n",
    "        \n",
    "        # Increment rocket count\n",
    "        rocket_count[rocket_name] += 1\n",
    "    \n",
    "    # Sort by number of launches and then by rocket name\n",
    "    sorted_rockets = sorted(rocket_count.items(), key=lambda x: (-x[1], x[0]))\n",
    "    \n",
    "    # Print the sorted rocket count\n",
    "    for rocket, count in sorted_rockets:\n",
    "        print(f\"{rocket}: {count}\")"
   ]
  },
  {
   "cell_type": "code",
   "execution_count": 5,
   "metadata": {},
   "outputs": [
    {
     "name": "stdout",
     "output_type": "stream",
     "text": [
      "Falcon 9: 103\n",
      "Falcon 1: 5\n",
      "Falcon Heavy: 3\n"
     ]
    }
   ],
   "source": [
    "# Ensure the script is not executed when imported\n",
    "if __name__ == \"__main__\":\n",
    "    fetch_launches_per_rocket()"
   ]
  }
 ],
 "metadata": {
  "kernelspec": {
   "display_name": "Python 3",
   "language": "python",
   "name": "python3"
  },
  "language_info": {
   "codemirror_mode": {
    "name": "ipython",
    "version": 3
   },
   "file_extension": ".py",
   "mimetype": "text/x-python",
   "name": "python",
   "nbconvert_exporter": "python",
   "pygments_lexer": "ipython3",
   "version": "3.10.11"
  }
 },
 "nbformat": 4,
 "nbformat_minor": 2
}
