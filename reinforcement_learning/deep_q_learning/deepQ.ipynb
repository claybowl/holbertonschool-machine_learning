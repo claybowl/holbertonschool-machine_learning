{
 "cells": [
  {
   "cell_type": "markdown",
   "metadata": {},
   "source": [
    "# Imports and Version Control"
   ]
  },
  {
   "cell_type": "code",
   "execution_count": 18,
   "metadata": {},
   "outputs": [
    {
     "name": "stdout",
     "output_type": "stream",
     "text": [
      "Requirement already satisfied: gym in c:\\users\\clayb\\appdata\\roaming\\python\\python310\\site-packages (0.26.2)\n",
      "Requirement already satisfied: numpy>=1.18.0 in c:\\users\\clayb\\anaconda3\\envs\\deep_py\\lib\\site-packages (from gym) (1.24.3)\n",
      "Requirement already satisfied: cloudpickle>=1.2.0 in c:\\users\\clayb\\appdata\\roaming\\python\\python310\\site-packages (from gym) (2.2.1)\n",
      "Requirement already satisfied: gym-notices>=0.0.4 in c:\\users\\clayb\\appdata\\roaming\\python\\python310\\site-packages (from gym) (0.0.8)\n",
      "Requirement already satisfied: keras==2.2.4 in c:\\users\\clayb\\anaconda3\\envs\\deep_py\\lib\\site-packages (2.2.4)\n",
      "Requirement already satisfied: numpy>=1.9.1 in c:\\users\\clayb\\anaconda3\\envs\\deep_py\\lib\\site-packages (from keras==2.2.4) (1.24.3)\n",
      "Requirement already satisfied: scipy>=0.14 in c:\\users\\clayb\\appdata\\roaming\\python\\python310\\site-packages (from keras==2.2.4) (1.11.2)\n",
      "Requirement already satisfied: six>=1.9.0 in c:\\users\\clayb\\anaconda3\\envs\\deep_py\\lib\\site-packages (from keras==2.2.4) (1.16.0)\n",
      "Requirement already satisfied: pyyaml in c:\\users\\clayb\\anaconda3\\envs\\deep_py\\lib\\site-packages (from keras==2.2.4) (6.0.1)\n",
      "Requirement already satisfied: h5py in c:\\users\\clayb\\appdata\\roaming\\python\\python310\\site-packages (from keras==2.2.4) (3.9.0)\n",
      "Requirement already satisfied: keras-applications>=1.0.6 in c:\\users\\clayb\\appdata\\roaming\\python\\python310\\site-packages (from keras==2.2.4) (1.0.8)\n",
      "Requirement already satisfied: keras-preprocessing>=1.0.5 in c:\\users\\clayb\\appdata\\roaming\\python\\python310\\site-packages (from keras==2.2.4) (1.1.2)\n",
      "Requirement already satisfied: keras-rl in c:\\users\\clayb\\appdata\\roaming\\python\\python310\\site-packages (0.4.2)\n",
      "Requirement already satisfied: keras>=2.0.7 in c:\\users\\clayb\\anaconda3\\envs\\deep_py\\lib\\site-packages (from keras-rl) (2.2.4)\n",
      "Requirement already satisfied: numpy>=1.9.1 in c:\\users\\clayb\\anaconda3\\envs\\deep_py\\lib\\site-packages (from keras>=2.0.7->keras-rl) (1.24.3)\n",
      "Requirement already satisfied: scipy>=0.14 in c:\\users\\clayb\\appdata\\roaming\\python\\python310\\site-packages (from keras>=2.0.7->keras-rl) (1.11.2)\n",
      "Requirement already satisfied: six>=1.9.0 in c:\\users\\clayb\\anaconda3\\envs\\deep_py\\lib\\site-packages (from keras>=2.0.7->keras-rl) (1.16.0)\n",
      "Requirement already satisfied: pyyaml in c:\\users\\clayb\\anaconda3\\envs\\deep_py\\lib\\site-packages (from keras>=2.0.7->keras-rl) (6.0.1)\n",
      "Requirement already satisfied: h5py in c:\\users\\clayb\\appdata\\roaming\\python\\python310\\site-packages (from keras>=2.0.7->keras-rl) (3.9.0)\n",
      "Requirement already satisfied: keras-applications>=1.0.6 in c:\\users\\clayb\\appdata\\roaming\\python\\python310\\site-packages (from keras>=2.0.7->keras-rl) (1.0.8)\n",
      "Requirement already satisfied: keras-preprocessing>=1.0.5 in c:\\users\\clayb\\appdata\\roaming\\python\\python310\\site-packages (from keras>=2.0.7->keras-rl) (1.1.2)\n",
      "Requirement already satisfied: h5py in c:\\users\\clayb\\appdata\\roaming\\python\\python310\\site-packages (3.9.0)\n",
      "Requirement already satisfied: numpy>=1.17.3 in c:\\users\\clayb\\anaconda3\\envs\\deep_py\\lib\\site-packages (from h5py) (1.24.3)\n",
      "Requirement already satisfied: Pillow in c:\\users\\clayb\\anaconda3\\envs\\deep_py\\lib\\site-packages (10.0.0)\n"
     ]
    }
   ],
   "source": [
    "import tensorflow as tf\n",
    "# tf.logging.set_verbosity(tf.logging.ERROR)\n",
    "\n",
    "import numpy as np\n",
    "!pip install gym\n",
    "!pip install keras==2.2.4\n",
    "!pip install keras-rl\n",
    "!pip install h5py\n",
    "!pip install Pillow\n",
    "\n",
    "import gym"
   ]
  },
  {
   "cell_type": "code",
   "execution_count": 19,
   "metadata": {},
   "outputs": [
    {
     "name": "stdout",
     "output_type": "stream",
     "text": [
      "Collecting gymnasium\n",
      "  Obtaining dependency information for gymnasium from https://files.pythonhosted.org/packages/a8/4d/3cbfd81ed84db450dbe73a89afcd8bc405273918415649ac6683356afe92/gymnasium-0.29.1-py3-none-any.whl.metadata\n",
      "  Downloading gymnasium-0.29.1-py3-none-any.whl.metadata (10 kB)\n",
      "Requirement already satisfied: numpy>=1.21.0 in c:\\users\\clayb\\anaconda3\\envs\\deep_py\\lib\\site-packages (from gymnasium) (1.24.3)\n",
      "Requirement already satisfied: cloudpickle>=1.2.0 in c:\\users\\clayb\\appdata\\roaming\\python\\python310\\site-packages (from gymnasium) (2.2.1)\n",
      "Requirement already satisfied: typing-extensions>=4.3.0 in c:\\users\\clayb\\anaconda3\\envs\\deep_py\\lib\\site-packages (from gymnasium) (4.5.0)\n",
      "Collecting farama-notifications>=0.0.1 (from gymnasium)\n",
      "  Downloading Farama_Notifications-0.0.4-py3-none-any.whl (2.5 kB)\n",
      "Downloading gymnasium-0.29.1-py3-none-any.whl (953 kB)\n",
      "   ---------------------------------------- 0.0/953.9 kB ? eta -:--:--\n",
      "   -- ------------------------------------- 61.4/953.9 kB 1.7 MB/s eta 0:00:01\n",
      "   ---------- ----------------------------- 256.0/953.9 kB 3.2 MB/s eta 0:00:01\n",
      "   ------------------------------------- -- 901.1/953.9 kB 6.3 MB/s eta 0:00:01\n",
      "   ---------------------------------------- 953.9/953.9 kB 6.0 MB/s eta 0:00:00\n",
      "Installing collected packages: farama-notifications, gymnasium\n",
      "Successfully installed farama-notifications-0.0.4 gymnasium-0.29.1\n"
     ]
    }
   ],
   "source": [
    "import numpy as np\n",
    "!pip install gymnasium\n",
    "# !pip install gym[atari,accept-rom-license]\n",
    "# import gym\n",
    "\n",
    "from keras.models import Sequential\n",
    "from keras.layers import Dense, Activation, Flatten, Convolution2D, Permute\n",
    "from keras.optimizers import Adam\n",
    "\n",
    "from rl.agents.dqn import DQNAgent\n",
    "from rl.policy import EpsGreedyQPolicy\n",
    "from rl.memory import SequentialMemory"
   ]
  },
  {
   "cell_type": "code",
   "execution_count": 21,
   "metadata": {},
   "outputs": [
    {
     "name": "stdout",
     "output_type": "stream",
     "text": [
      "Requirement already satisfied: gymnasium[atari] in c:\\users\\clayb\\anaconda3\\envs\\deep_py\\lib\\site-packages (0.29.1)\n",
      "Requirement already satisfied: numpy>=1.21.0 in c:\\users\\clayb\\anaconda3\\envs\\deep_py\\lib\\site-packages (from gymnasium[atari]) (1.24.3)\n",
      "Requirement already satisfied: cloudpickle>=1.2.0 in c:\\users\\clayb\\appdata\\roaming\\python\\python310\\site-packages (from gymnasium[atari]) (2.2.1)\n",
      "Requirement already satisfied: typing-extensions>=4.3.0 in c:\\users\\clayb\\anaconda3\\envs\\deep_py\\lib\\site-packages (from gymnasium[atari]) (4.5.0)\n",
      "Requirement already satisfied: farama-notifications>=0.0.1 in c:\\users\\clayb\\anaconda3\\envs\\deep_py\\lib\\site-packages (from gymnasium[atari]) (0.0.4)\n",
      "Collecting shimmy[atari]<1.0,>=0.1.0 (from gymnasium[atari])\n",
      "  Downloading Shimmy-0.2.1-py3-none-any.whl (25 kB)\n",
      "Requirement already satisfied: ale-py~=0.8.1 in c:\\users\\clayb\\anaconda3\\envs\\deep_py\\lib\\site-packages (from shimmy[atari]<1.0,>=0.1.0->gymnasium[atari]) (0.8.1)\n",
      "Requirement already satisfied: importlib-resources in c:\\users\\clayb\\anaconda3\\envs\\deep_py\\lib\\site-packages (from ale-py~=0.8.1->shimmy[atari]<1.0,>=0.1.0->gymnasium[atari]) (6.0.1)\n",
      "Installing collected packages: shimmy\n",
      "Successfully installed shimmy-0.2.1\n"
     ]
    }
   ],
   "source": [
    "!pip install gymnasium[atari]"
   ]
  },
  {
   "cell_type": "code",
   "execution_count": 25,
   "metadata": {},
   "outputs": [],
   "source": [
    "import gymnasium"
   ]
  },
  {
   "cell_type": "markdown",
   "metadata": {},
   "source": [
    "# Train Model"
   ]
  },
  {
   "cell_type": "code",
   "execution_count": 26,
   "metadata": {},
   "outputs": [
    {
     "ename": "AttributeError",
     "evalue": "'dict' object has no attribute 'all'",
     "output_type": "error",
     "traceback": [
      "\u001b[1;31m---------------------------------------------------------------------------\u001b[0m",
      "\u001b[1;31mAttributeError\u001b[0m                            Traceback (most recent call last)",
      "\u001b[1;32mc:\\Users\\clayb\\Documents\\GitHub\\holbertonschool-machine_learning\\reinforcement_learning\\deep_q_learning\\deepQ.ipynb Cell 6\u001b[0m line \u001b[0;36m2\n\u001b[0;32m      <a href='vscode-notebook-cell:/c%3A/Users/clayb/Documents/GitHub/holbertonschool-machine_learning/reinforcement_learning/deep_q_learning/deepQ.ipynb#W4sZmlsZQ%3D%3D?line=0'>1</a>\u001b[0m \u001b[39mfrom\u001b[39;00m \u001b[39mgym\u001b[39;00m \u001b[39mimport\u001b[39;00m envs\n\u001b[1;32m----> <a href='vscode-notebook-cell:/c%3A/Users/clayb/Documents/GitHub/holbertonschool-machine_learning/reinforcement_learning/deep_q_learning/deepQ.ipynb#W4sZmlsZQ%3D%3D?line=1'>2</a>\u001b[0m env_ids \u001b[39m=\u001b[39m [spec\u001b[39m.\u001b[39mid \u001b[39mfor\u001b[39;00m spec \u001b[39min\u001b[39;00m envs\u001b[39m.\u001b[39;49mregistry\u001b[39m.\u001b[39;49mall()]\n\u001b[0;32m      <a href='vscode-notebook-cell:/c%3A/Users/clayb/Documents/GitHub/holbertonschool-machine_learning/reinforcement_learning/deep_q_learning/deepQ.ipynb#W4sZmlsZQ%3D%3D?line=2'>3</a>\u001b[0m env_ids\n",
      "\u001b[1;31mAttributeError\u001b[0m: 'dict' object has no attribute 'all'"
     ]
    }
   ],
   "source": [
    "from gym import envs\n",
    "env_ids = [spec.id for spec in envs.registry.all()]\n",
    "env_ids"
   ]
  },
  {
   "cell_type": "code",
   "execution_count": 27,
   "metadata": {},
   "outputs": [
    {
     "ename": "FileNotFoundError",
     "evalue": "Could not find module 'c:\\Users\\clayb\\Anaconda3\\envs\\deep_py\\lib\\site-packages\\atari_py\\ale_interface\\ale_c.dll' (or one of its dependencies). Try using the full path with constructor syntax.",
     "output_type": "error",
     "traceback": [
      "\u001b[1;31m---------------------------------------------------------------------------\u001b[0m",
      "\u001b[1;31mFileNotFoundError\u001b[0m                         Traceback (most recent call last)",
      "\u001b[1;32mc:\\Users\\clayb\\Documents\\GitHub\\holbertonschool-machine_learning\\reinforcement_learning\\deep_q_learning\\deepQ.ipynb Cell 8\u001b[0m line \u001b[0;36m4\n\u001b[0;32m      <a href='vscode-notebook-cell:/c%3A/Users/clayb/Documents/GitHub/holbertonschool-machine_learning/reinforcement_learning/deep_q_learning/deepQ.ipynb#X23sZmlsZQ%3D%3D?line=0'>1</a>\u001b[0m \u001b[39mimport\u001b[39;00m \u001b[39mgym\u001b[39;00m\n\u001b[0;32m      <a href='vscode-notebook-cell:/c%3A/Users/clayb/Documents/GitHub/holbertonschool-machine_learning/reinforcement_learning/deep_q_learning/deepQ.ipynb#X23sZmlsZQ%3D%3D?line=2'>3</a>\u001b[0m \u001b[39m# Initialize environment\u001b[39;00m\n\u001b[1;32m----> <a href='vscode-notebook-cell:/c%3A/Users/clayb/Documents/GitHub/holbertonschool-machine_learning/reinforcement_learning/deep_q_learning/deepQ.ipynb#X23sZmlsZQ%3D%3D?line=3'>4</a>\u001b[0m env \u001b[39m=\u001b[39m gym\u001b[39m.\u001b[39;49mmake(\u001b[39m'\u001b[39;49m\u001b[39mALE/Breakout-v5\u001b[39;49m\u001b[39m'\u001b[39;49m)\n\u001b[0;32m      <a href='vscode-notebook-cell:/c%3A/Users/clayb/Documents/GitHub/holbertonschool-machine_learning/reinforcement_learning/deep_q_learning/deepQ.ipynb#X23sZmlsZQ%3D%3D?line=5'>6</a>\u001b[0m \u001b[39m# Number of episodes\u001b[39;00m\n\u001b[0;32m      <a href='vscode-notebook-cell:/c%3A/Users/clayb/Documents/GitHub/holbertonschool-machine_learning/reinforcement_learning/deep_q_learning/deepQ.ipynb#X23sZmlsZQ%3D%3D?line=6'>7</a>\u001b[0m \u001b[39mfor\u001b[39;00m i_episode \u001b[39min\u001b[39;00m \u001b[39mrange\u001b[39m(\u001b[39m5\u001b[39m):\n",
      "File \u001b[1;32m~\\AppData\\Roaming\\Python\\Python310\\site-packages\\gym\\envs\\registration.py:640\u001b[0m, in \u001b[0;36mmake\u001b[1;34m(id, max_episode_steps, autoreset, apply_api_compatibility, disable_env_checker, **kwargs)\u001b[0m\n\u001b[0;32m    637\u001b[0m     render_mode \u001b[39m=\u001b[39m \u001b[39mNone\u001b[39;00m\n\u001b[0;32m    639\u001b[0m \u001b[39mtry\u001b[39;00m:\n\u001b[1;32m--> 640\u001b[0m     env \u001b[39m=\u001b[39m env_creator(\u001b[39m*\u001b[39m\u001b[39m*\u001b[39m_kwargs)\n\u001b[0;32m    641\u001b[0m \u001b[39mexcept\u001b[39;00m \u001b[39mTypeError\u001b[39;00m \u001b[39mas\u001b[39;00m e:\n\u001b[0;32m    642\u001b[0m     \u001b[39mif\u001b[39;00m (\n\u001b[0;32m    643\u001b[0m         \u001b[39mstr\u001b[39m(e)\u001b[39m.\u001b[39mfind(\u001b[39m\"\u001b[39m\u001b[39mgot an unexpected keyword argument \u001b[39m\u001b[39m'\u001b[39m\u001b[39mrender_mode\u001b[39m\u001b[39m'\u001b[39m\u001b[39m\"\u001b[39m) \u001b[39m>\u001b[39m\u001b[39m=\u001b[39m \u001b[39m0\u001b[39m\n\u001b[0;32m    644\u001b[0m         \u001b[39mand\u001b[39;00m apply_human_rendering\n\u001b[0;32m    645\u001b[0m     ):\n",
      "File \u001b[1;32mc:\\Users\\clayb\\Anaconda3\\envs\\deep_py\\lib\\site-packages\\ale_py\\env\\gym.py:155\u001b[0m, in \u001b[0;36mAtariEnv.__init__\u001b[1;34m(self, game, mode, difficulty, obs_type, frameskip, repeat_action_probability, full_action_space, max_num_frames_per_episode, render_mode)\u001b[0m\n\u001b[0;32m    152\u001b[0m     \u001b[39mself\u001b[39m\u001b[39m.\u001b[39male\u001b[39m.\u001b[39msetBool(\u001b[39m\"\u001b[39m\u001b[39msound\u001b[39m\u001b[39m\"\u001b[39m, \u001b[39mTrue\u001b[39;00m)\n\u001b[0;32m    154\u001b[0m \u001b[39m# Seed + Load\u001b[39;00m\n\u001b[1;32m--> 155\u001b[0m \u001b[39mself\u001b[39;49m\u001b[39m.\u001b[39;49mseed()\n\u001b[0;32m    157\u001b[0m \u001b[39mself\u001b[39m\u001b[39m.\u001b[39m_action_set \u001b[39m=\u001b[39m (\n\u001b[0;32m    158\u001b[0m     \u001b[39mself\u001b[39m\u001b[39m.\u001b[39male\u001b[39m.\u001b[39mgetLegalActionSet()\n\u001b[0;32m    159\u001b[0m     \u001b[39mif\u001b[39;00m full_action_space\n\u001b[0;32m    160\u001b[0m     \u001b[39melse\u001b[39;00m \u001b[39mself\u001b[39m\u001b[39m.\u001b[39male\u001b[39m.\u001b[39mgetMinimalActionSet()\n\u001b[0;32m    161\u001b[0m )\n\u001b[0;32m    162\u001b[0m \u001b[39mself\u001b[39m\u001b[39m.\u001b[39m_action_space \u001b[39m=\u001b[39m spaces\u001b[39m.\u001b[39mDiscrete(\u001b[39mlen\u001b[39m(\u001b[39mself\u001b[39m\u001b[39m.\u001b[39m_action_set))\n",
      "File \u001b[1;32mc:\\Users\\clayb\\Anaconda3\\envs\\deep_py\\lib\\site-packages\\ale_py\\env\\gym.py:205\u001b[0m, in \u001b[0;36mAtariEnv.seed\u001b[1;34m(self, seed)\u001b[0m\n\u001b[0;32m    201\u001b[0m \u001b[39m# ALE only takes signed integers for `setInt`, it'll get converted back\u001b[39;00m\n\u001b[0;32m    202\u001b[0m \u001b[39m# to unsigned in StellaEnvironment.\u001b[39;00m\n\u001b[0;32m    203\u001b[0m \u001b[39mself\u001b[39m\u001b[39m.\u001b[39male\u001b[39m.\u001b[39msetInt(\u001b[39m\"\u001b[39m\u001b[39mrandom_seed\u001b[39m\u001b[39m\"\u001b[39m, seed2\u001b[39m.\u001b[39mastype(np\u001b[39m.\u001b[39mint32))\n\u001b[1;32m--> 205\u001b[0m \u001b[39mif\u001b[39;00m \u001b[39mnot\u001b[39;00m \u001b[39mhasattr\u001b[39;49m(roms, \u001b[39mself\u001b[39;49m\u001b[39m.\u001b[39;49m_game):\n\u001b[0;32m    206\u001b[0m     \u001b[39mraise\u001b[39;00m error\u001b[39m.\u001b[39mError(\n\u001b[0;32m    207\u001b[0m         \u001b[39mf\u001b[39m\u001b[39m'\u001b[39m\u001b[39mWe\u001b[39m\u001b[39m\\'\u001b[39;00m\u001b[39mre Unable to find the game \u001b[39m\u001b[39m\"\u001b[39m\u001b[39m{\u001b[39;00m\u001b[39mself\u001b[39m\u001b[39m.\u001b[39m_game\u001b[39m}\u001b[39;00m\u001b[39m\"\u001b[39m\u001b[39m. Note: Gym no longer distributes ROMs. \u001b[39m\u001b[39m'\u001b[39m\n\u001b[0;32m    208\u001b[0m         \u001b[39mf\u001b[39m\u001b[39m\"\u001b[39m\u001b[39mIf you own a license to use the necessary ROMs for research purposes you can download them \u001b[39m\u001b[39m\"\u001b[39m\n\u001b[1;32m   (...)\u001b[0m\n\u001b[0;32m    213\u001b[0m         \u001b[39m\"\u001b[39m\u001b[39mhttps://github.com/mgbellemare/Arcade-Learning-Environment#rom-management\u001b[39m\u001b[39m\"\u001b[39m\n\u001b[0;32m    214\u001b[0m     )\n\u001b[0;32m    215\u001b[0m \u001b[39mself\u001b[39m\u001b[39m.\u001b[39male\u001b[39m.\u001b[39mloadROM(\u001b[39mgetattr\u001b[39m(roms, \u001b[39mself\u001b[39m\u001b[39m.\u001b[39m_game))\n",
      "File \u001b[1;32mc:\\Users\\clayb\\Anaconda3\\envs\\deep_py\\lib\\site-packages\\ale_py\\roms\\__init__.py:118\u001b[0m, in \u001b[0;36m__getattr__\u001b[1;34m(name)\u001b[0m\n\u001b[0;32m    115\u001b[0m \u001b[39mif\u001b[39;00m name \u001b[39mnot\u001b[39;00m \u001b[39min\u001b[39;00m roms:\n\u001b[0;32m    116\u001b[0m     \u001b[39mraise\u001b[39;00m \u001b[39mAttributeError\u001b[39;00m(\u001b[39mf\u001b[39m\u001b[39m\"\u001b[39m\u001b[39mNo ROM named \u001b[39m\u001b[39m{\u001b[39;00mname\u001b[39m}\u001b[39;00m\u001b[39m. Supported ROMs: \u001b[39m\u001b[39m{\u001b[39;00m\u001b[39m'\u001b[39m\u001b[39m, \u001b[39m\u001b[39m'\u001b[39m\u001b[39m.\u001b[39mjoin(roms)\u001b[39m}\u001b[39;00m\u001b[39m\"\u001b[39m)\n\u001b[1;32m--> 118\u001b[0m path \u001b[39m=\u001b[39m _resolve_rom(name)\n\u001b[0;32m    119\u001b[0m \u001b[39mif\u001b[39;00m path \u001b[39mis\u001b[39;00m \u001b[39mNone\u001b[39;00m:\n\u001b[0;32m    120\u001b[0m     \u001b[39mraise\u001b[39;00m \u001b[39mAttributeError\u001b[39;00m(\n\u001b[0;32m    121\u001b[0m         \u001b[39mf\u001b[39m\u001b[39m\"\u001b[39m\u001b[39mFailed to resolve ROM `\u001b[39m\u001b[39m{\u001b[39;00mname\u001b[39m}\u001b[39;00m\u001b[39m` from plugins \u001b[39m\u001b[39m\"\u001b[39m\n\u001b[0;32m    122\u001b[0m         \u001b[39mf\u001b[39m\u001b[39m\"\u001b[39m\u001b[39m{\u001b[39;00m\u001b[39m'\u001b[39m\u001b[39m, \u001b[39m\u001b[39m'\u001b[39m\u001b[39m.\u001b[39mjoin(\u001b[39mmap\u001b[39m(\u001b[39mlambda\u001b[39;00m plugin: \u001b[39mf\u001b[39m\u001b[39m'\u001b[39m\u001b[39m`\u001b[39m\u001b[39m{\u001b[39;00m\u001b[39mrepr\u001b[39m(plugin)\u001b[39m}\u001b[39;00m\u001b[39m`\u001b[39m\u001b[39m'\u001b[39m, _ROM_PLUGIN_REGISTRY))\u001b[39m}\u001b[39;00m\u001b[39m. \u001b[39m\u001b[39m\"\u001b[39m\n\u001b[1;32m   (...)\u001b[0m\n\u001b[0;32m    128\u001b[0m         \u001b[39m\"\u001b[39m\u001b[39mhttps://github.com/mgbellemare/Arcade-Learning-Environment#rom-management\u001b[39m\u001b[39m\"\u001b[39m\n\u001b[0;32m    129\u001b[0m     )\n",
      "File \u001b[1;32mc:\\Users\\clayb\\Anaconda3\\envs\\deep_py\\lib\\site-packages\\ale_py\\roms\\__init__.py:48\u001b[0m, in \u001b[0;36m_resolve_rom\u001b[1;34m(name)\u001b[0m\n\u001b[0;32m     46\u001b[0m \u001b[39m# Resolve ROM from package\u001b[39;00m\n\u001b[0;32m     47\u001b[0m \u001b[39mtry\u001b[39;00m:\n\u001b[1;32m---> 48\u001b[0m     rom_path \u001b[39m=\u001b[39m package\u001b[39m.\u001b[39;49mresolve(rom_id)\n\u001b[0;32m     49\u001b[0m \u001b[39mexcept\u001b[39;00m \u001b[39mModuleNotFoundError\u001b[39;00m:\n\u001b[0;32m     50\u001b[0m     \u001b[39mcontinue\u001b[39;00m\n",
      "File \u001b[1;32mc:\\Users\\clayb\\Anaconda3\\envs\\deep_py\\lib\\site-packages\\ale_py\\roms\\plugins.py:39\u001b[0m, in \u001b[0;36mPackage.resolve\u001b[1;34m(self, id)\u001b[0m\n\u001b[0;32m     38\u001b[0m \u001b[39mdef\u001b[39;00m \u001b[39mresolve\u001b[39m(\u001b[39mself\u001b[39m, \u001b[39mid\u001b[39m: \u001b[39mstr\u001b[39m) \u001b[39m-\u001b[39m\u001b[39m>\u001b[39m Optional[pathlib\u001b[39m.\u001b[39mPath]:\n\u001b[1;32m---> 39\u001b[0m     rom \u001b[39m=\u001b[39m resources\u001b[39m.\u001b[39;49mfiles(\u001b[39mself\u001b[39;49m\u001b[39m.\u001b[39;49mpackage)\u001b[39m.\u001b[39mjoinpath(\u001b[39mf\u001b[39m\u001b[39m\"\u001b[39m\u001b[39m{\u001b[39;00m\u001b[39mid\u001b[39m\u001b[39m}\u001b[39;00m\u001b[39m.bin\u001b[39m\u001b[39m\"\u001b[39m)\n\u001b[0;32m     40\u001b[0m     \u001b[39mif\u001b[39;00m \u001b[39mnot\u001b[39;00m rom\u001b[39m.\u001b[39mexists():\n\u001b[0;32m     41\u001b[0m         \u001b[39mreturn\u001b[39;00m \u001b[39mNone\u001b[39;00m\n",
      "File \u001b[1;32mc:\\Users\\clayb\\Anaconda3\\envs\\deep_py\\lib\\importlib\\_common.py:22\u001b[0m, in \u001b[0;36mfiles\u001b[1;34m(package)\u001b[0m\n\u001b[0;32m     17\u001b[0m \u001b[39mdef\u001b[39;00m \u001b[39mfiles\u001b[39m(package):\n\u001b[0;32m     18\u001b[0m     \u001b[39m# type: (Package) -> Traversable\u001b[39;00m\n\u001b[0;32m     19\u001b[0m     \u001b[39m\"\"\"\u001b[39;00m\n\u001b[0;32m     20\u001b[0m \u001b[39m    Get a Traversable resource from a package\u001b[39;00m\n\u001b[0;32m     21\u001b[0m \u001b[39m    \"\"\"\u001b[39;00m\n\u001b[1;32m---> 22\u001b[0m     \u001b[39mreturn\u001b[39;00m from_package(get_package(package))\n",
      "File \u001b[1;32mc:\\Users\\clayb\\Anaconda3\\envs\\deep_py\\lib\\importlib\\_common.py:66\u001b[0m, in \u001b[0;36mget_package\u001b[1;34m(package)\u001b[0m\n\u001b[0;32m     60\u001b[0m \u001b[39mdef\u001b[39;00m \u001b[39mget_package\u001b[39m(package):\n\u001b[0;32m     61\u001b[0m     \u001b[39m# type: (Package) -> types.ModuleType\u001b[39;00m\n\u001b[0;32m     62\u001b[0m     \u001b[39m\"\"\"Take a package name or module object and return the module.\u001b[39;00m\n\u001b[0;32m     63\u001b[0m \n\u001b[0;32m     64\u001b[0m \u001b[39m    Raise an exception if the resolved module is not a package.\u001b[39;00m\n\u001b[0;32m     65\u001b[0m \u001b[39m    \"\"\"\u001b[39;00m\n\u001b[1;32m---> 66\u001b[0m     resolved \u001b[39m=\u001b[39m resolve(package)\n\u001b[0;32m     67\u001b[0m     \u001b[39mif\u001b[39;00m wrap_spec(resolved)\u001b[39m.\u001b[39msubmodule_search_locations \u001b[39mis\u001b[39;00m \u001b[39mNone\u001b[39;00m:\n\u001b[0;32m     68\u001b[0m         \u001b[39mraise\u001b[39;00m \u001b[39mTypeError\u001b[39;00m(\u001b[39mf\u001b[39m\u001b[39m'\u001b[39m\u001b[39m{\u001b[39;00mpackage\u001b[39m!r}\u001b[39;00m\u001b[39m is not a package\u001b[39m\u001b[39m'\u001b[39m)\n",
      "File \u001b[1;32mc:\\Users\\clayb\\Anaconda3\\envs\\deep_py\\lib\\importlib\\_common.py:57\u001b[0m, in \u001b[0;36mresolve\u001b[1;34m(cand)\u001b[0m\n\u001b[0;32m     55\u001b[0m \u001b[39mdef\u001b[39;00m \u001b[39mresolve\u001b[39m(cand):\n\u001b[0;32m     56\u001b[0m     \u001b[39m# type: (Package) -> types.ModuleType\u001b[39;00m\n\u001b[1;32m---> 57\u001b[0m     \u001b[39mreturn\u001b[39;00m cand \u001b[39mif\u001b[39;00m \u001b[39misinstance\u001b[39m(cand, types\u001b[39m.\u001b[39mModuleType) \u001b[39melse\u001b[39;00m importlib\u001b[39m.\u001b[39;49mimport_module(cand)\n",
      "File \u001b[1;32mc:\\Users\\clayb\\Anaconda3\\envs\\deep_py\\lib\\importlib\\__init__.py:126\u001b[0m, in \u001b[0;36mimport_module\u001b[1;34m(name, package)\u001b[0m\n\u001b[0;32m    124\u001b[0m             \u001b[39mbreak\u001b[39;00m\n\u001b[0;32m    125\u001b[0m         level \u001b[39m+\u001b[39m\u001b[39m=\u001b[39m \u001b[39m1\u001b[39m\n\u001b[1;32m--> 126\u001b[0m \u001b[39mreturn\u001b[39;00m _bootstrap\u001b[39m.\u001b[39;49m_gcd_import(name[level:], package, level)\n",
      "File \u001b[1;32m<frozen importlib._bootstrap>:1050\u001b[0m, in \u001b[0;36m_gcd_import\u001b[1;34m(name, package, level)\u001b[0m\n",
      "File \u001b[1;32m<frozen importlib._bootstrap>:1027\u001b[0m, in \u001b[0;36m_find_and_load\u001b[1;34m(name, import_)\u001b[0m\n",
      "File \u001b[1;32m<frozen importlib._bootstrap>:992\u001b[0m, in \u001b[0;36m_find_and_load_unlocked\u001b[1;34m(name, import_)\u001b[0m\n",
      "File \u001b[1;32m<frozen importlib._bootstrap>:241\u001b[0m, in \u001b[0;36m_call_with_frames_removed\u001b[1;34m(f, *args, **kwds)\u001b[0m\n",
      "File \u001b[1;32m<frozen importlib._bootstrap>:1050\u001b[0m, in \u001b[0;36m_gcd_import\u001b[1;34m(name, package, level)\u001b[0m\n",
      "File \u001b[1;32m<frozen importlib._bootstrap>:1027\u001b[0m, in \u001b[0;36m_find_and_load\u001b[1;34m(name, import_)\u001b[0m\n",
      "File \u001b[1;32m<frozen importlib._bootstrap>:1006\u001b[0m, in \u001b[0;36m_find_and_load_unlocked\u001b[1;34m(name, import_)\u001b[0m\n",
      "File \u001b[1;32m<frozen importlib._bootstrap>:688\u001b[0m, in \u001b[0;36m_load_unlocked\u001b[1;34m(spec)\u001b[0m\n",
      "File \u001b[1;32m<frozen importlib._bootstrap_external>:883\u001b[0m, in \u001b[0;36mexec_module\u001b[1;34m(self, module)\u001b[0m\n",
      "File \u001b[1;32m<frozen importlib._bootstrap>:241\u001b[0m, in \u001b[0;36m_call_with_frames_removed\u001b[1;34m(f, *args, **kwds)\u001b[0m\n",
      "File \u001b[1;32mc:\\Users\\clayb\\Anaconda3\\envs\\deep_py\\lib\\site-packages\\atari_py\\__init__.py:1\u001b[0m\n\u001b[1;32m----> 1\u001b[0m \u001b[39mfrom\u001b[39;00m \u001b[39m.\u001b[39;00m\u001b[39male_python_interface\u001b[39;00m \u001b[39mimport\u001b[39;00m \u001b[39m*\u001b[39m\n\u001b[0;32m      2\u001b[0m \u001b[39mfrom\u001b[39;00m \u001b[39m.\u001b[39;00m\u001b[39mgames\u001b[39;00m \u001b[39mimport\u001b[39;00m get_game_path, list_games\n\u001b[0;32m      4\u001b[0m \u001b[39m# default to only logging errors\u001b[39;00m\n",
      "File \u001b[1;32mc:\\Users\\clayb\\Anaconda3\\envs\\deep_py\\lib\\site-packages\\atari_py\\ale_python_interface.py:17\u001b[0m\n\u001b[0;32m     14\u001b[0m     ale_lib \u001b[39m=\u001b[39m cdll\u001b[39m.\u001b[39mLoadLibrary(os\u001b[39m.\u001b[39mpath\u001b[39m.\u001b[39mjoin(os\u001b[39m.\u001b[39mpath\u001b[39m.\u001b[39mdirname(\u001b[39m__file__\u001b[39m),\n\u001b[0;32m     15\u001b[0m                                             \u001b[39m'\u001b[39m\u001b[39male_interface/libale_c.so\u001b[39m\u001b[39m'\u001b[39m))\n\u001b[0;32m     16\u001b[0m \u001b[39melse\u001b[39;00m:\n\u001b[1;32m---> 17\u001b[0m     ale_lib \u001b[39m=\u001b[39m cdll\u001b[39m.\u001b[39;49mLoadLibrary(os\u001b[39m.\u001b[39;49mpath\u001b[39m.\u001b[39;49mjoin(os\u001b[39m.\u001b[39;49mpath\u001b[39m.\u001b[39;49mdirname(\u001b[39m__file__\u001b[39;49m),\n\u001b[0;32m     18\u001b[0m                                             \u001b[39m'\u001b[39;49m\u001b[39male_interface/ale_c.dll\u001b[39;49m\u001b[39m'\u001b[39;49m))\n\u001b[0;32m     20\u001b[0m ale_lib\u001b[39m.\u001b[39mALE_new\u001b[39m.\u001b[39margtypes \u001b[39m=\u001b[39m \u001b[39mNone\u001b[39;00m\n\u001b[0;32m     21\u001b[0m ale_lib\u001b[39m.\u001b[39mALE_new\u001b[39m.\u001b[39mrestype \u001b[39m=\u001b[39m c_void_p\n",
      "File \u001b[1;32mc:\\Users\\clayb\\Anaconda3\\envs\\deep_py\\lib\\ctypes\\__init__.py:452\u001b[0m, in \u001b[0;36mLibraryLoader.LoadLibrary\u001b[1;34m(self, name)\u001b[0m\n\u001b[0;32m    451\u001b[0m \u001b[39mdef\u001b[39;00m \u001b[39mLoadLibrary\u001b[39m(\u001b[39mself\u001b[39m, name):\n\u001b[1;32m--> 452\u001b[0m     \u001b[39mreturn\u001b[39;00m \u001b[39mself\u001b[39;49m\u001b[39m.\u001b[39;49m_dlltype(name)\n",
      "File \u001b[1;32mc:\\Users\\clayb\\Anaconda3\\envs\\deep_py\\lib\\ctypes\\__init__.py:374\u001b[0m, in \u001b[0;36mCDLL.__init__\u001b[1;34m(self, name, mode, handle, use_errno, use_last_error, winmode)\u001b[0m\n\u001b[0;32m    371\u001b[0m \u001b[39mself\u001b[39m\u001b[39m.\u001b[39m_FuncPtr \u001b[39m=\u001b[39m _FuncPtr\n\u001b[0;32m    373\u001b[0m \u001b[39mif\u001b[39;00m handle \u001b[39mis\u001b[39;00m \u001b[39mNone\u001b[39;00m:\n\u001b[1;32m--> 374\u001b[0m     \u001b[39mself\u001b[39m\u001b[39m.\u001b[39m_handle \u001b[39m=\u001b[39m _dlopen(\u001b[39mself\u001b[39;49m\u001b[39m.\u001b[39;49m_name, mode)\n\u001b[0;32m    375\u001b[0m \u001b[39melse\u001b[39;00m:\n\u001b[0;32m    376\u001b[0m     \u001b[39mself\u001b[39m\u001b[39m.\u001b[39m_handle \u001b[39m=\u001b[39m handle\n",
      "\u001b[1;31mFileNotFoundError\u001b[0m: Could not find module 'c:\\Users\\clayb\\Anaconda3\\envs\\deep_py\\lib\\site-packages\\atari_py\\ale_interface\\ale_c.dll' (or one of its dependencies). Try using the full path with constructor syntax."
     ]
    }
   ],
   "source": [
    "import gym\n",
    "\n",
    "# Initialize environment\n",
    "env = gym.make('ALE/Breakout-v5')\n",
    "\n",
    "# Number of episodes\n",
    "for i_episode in range(5):\n",
    "    observation = env.reset()\n",
    "    for t in range(1000):\n",
    "        env.render()\n",
    "        action = env.action_space.sample()  # Take a random action\n",
    "        observation, reward, done, info = env.step(action)\n",
    "        if done:\n",
    "            print(f\"Episode finished after {t+1} timesteps\")\n",
    "            break\n",
    "\n",
    "env.close()"
   ]
  },
  {
   "cell_type": "code",
   "execution_count": null,
   "metadata": {},
   "outputs": [],
   "source": [
    "# Initialize Gym environment\n",
    "ENV_NAME = 'Breakout-v0'\n",
    "env = gym.make(ENV_NAME)\n",
    "np.random.seed(123)\n",
    "env.seed(123)"
   ]
  },
  {
   "cell_type": "code",
   "execution_count": null,
   "metadata": {},
   "outputs": [],
   "source": [
    "# Number of actions\n",
    "nb_actions = env.action_space.n"
   ]
  },
  {
   "cell_type": "code",
   "execution_count": null,
   "metadata": {},
   "outputs": [],
   "source": [
    "# Define the model architecture\n",
    "input_shape = (84, 84)\n",
    "window_length = 4\n",
    "\n",
    "model = Sequential()\n",
    "model.add(Permute((2, 3, 1), input_shape=(window_length,) + input_shape))\n",
    "model.add(Convolution2D(32, (8, 8), strides=(4, 4)))\n",
    "model.add(Activation('relu'))\n",
    "model.add(Convolution2D(64, (4, 4), strides=(2, 2)))\n",
    "model.add(Activation('relu'))\n",
    "model.add(Convolution2D(64, (3, 3), strides=(1, 1)))\n",
    "model.add(Activation('relu'))\n",
    "model.add(Flatten())\n",
    "model.add(Dense(512))\n",
    "model.add(Activation('relu'))\n",
    "model.add(Dense(nb_actions))\n",
    "model.add(Activation('linear'))"
   ]
  },
  {
   "cell_type": "code",
   "execution_count": null,
   "metadata": {},
   "outputs": [],
   "source": [
    "# Configure and compile the agent\n",
    "memory = SequentialMemory(limit=1000000, window_length=window_length)\n",
    "policy = EpsGreedyQPolicy()\n",
    "dqn = DQNAgent(model=model, nb_actions=nb_actions, memory=memory, nb_steps_warmup=50000,\n",
    "               target_model_update=10000, policy=policy)\n",
    "dqn.compile(Adam(lr=0.00025), metrics=['mae'])"
   ]
  },
  {
   "cell_type": "code",
   "execution_count": null,
   "metadata": {},
   "outputs": [],
   "source": [
    "# Train the agent\n",
    "dqn.fit(env, nb_steps=1750000, visualize=False, verbose=2)"
   ]
  },
  {
   "cell_type": "code",
   "execution_count": null,
   "metadata": {},
   "outputs": [],
   "source": [
    "# Save the final policy network\n",
    "dqn.save_weights('policy.h5', overwrite=True)"
   ]
  },
  {
   "cell_type": "markdown",
   "metadata": {},
   "source": [
    "# Play Model"
   ]
  },
  {
   "cell_type": "code",
   "execution_count": null,
   "metadata": {},
   "outputs": [],
   "source": [
    "model = Sequential()\n",
    "model.add(Permute((2, 3, 1), input_shape=(window_length,) + input_shape))\n",
    "model.add(Convolution2D(32, (8, 8), strides=(4, 4)))\n",
    "model.add(Activation('relu'))\n",
    "model.add(Convolution2D(64, (4, 4), strides=(2, 2)))\n",
    "model.add(Activation('relu'))\n",
    "model.add(Convolution2D(64, (3, 3), strides=(1, 1)))\n",
    "model.add(Activation('relu'))\n",
    "model.add(Flatten())\n",
    "model.add(Dense(512))\n",
    "model.add(Activation('relu'))\n",
    "model.add(Dense(nb_actions))\n",
    "model.add(Activation('linear'))"
   ]
  },
  {
   "cell_type": "code",
   "execution_count": null,
   "metadata": {},
   "outputs": [],
   "source": [
    "# Configure and compile the agent\n",
    "memory = SequentialMemory(limit=1000000, window_length=window_length)\n",
    "policy = GreedyQPolicy()\n",
    "dqn = DQNAgent(model=model, nb_actions=nb_actions, memory=memory, nb_steps_warmup=50000,\n",
    "               target_model_update=10000, policy=policy)\n",
    "dqn.compile(Adam(lr=0.00025), metrics=['mae'])"
   ]
  },
  {
   "cell_type": "code",
   "execution_count": null,
   "metadata": {},
   "outputs": [],
   "source": [
    "# Load the trained weights\n",
    "dqn.load_weights('policy.h5')"
   ]
  },
  {
   "cell_type": "code",
   "execution_count": null,
   "metadata": {},
   "outputs": [],
   "source": [
    "# Evaluate the agent\n",
    "dqn.test(env, nb_episodes=10, visualize=True)"
   ]
  }
 ],
 "metadata": {
  "kernelspec": {
   "display_name": "deepQ",
   "language": "python",
   "name": "python3"
  },
  "language_info": {
   "codemirror_mode": {
    "name": "ipython",
    "version": 3
   },
   "file_extension": ".py",
   "mimetype": "text/x-python",
   "name": "python",
   "nbconvert_exporter": "python",
   "pygments_lexer": "ipython3",
   "version": "3.10.9"
  },
  "orig_nbformat": 4
 },
 "nbformat": 4,
 "nbformat_minor": 2
}
