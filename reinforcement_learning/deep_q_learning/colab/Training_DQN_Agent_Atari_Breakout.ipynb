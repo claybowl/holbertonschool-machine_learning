{
  "nbformat": 4,
  "nbformat_minor": 0,
  "metadata": {
    "colab": {
      "provenance": [],
      "gpuType": "T4"
    },
    "kernelspec": {
      "name": "python3",
      "display_name": "Python 3"
    },
    "language_info": {
      "name": "python"
    },
    "accelerator": "GPU"
  },
  "cells": [
    {
      "cell_type": "code",
      "execution_count": null,
      "metadata": {
        "id": "Tr8_NSsH72_C",
        "colab": {
          "base_uri": "https://localhost:8080/"
        },
        "outputId": "88190a30-11be-4811-a369-885057d6bc0a"
      },
      "outputs": [
        {
          "output_type": "stream",
          "name": "stdout",
          "text": [
            "\u001b[2K     \u001b[90m━━━━━━━━━━━━━━━━━━━━━━━━━━━━━━━━━━━━━━━\u001b[0m \u001b[32m588.3/588.3 MB\u001b[0m \u001b[31m1.3 MB/s\u001b[0m eta \u001b[36m0:00:00\u001b[0m\n",
            "\u001b[2K     \u001b[90m━━━━━━━━━━━━━━━━━━━━━━━━━━━━━━━━━━━━━━━━\u001b[0m \u001b[32m1.7/1.7 MB\u001b[0m \u001b[31m79.5 MB/s\u001b[0m eta \u001b[36m0:00:00\u001b[0m\n",
            "\u001b[2K     \u001b[90m━━━━━━━━━━━━━━━━━━━━━━━━━━━━━━━━━━━━━━━━\u001b[0m \u001b[32m1.1/1.1 MB\u001b[0m \u001b[31m63.9 MB/s\u001b[0m eta \u001b[36m0:00:00\u001b[0m\n",
            "\u001b[2K     \u001b[90m━━━━━━━━━━━━━━━━━━━━━━━━━━━━━━━━━━━━━━━━\u001b[0m \u001b[32m6.0/6.0 MB\u001b[0m \u001b[31m105.7 MB/s\u001b[0m eta \u001b[36m0:00:00\u001b[0m\n",
            "\u001b[2K     \u001b[90m━━━━━━━━━━━━━━━━━━━━━━━━━━━━━━━━━━━━━━\u001b[0m \u001b[32m439.2/439.2 kB\u001b[0m \u001b[31m38.2 MB/s\u001b[0m eta \u001b[36m0:00:00\u001b[0m\n",
            "\u001b[2K     \u001b[90m━━━━━━━━━━━━━━━━━━━━━━━━━━━━━━━━━━━━━━━━\u001b[0m \u001b[32m4.9/4.9 MB\u001b[0m \u001b[31m92.3 MB/s\u001b[0m eta \u001b[36m0:00:00\u001b[0m\n",
            "\u001b[2K     \u001b[90m━━━━━━━━━━━━━━━━━━━━━━━━━━━━━━━━━━━━━━\u001b[0m \u001b[32m781.3/781.3 kB\u001b[0m \u001b[31m62.6 MB/s\u001b[0m eta \u001b[36m0:00:00\u001b[0m\n",
            "\u001b[?25h\u001b[31mERROR: pip's dependency resolver does not currently take into account all the packages that are installed. This behaviour is the source of the following dependency conflicts.\n",
            "tensorflow-datasets 4.9.2 requires protobuf>=3.20, but you have protobuf 3.19.6 which is incompatible.\n",
            "tensorflow-metadata 1.14.0 requires protobuf<4.21,>=3.20.3, but you have protobuf 3.19.6 which is incompatible.\u001b[0m\u001b[31m\n",
            "\u001b[0m"
          ]
        }
      ],
      "source": [
        "import os\n",
        "import tensorflow as tf\n",
        "if tf.__version__!='2.11.0':\n",
        "  !pip install tensorflow==2.11.0 --quiet\n",
        "  os.kill(os.getpid(), 9)"
      ]
    },
    {
      "cell_type": "code",
      "source": [
        "!pip install keras-rl2 --quiet\n",
        "!pip install gym[atari] --quiet\n",
        "!pip install atari-py --quiet"
      ],
      "metadata": {
        "id": "jqih7m1vBlXK",
        "colab": {
          "base_uri": "https://localhost:8080/"
        },
        "outputId": "69b5978e-d808-4847-9165-d179820d748f"
      },
      "execution_count": null,
      "outputs": [
        {
          "output_type": "stream",
          "name": "stdout",
          "text": [
            "  Building wheel for atari-py (setup.py) ... \u001b[?25l\u001b[?25hdone\n"
          ]
        }
      ]
    },
    {
      "cell_type": "code",
      "source": [
        "from google.colab import drive\n",
        "drive.mount('/content/drive')"
      ],
      "metadata": {
        "colab": {
          "base_uri": "https://localhost:8080/"
        },
        "id": "BIApR5TMFAQ7",
        "outputId": "98e0c583-e809-45a8-efba-7e2aa51226da"
      },
      "execution_count": null,
      "outputs": [
        {
          "output_type": "stream",
          "name": "stdout",
          "text": [
            "Mounted at /content/drive\n"
          ]
        }
      ]
    },
    {
      "cell_type": "code",
      "source": [
        "!python -m atari_py.import_roms /content/drive/MyDrive/dqn/roms/"
      ],
      "metadata": {
        "colab": {
          "base_uri": "https://localhost:8080/"
        },
        "id": "SwsuK4fe8nJn",
        "outputId": "ad3ffb28-2628-4feb-ba53-a1632e604d02"
      },
      "execution_count": null,
      "outputs": [
        {
          "output_type": "stream",
          "name": "stdout",
          "text": [
            "copying breakout.bin from /content/drive/MyDrive/dqn/roms/Breakout - Breakaway IV.bin to /usr/local/lib/python3.10/dist-packages/atari_py/atari_roms/breakout.bin\n"
          ]
        }
      ]
    },
    {
      "cell_type": "code",
      "source": [
        "import gym\n",
        "from gym.envs.registration import register"
      ],
      "metadata": {
        "colab": {
          "base_uri": "https://localhost:8080/"
        },
        "id": "ZtAsxFXf-RpG",
        "outputId": "19e7635c-7b73-4755-ffd6-e8fc38c1d29d"
      },
      "execution_count": null,
      "outputs": [
        {
          "output_type": "stream",
          "name": "stderr",
          "text": [
            "/usr/local/lib/python3.10/dist-packages/ale_py/roms/__init__.py:89: DeprecationWarning: Automatic importing of atari-py roms won't be supported in future releases of ale-py. Please migrate over to using `ale-import-roms` OR an ALE-supported ROM package. To make this warning disappear you can run `ale-import-roms --import-from-pkg atari_py.atari_roms`.For more information see: https://github.com/mgbellemare/Arcade-Learning-Environment#rom-management\n",
            "  ROMS = resolve_roms()\n"
          ]
        }
      ]
    },
    {
      "cell_type": "code",
      "source": [
        "register(\n",
        "    id='Breakout-v4',\n",
        "    entry_point='gym.envs.atari:AtariEnv',\n",
        "    kwargs={'game': 'breakout', 'obs_type': 'image', 'frameskip': 1},\n",
        "    max_episode_steps=10000,\n",
        "    nondeterministic=False,\n",
        ")"
      ],
      "metadata": {
        "colab": {
          "base_uri": "https://localhost:8080/"
        },
        "id": "U4ZIIwGJ-VcZ",
        "outputId": "678675af-142e-416f-a4ac-3555b44c2909"
      },
      "execution_count": null,
      "outputs": [
        {
          "output_type": "stream",
          "name": "stderr",
          "text": [
            "/usr/local/lib/python3.10/dist-packages/gym/envs/registration.py:542: UserWarning: \u001b[33mWARN: Overriding environment Breakout-v4\u001b[0m\n",
            "  logger.warn(f\"Overriding environment {spec.id}\")\n"
          ]
        }
      ]
    },
    {
      "cell_type": "code",
      "source": [
        "from __future__ import division\n",
        "import argparse\n",
        "\n",
        "from PIL import Image\n",
        "import numpy as np\n",
        "import gym\n",
        "\n",
        "from tensorflow.keras.models import Sequential\n",
        "from tensorflow.keras.layers import Dense, Activation, Flatten, Convolution2D, Permute\n",
        "from tensorflow.keras.optimizers.legacy import Adam\n",
        "import tensorflow.keras.backend as K\n",
        "\n",
        "from rl.agents.dqn import DQNAgent\n",
        "from rl.policy import LinearAnnealedPolicy, BoltzmannQPolicy, EpsGreedyQPolicy\n",
        "from rl.memory import SequentialMemory\n",
        "from rl.core import Processor\n",
        "from rl.callbacks import FileLogger, ModelIntervalCheckpoint\n",
        "\n",
        "\n",
        "INPUT_SHAPE = (84, 84)\n",
        "WINDOW_LENGTH = 4\n",
        "\n",
        "\n",
        "class AtariProcessor(Processor):\n",
        "    def process_observation(self, observation):\n",
        "        assert observation.ndim == 3  # (height, width, channel)\n",
        "        img = Image.fromarray(observation)\n",
        "        img = img.resize(INPUT_SHAPE).convert('L')  # resize and convert to grayscale\n",
        "        processed_observation = np.array(img)\n",
        "        assert processed_observation.shape == INPUT_SHAPE\n",
        "        return processed_observation.astype('uint8')  # saves storage in experience memory\n",
        "\n",
        "    def process_state_batch(self, batch):\n",
        "        # We could perform this processing step in `process_observation`. In this case, however,\n",
        "        # we would need to store a `float32` array instead, which is 4x more memory intensive than\n",
        "        # an `uint8` array. This matters if we store 1M observations.\n",
        "        processed_batch = batch.astype('float32') / 255.\n",
        "        return processed_batch\n",
        "\n",
        "    def process_reward(self, reward):\n",
        "        return np.clip(reward, -1., 1.)\n",
        "\n",
        "# parser = argparse.ArgumentParser()\n",
        "# parser.add_argument('--mode', choices=['train', 'test'], default='train')\n",
        "# parser.add_argument('--env-name', type=str, default='BreakoutDeterministic-v4')\n",
        "# parser.add_argument('--weights', type=str, default=None)\n",
        "# args = parser.parse_args()\n",
        "\n",
        "env_name = 'Breakout-v4'\n",
        "mode = 'train'\n",
        "weights = None\n",
        "\n",
        "# Get the environment and extract the number of actions.\n",
        "env = gym.make(env_name)\n",
        "np.random.seed(123)\n",
        "env.seed(123)\n",
        "nb_actions = env.action_space.n\n",
        "\n",
        "# Next, we build our model. We use the same model that was described by Mnih et al. (2015).\n",
        "input_shape = (WINDOW_LENGTH,) + INPUT_SHAPE\n",
        "model = Sequential()\n",
        "\n",
        "# (width, height, channels)\n",
        "model.add(Permute((2, 3, 1), input_shape=input_shape))\n",
        "\n",
        "model.add(Convolution2D(32, (8, 8), strides=(4, 4)))\n",
        "model.add(Activation('relu'))\n",
        "model.add(Convolution2D(64, (4, 4), strides=(2, 2)))\n",
        "model.add(Activation('relu'))\n",
        "model.add(Convolution2D(64, (3, 3), strides=(1, 1)))\n",
        "model.add(Activation('relu'))\n",
        "model.add(Flatten())\n",
        "model.add(Dense(512))\n",
        "model.add(Activation('relu'))\n",
        "model.add(Dense(nb_actions))\n",
        "model.add(Activation('linear'))\n",
        "print(model.summary())\n",
        "\n",
        "# Finally, we configure and compile our agent. You can use every built-in tensorflow.keras optimizer and\n",
        "# even the metrics!\n",
        "memory = SequentialMemory(limit=1000000, window_length=WINDOW_LENGTH)\n",
        "processor = AtariProcessor()\n",
        "\n",
        "# Select a policy. We use eps-greedy action selection, which means that a random action is selected\n",
        "# with probability eps. We anneal eps from 1.0 to 0.1 over the course of 1M steps. This is done so that\n",
        "# the agent initially explores the environment (high eps) and then gradually sticks to what it knows\n",
        "# (low eps). We also set a dedicated eps value that is used during testing. Note that we set it to 0.05\n",
        "# so that the agent still performs some random actions. This ensures that the agent cannot get stuck.\n",
        "policy = LinearAnnealedPolicy(EpsGreedyQPolicy(), attr='eps', value_max=1., value_min=.1, value_test=.05,\n",
        "                              nb_steps=1000000)\n",
        "\n",
        "# The trade-off between exploration and exploitation is difficult and an on-going research topic.\n",
        "# If you want, you can experiment with the parameters or use a different policy. Another popular one\n",
        "# is Boltzmann-style exploration:\n",
        "# policy = BoltzmannQPolicy(tau=1.)\n",
        "# Feel free to give it a try!\n",
        "\n",
        "dqn = DQNAgent(model=model, nb_actions=nb_actions, policy=policy, memory=memory,\n",
        "               processor=processor, nb_steps_warmup=50000, gamma=.99, target_model_update=10000,\n",
        "               train_interval=4, delta_clip=1.)\n",
        "dqn.compile(Adam(learning_rate=.00025), metrics=['mae'])"
      ],
      "metadata": {
        "colab": {
          "base_uri": "https://localhost:8080/"
        },
        "id": "xQQv6pV0-Wix",
        "outputId": "45d57f82-bb31-4b30-a972-ffc135dba0e9"
      },
      "execution_count": null,
      "outputs": [
        {
          "output_type": "stream",
          "name": "stderr",
          "text": [
            "/usr/local/lib/python3.10/dist-packages/gym/envs/atari/environment.py:68: UserWarning: \u001b[33mWARN: obs_type \"image\" should be replaced with the image type, one of: rgb, grayscale\u001b[0m\n",
            "  logger.warn(\n",
            "/usr/local/lib/python3.10/dist-packages/gym/core.py:317: DeprecationWarning: \u001b[33mWARN: Initializing wrapper in old step API which returns one bool instead of two. It is recommended to set `new_step_api=True` to use new step API. This will be the default behaviour in future.\u001b[0m\n",
            "  deprecation(\n",
            "/usr/local/lib/python3.10/dist-packages/gym/wrappers/step_api_compatibility.py:39: DeprecationWarning: \u001b[33mWARN: Initializing environment in old step API which returns one bool instead of two. It is recommended to set `new_step_api=True` to use new step API. This will be the default behaviour in future.\u001b[0m\n",
            "  deprecation(\n"
          ]
        },
        {
          "output_type": "stream",
          "name": "stdout",
          "text": [
            "Model: \"sequential\"\n",
            "_________________________________________________________________\n",
            " Layer (type)                Output Shape              Param #   \n",
            "=================================================================\n",
            " permute (Permute)           (None, 84, 84, 4)         0         \n",
            "                                                                 \n",
            " conv2d (Conv2D)             (None, 20, 20, 32)        8224      \n",
            "                                                                 \n",
            " activation (Activation)     (None, 20, 20, 32)        0         \n",
            "                                                                 \n",
            " conv2d_1 (Conv2D)           (None, 9, 9, 64)          32832     \n",
            "                                                                 \n",
            " activation_1 (Activation)   (None, 9, 9, 64)          0         \n",
            "                                                                 \n",
            " conv2d_2 (Conv2D)           (None, 7, 7, 64)          36928     \n",
            "                                                                 \n",
            " activation_2 (Activation)   (None, 7, 7, 64)          0         \n",
            "                                                                 \n",
            " flatten (Flatten)           (None, 3136)              0         \n",
            "                                                                 \n",
            " dense (Dense)               (None, 512)               1606144   \n",
            "                                                                 \n",
            " activation_3 (Activation)   (None, 512)               0         \n",
            "                                                                 \n",
            " dense_1 (Dense)             (None, 4)                 2052      \n",
            "                                                                 \n",
            " activation_4 (Activation)   (None, 4)                 0         \n",
            "                                                                 \n",
            "=================================================================\n",
            "Total params: 1,686,180\n",
            "Trainable params: 1,686,180\n",
            "Non-trainable params: 0\n",
            "_________________________________________________________________\n",
            "None\n"
          ]
        },
        {
          "output_type": "stream",
          "name": "stderr",
          "text": [
            "WARNING:tensorflow:From /usr/local/lib/python3.10/dist-packages/tensorflow/python/autograph/pyct/static_analysis/liveness.py:83: Analyzer.lamba_check (from tensorflow.python.autograph.pyct.static_analysis.liveness) is deprecated and will be removed after 2023-09-23.\n",
            "Instructions for updating:\n",
            "Lambda fuctions will be no more assumed to be used in the statement where they are used, or at least in the same block. https://github.com/tensorflow/tensorflow/issues/56089\n"
          ]
        }
      ]
    },
    {
      "cell_type": "code",
      "source": [
        "# Okay, now it's time to learn something! We capture the interrupt exception so that training\n",
        "# can be prematurely aborted. Notice that now you can use the built-in tensorflow.keras callbacks!\n",
        "weights_filename = f'/content/drive/MyDrive/dqn/dqn_{env_name}_weights.h5f'\n",
        "checkpoint_weights_filename = 'dqn_' + env_name + '_weights_{step}.h5f'\n",
        "log_filename = f'/content/drive/MyDrive/dqn/dqn_{env_name}_log.json'\n",
        "callbacks = [ModelIntervalCheckpoint(checkpoint_weights_filename, interval=250000)]\n",
        "callbacks += [FileLogger(log_filename, interval=100)]\n",
        "dqn.fit(env, callbacks=callbacks, nb_steps=1750000, log_interval=10000, verbose = 2)\n",
        "\n",
        "# After training is done, we save the final weights one more time.\n",
        "dqn.save_weights(weights_filename, overwrite=True)\n",
        "\n",
        "# Finally, evaluate our algorithm for 10 episodes.\n",
        "dqn.test(env, nb_episodes=10, visualize=False)"
      ],
      "metadata": {
        "colab": {
          "base_uri": "https://localhost:8080/"
        },
        "id": "ef03bJ-kAyx7",
        "outputId": "d862a366-1321-429f-e091-59b757e51b64"
      },
      "execution_count": null,
      "outputs": [
        {
          "metadata": {
            "tags": null
          },
          "name": "stdout",
          "output_type": "stream",
          "text": [
            "Training for 1750000 steps ...\n"
          ]
        },
        {
          "metadata": {
            "tags": null
          },
          "name": "stderr",
          "output_type": "stream",
          "text": [
            "/usr/local/lib/python3.10/dist-packages/keras/engine/training_v1.py:2357: UserWarning: `Model.state_updates` will be removed in a future version. This property should not be used in TensorFlow 2.0, as `updates` are applied automatically.\n",
            "  updates=self.state_updates,\n",
            "/usr/local/lib/python3.10/dist-packages/gym/utils/passive_env_checker.py:227: DeprecationWarning: \u001b[33mWARN: Core environment is written in old step API which returns one bool instead of two. It is recommended to rewrite the environment with new step API. \u001b[0m\n",
            "  logger.deprecation(\n"
          ]
        },
        {
          "output_type": "stream",
          "name": "stdout",
          "text": [
            "     809/1750000: episode: 1, duration: 11.261s, episode steps: 809, steps per second:  72, episode reward:  2.000, mean reward:  0.002 [ 0.000,  1.000], mean action: 1.533 [0.000, 3.000],  loss: --, mae: --, mean_q: --, mean_eps: --\n",
            "    1305/1750000: episode: 2, duration: 1.821s, episode steps: 496, steps per second: 272, episode reward:  0.000, mean reward:  0.000 [ 0.000,  0.000], mean action: 1.510 [0.000, 3.000],  loss: --, mae: --, mean_q: --, mean_eps: --\n",
            "    2765/1750000: episode: 3, duration: 8.969s, episode steps: 1460, steps per second: 163, episode reward:  5.000, mean reward:  0.003 [ 0.000,  1.000], mean action: 1.546 [0.000, 3.000],  loss: --, mae: --, mean_q: --, mean_eps: --\n",
            "    3263/1750000: episode: 4, duration: 3.553s, episode steps: 498, steps per second: 140, episode reward:  0.000, mean reward:  0.000 [ 0.000,  0.000], mean action: 1.556 [0.000, 3.000],  loss: --, mae: --, mean_q: --, mean_eps: --\n",
            "    3974/1750000: episode: 5, duration: 2.695s, episode steps: 711, steps per second: 264, episode reward:  1.000, mean reward:  0.001 [ 0.000,  1.000], mean action: 1.444 [0.000, 3.000],  loss: --, mae: --, mean_q: --, mean_eps: --\n",
            "    4475/1750000: episode: 6, duration: 1.760s, episode steps: 501, steps per second: 285, episode reward:  0.000, mean reward:  0.000 [ 0.000,  0.000], mean action: 1.511 [0.000, 3.000],  loss: --, mae: --, mean_q: --, mean_eps: --\n",
            "    5153/1750000: episode: 7, duration: 2.410s, episode steps: 678, steps per second: 281, episode reward:  1.000, mean reward:  0.001 [ 0.000,  1.000], mean action: 1.577 [0.000, 3.000],  loss: --, mae: --, mean_q: --, mean_eps: --\n",
            "    5793/1750000: episode: 8, duration: 2.337s, episode steps: 640, steps per second: 274, episode reward:  1.000, mean reward:  0.002 [ 0.000,  1.000], mean action: 1.425 [0.000, 3.000],  loss: --, mae: --, mean_q: --, mean_eps: --\n",
            "    6630/1750000: episode: 9, duration: 4.230s, episode steps: 837, steps per second: 198, episode reward:  2.000, mean reward:  0.002 [ 0.000,  1.000], mean action: 1.470 [0.000, 3.000],  loss: --, mae: --, mean_q: --, mean_eps: --\n",
            "    7145/1750000: episode: 10, duration: 2.980s, episode steps: 515, steps per second: 173, episode reward:  0.000, mean reward:  0.000 [ 0.000,  0.000], mean action: 1.555 [0.000, 3.000],  loss: --, mae: --, mean_q: --, mean_eps: --\n",
            "    8142/1750000: episode: 11, duration: 3.635s, episode steps: 997, steps per second: 274, episode reward:  3.000, mean reward:  0.003 [ 0.000,  1.000], mean action: 1.524 [0.000, 3.000],  loss: --, mae: --, mean_q: --, mean_eps: --\n",
            "    8820/1750000: episode: 12, duration: 2.407s, episode steps: 678, steps per second: 282, episode reward:  1.000, mean reward:  0.001 [ 0.000,  1.000], mean action: 1.476 [0.000, 3.000],  loss: --, mae: --, mean_q: --, mean_eps: --\n",
            "    9747/1750000: episode: 13, duration: 3.284s, episode steps: 927, steps per second: 282, episode reward:  3.000, mean reward:  0.003 [ 0.000,  1.000], mean action: 1.467 [0.000, 3.000],  loss: --, mae: --, mean_q: --, mean_eps: --\n",
            "   10362/1750000: episode: 14, duration: 3.023s, episode steps: 615, steps per second: 203, episode reward:  1.000, mean reward:  0.002 [ 0.000,  1.000], mean action: 1.475 [0.000, 3.000],  loss: --, mae: --, mean_q: --, mean_eps: --\n",
            "   10855/1750000: episode: 15, duration: 2.909s, episode steps: 493, steps per second: 169, episode reward:  0.000, mean reward:  0.000 [ 0.000,  0.000], mean action: 1.416 [0.000, 3.000],  loss: --, mae: --, mean_q: --, mean_eps: --\n",
            "   11467/1750000: episode: 16, duration: 2.697s, episode steps: 612, steps per second: 227, episode reward:  1.000, mean reward:  0.002 [ 0.000,  1.000], mean action: 1.489 [0.000, 3.000],  loss: --, mae: --, mean_q: --, mean_eps: --\n",
            "   12219/1750000: episode: 17, duration: 2.751s, episode steps: 752, steps per second: 273, episode reward:  2.000, mean reward:  0.003 [ 0.000,  1.000], mean action: 1.512 [0.000, 3.000],  loss: --, mae: --, mean_q: --, mean_eps: --\n",
            "   12720/1750000: episode: 18, duration: 1.797s, episode steps: 501, steps per second: 279, episode reward:  0.000, mean reward:  0.000 [ 0.000,  0.000], mean action: 1.499 [0.000, 3.000],  loss: --, mae: --, mean_q: --, mean_eps: --\n",
            "   13722/1750000: episode: 19, duration: 3.522s, episode steps: 1002, steps per second: 285, episode reward:  3.000, mean reward:  0.003 [ 0.000,  1.000], mean action: 1.427 [0.000, 3.000],  loss: --, mae: --, mean_q: --, mean_eps: --\n",
            "   14225/1750000: episode: 20, duration: 2.650s, episode steps: 503, steps per second: 190, episode reward:  0.000, mean reward:  0.000 [ 0.000,  0.000], mean action: 1.575 [0.000, 3.000],  loss: --, mae: --, mean_q: --, mean_eps: --\n",
            "   15409/1750000: episode: 21, duration: 5.798s, episode steps: 1184, steps per second: 204, episode reward:  4.000, mean reward:  0.003 [ 0.000,  1.000], mean action: 1.497 [0.000, 3.000],  loss: --, mae: --, mean_q: --, mean_eps: --\n",
            "   15923/1750000: episode: 22, duration: 1.876s, episode steps: 514, steps per second: 274, episode reward:  0.000, mean reward:  0.000 [ 0.000,  0.000], mean action: 1.551 [0.000, 3.000],  loss: --, mae: --, mean_q: --, mean_eps: --\n",
            "   16438/1750000: episode: 23, duration: 1.851s, episode steps: 515, steps per second: 278, episode reward:  0.000, mean reward:  0.000 [ 0.000,  0.000], mean action: 1.443 [0.000, 3.000],  loss: --, mae: --, mean_q: --, mean_eps: --\n",
            "   17320/1750000: episode: 24, duration: 3.142s, episode steps: 882, steps per second: 281, episode reward:  2.000, mean reward:  0.002 [ 0.000,  1.000], mean action: 1.571 [0.000, 3.000],  loss: --, mae: --, mean_q: --, mean_eps: --\n",
            "   18007/1750000: episode: 25, duration: 3.058s, episode steps: 687, steps per second: 225, episode reward:  1.000, mean reward:  0.001 [ 0.000,  1.000], mean action: 1.477 [0.000, 3.000],  loss: --, mae: --, mean_q: --, mean_eps: --\n",
            "   18528/1750000: episode: 26, duration: 3.066s, episode steps: 521, steps per second: 170, episode reward:  0.000, mean reward:  0.000 [ 0.000,  0.000], mean action: 1.443 [0.000, 3.000],  loss: --, mae: --, mean_q: --, mean_eps: --\n",
            "   19032/1750000: episode: 27, duration: 2.221s, episode steps: 504, steps per second: 227, episode reward:  0.000, mean reward:  0.000 [ 0.000,  0.000], mean action: 1.464 [0.000, 3.000],  loss: --, mae: --, mean_q: --, mean_eps: --\n",
            "   19676/1750000: episode: 28, duration: 2.319s, episode steps: 644, steps per second: 278, episode reward:  1.000, mean reward:  0.002 [ 0.000,  1.000], mean action: 1.567 [0.000, 3.000],  loss: --, mae: --, mean_q: --, mean_eps: --\n",
            "   20179/1750000: episode: 29, duration: 1.804s, episode steps: 503, steps per second: 279, episode reward:  0.000, mean reward:  0.000 [ 0.000,  0.000], mean action: 1.481 [0.000, 3.000],  loss: --, mae: --, mean_q: --, mean_eps: --\n",
            "   20870/1750000: episode: 30, duration: 2.439s, episode steps: 691, steps per second: 283, episode reward:  1.000, mean reward:  0.001 [ 0.000,  1.000], mean action: 1.457 [0.000, 3.000],  loss: --, mae: --, mean_q: --, mean_eps: --\n",
            "   21505/1750000: episode: 31, duration: 2.270s, episode steps: 635, steps per second: 280, episode reward:  1.000, mean reward:  0.002 [ 0.000,  1.000], mean action: 1.450 [0.000, 3.000],  loss: --, mae: --, mean_q: --, mean_eps: --\n",
            "   22002/1750000: episode: 32, duration: 3.021s, episode steps: 497, steps per second: 164, episode reward:  0.000, mean reward:  0.000 [ 0.000,  0.000], mean action: 1.511 [0.000, 3.000],  loss: --, mae: --, mean_q: --, mean_eps: --\n",
            "   22931/1750000: episode: 33, duration: 4.223s, episode steps: 929, steps per second: 220, episode reward:  3.000, mean reward:  0.003 [ 0.000,  1.000], mean action: 1.510 [0.000, 3.000],  loss: --, mae: --, mean_q: --, mean_eps: --\n",
            "   23438/1750000: episode: 34, duration: 1.777s, episode steps: 507, steps per second: 285, episode reward:  0.000, mean reward:  0.000 [ 0.000,  0.000], mean action: 1.387 [0.000, 3.000],  loss: --, mae: --, mean_q: --, mean_eps: --\n",
            "   24257/1750000: episode: 35, duration: 2.844s, episode steps: 819, steps per second: 288, episode reward:  2.000, mean reward:  0.002 [ 0.000,  1.000], mean action: 1.454 [0.000, 3.000],  loss: --, mae: --, mean_q: --, mean_eps: --\n",
            "   25336/1750000: episode: 36, duration: 3.907s, episode steps: 1079, steps per second: 276, episode reward:  3.000, mean reward:  0.003 [ 0.000,  1.000], mean action: 1.492 [0.000, 3.000],  loss: --, mae: --, mean_q: --, mean_eps: --\n",
            "   25845/1750000: episode: 37, duration: 3.102s, episode steps: 509, steps per second: 164, episode reward:  0.000, mean reward:  0.000 [ 0.000,  0.000], mean action: 1.491 [0.000, 3.000],  loss: --, mae: --, mean_q: --, mean_eps: --\n",
            "   26649/1750000: episode: 38, duration: 3.756s, episode steps: 804, steps per second: 214, episode reward:  2.000, mean reward:  0.002 [ 0.000,  1.000], mean action: 1.458 [0.000, 3.000],  loss: --, mae: --, mean_q: --, mean_eps: --\n",
            "   27158/1750000: episode: 39, duration: 1.824s, episode steps: 509, steps per second: 279, episode reward:  0.000, mean reward:  0.000 [ 0.000,  0.000], mean action: 1.436 [0.000, 3.000],  loss: --, mae: --, mean_q: --, mean_eps: --\n",
            "   27659/1750000: episode: 40, duration: 1.751s, episode steps: 501, steps per second: 286, episode reward:  0.000, mean reward:  0.000 [ 0.000,  0.000], mean action: 1.493 [0.000, 3.000],  loss: --, mae: --, mean_q: --, mean_eps: --\n",
            "   28844/1750000: episode: 41, duration: 4.148s, episode steps: 1185, steps per second: 286, episode reward:  4.000, mean reward:  0.003 [ 0.000,  1.000], mean action: 1.424 [0.000, 3.000],  loss: --, mae: --, mean_q: --, mean_eps: --\n",
            "   30115/1750000: episode: 42, duration: 6.612s, episode steps: 1271, steps per second: 192, episode reward:  4.000, mean reward:  0.003 [ 0.000,  1.000], mean action: 1.441 [0.000, 3.000],  loss: --, mae: --, mean_q: --, mean_eps: --\n",
            "   30888/1750000: episode: 43, duration: 2.675s, episode steps: 773, steps per second: 289, episode reward:  2.000, mean reward:  0.003 [ 0.000,  1.000], mean action: 1.472 [0.000, 3.000],  loss: --, mae: --, mean_q: --, mean_eps: --\n",
            "   31578/1750000: episode: 44, duration: 2.427s, episode steps: 690, steps per second: 284, episode reward:  1.000, mean reward:  0.001 [ 0.000,  1.000], mean action: 1.403 [0.000, 3.000],  loss: --, mae: --, mean_q: --, mean_eps: --\n",
            "   32104/1750000: episode: 45, duration: 1.883s, episode steps: 526, steps per second: 279, episode reward:  0.000, mean reward:  0.000 [ 0.000,  0.000], mean action: 1.382 [0.000, 3.000],  loss: --, mae: --, mean_q: --, mean_eps: --\n",
            "   32790/1750000: episode: 46, duration: 2.460s, episode steps: 686, steps per second: 279, episode reward:  1.000, mean reward:  0.001 [ 0.000,  1.000], mean action: 1.522 [0.000, 3.000],  loss: --, mae: --, mean_q: --, mean_eps: --\n",
            "   33324/1750000: episode: 47, duration: 3.091s, episode steps: 534, steps per second: 173, episode reward:  0.000, mean reward:  0.000 [ 0.000,  0.000], mean action: 1.393 [0.000, 3.000],  loss: --, mae: --, mean_q: --, mean_eps: --\n",
            "   33825/1750000: episode: 48, duration: 2.681s, episode steps: 501, steps per second: 187, episode reward:  0.000, mean reward:  0.000 [ 0.000,  0.000], mean action: 1.455 [0.000, 3.000],  loss: --, mae: --, mean_q: --, mean_eps: --\n",
            "   34331/1750000: episode: 49, duration: 1.833s, episode steps: 506, steps per second: 276, episode reward:  0.000, mean reward:  0.000 [ 0.000,  0.000], mean action: 1.435 [0.000, 3.000],  loss: --, mae: --, mean_q: --, mean_eps: --\n",
            "   35025/1750000: episode: 50, duration: 2.456s, episode steps: 694, steps per second: 283, episode reward:  1.000, mean reward:  0.001 [ 0.000,  1.000], mean action: 1.526 [0.000, 3.000],  loss: --, mae: --, mean_q: --, mean_eps: --\n",
            "   35531/1750000: episode: 51, duration: 1.800s, episode steps: 506, steps per second: 281, episode reward:  0.000, mean reward:  0.000 [ 0.000,  0.000], mean action: 1.482 [0.000, 3.000],  loss: --, mae: --, mean_q: --, mean_eps: --\n",
            "   36538/1750000: episode: 52, duration: 3.515s, episode steps: 1007, steps per second: 287, episode reward:  3.000, mean reward:  0.003 [ 0.000,  1.000], mean action: 1.458 [0.000, 3.000],  loss: --, mae: --, mean_q: --, mean_eps: --\n",
            "   38145/1750000: episode: 53, duration: 7.794s, episode steps: 1607, steps per second: 206, episode reward:  6.000, mean reward:  0.004 [ 0.000,  1.000], mean action: 1.416 [0.000, 3.000],  loss: --, mae: --, mean_q: --, mean_eps: --\n",
            "   38940/1750000: episode: 54, duration: 2.803s, episode steps: 795, steps per second: 284, episode reward:  2.000, mean reward:  0.003 [ 0.000,  1.000], mean action: 1.423 [0.000, 3.000],  loss: --, mae: --, mean_q: --, mean_eps: --\n",
            "   39945/1750000: episode: 55, duration: 3.575s, episode steps: 1005, steps per second: 281, episode reward:  3.000, mean reward:  0.003 [ 0.000,  1.000], mean action: 1.470 [0.000, 3.000],  loss: --, mae: --, mean_q: --, mean_eps: --\n",
            "   41054/1750000: episode: 56, duration: 5.667s, episode steps: 1109, steps per second: 196, episode reward:  4.000, mean reward:  0.004 [ 0.000,  1.000], mean action: 1.451 [0.000, 3.000],  loss: --, mae: --, mean_q: --, mean_eps: --\n",
            "   41996/1750000: episode: 57, duration: 3.776s, episode steps: 942, steps per second: 249, episode reward:  3.000, mean reward:  0.003 [ 0.000,  1.000], mean action: 1.489 [0.000, 3.000],  loss: --, mae: --, mean_q: --, mean_eps: --\n",
            "   42996/1750000: episode: 58, duration: 3.532s, episode steps: 1000, steps per second: 283, episode reward:  3.000, mean reward:  0.003 [ 0.000,  1.000], mean action: 1.434 [0.000, 3.000],  loss: --, mae: --, mean_q: --, mean_eps: --\n",
            "   43751/1750000: episode: 59, duration: 2.643s, episode steps: 755, steps per second: 286, episode reward:  2.000, mean reward:  0.003 [ 0.000,  1.000], mean action: 1.428 [0.000, 3.000],  loss: --, mae: --, mean_q: --, mean_eps: --\n",
            "   44556/1750000: episode: 60, duration: 4.013s, episode steps: 805, steps per second: 201, episode reward:  2.000, mean reward:  0.002 [ 0.000,  1.000], mean action: 1.441 [0.000, 3.000],  loss: --, mae: --, mean_q: --, mean_eps: --\n",
            "   45052/1750000: episode: 61, duration: 2.729s, episode steps: 496, steps per second: 182, episode reward:  0.000, mean reward:  0.000 [ 0.000,  0.000], mean action: 1.367 [0.000, 3.000],  loss: --, mae: --, mean_q: --, mean_eps: --\n",
            "   45981/1750000: episode: 62, duration: 3.228s, episode steps: 929, steps per second: 288, episode reward:  3.000, mean reward:  0.003 [ 0.000,  1.000], mean action: 1.416 [0.000, 3.000],  loss: --, mae: --, mean_q: --, mean_eps: --\n",
            "   46476/1750000: episode: 63, duration: 1.795s, episode steps: 495, steps per second: 276, episode reward:  0.000, mean reward:  0.000 [ 0.000,  0.000], mean action: 1.519 [0.000, 3.000],  loss: --, mae: --, mean_q: --, mean_eps: --\n",
            "   46980/1750000: episode: 64, duration: 1.775s, episode steps: 504, steps per second: 284, episode reward:  0.000, mean reward:  0.000 [ 0.000,  0.000], mean action: 1.484 [0.000, 3.000],  loss: --, mae: --, mean_q: --, mean_eps: --\n",
            "   47795/1750000: episode: 65, duration: 2.844s, episode steps: 815, steps per second: 287, episode reward:  2.000, mean reward:  0.002 [ 0.000,  1.000], mean action: 1.432 [0.000, 3.000],  loss: --, mae: --, mean_q: --, mean_eps: --\n",
            "   48422/1750000: episode: 66, duration: 3.649s, episode steps: 627, steps per second: 172, episode reward:  1.000, mean reward:  0.002 [ 0.000,  1.000], mean action: 1.424 [0.000, 3.000],  loss: --, mae: --, mean_q: --, mean_eps: --\n",
            "   49438/1750000: episode: 67, duration: 4.387s, episode steps: 1016, steps per second: 232, episode reward:  3.000, mean reward:  0.003 [ 0.000,  1.000], mean action: 1.447 [0.000, 3.000],  loss: --, mae: --, mean_q: --, mean_eps: --\n",
            "   49954/1750000: episode: 68, duration: 1.793s, episode steps: 516, steps per second: 288, episode reward:  0.000, mean reward:  0.000 [ 0.000,  0.000], mean action: 1.393 [0.000, 3.000],  loss: --, mae: --, mean_q: --, mean_eps: --\n"
          ]
        },
        {
          "output_type": "stream",
          "name": "stderr",
          "text": [
            "/usr/local/lib/python3.10/dist-packages/keras/engine/training_v1.py:2357: UserWarning: `Model.state_updates` will be removed in a future version. This property should not be used in TensorFlow 2.0, as `updates` are applied automatically.\n",
            "  updates=self.state_updates,\n"
          ]
        },
        {
          "output_type": "stream",
          "name": "stdout",
          "text": [
            "   50450/1750000: episode: 69, duration: 16.527s, episode steps: 496, steps per second:  30, episode reward:  0.000, mean reward:  0.000 [ 0.000,  0.000], mean action: 1.464 [0.000, 3.000],  loss: 0.001006, mae: 0.036553, mean_q: -0.030346, mean_eps: 0.954797\n",
            "   51294/1750000: episode: 70, duration: 27.740s, episode steps: 844, steps per second:  30, episode reward:  2.000, mean reward:  0.002 [ 0.000,  1.000], mean action: 1.562 [0.000, 3.000],  loss: 0.000770, mae: 0.034965, mean_q: -0.037727, mean_eps: 0.954215\n",
            "   51998/1750000: episode: 71, duration: 21.173s, episode steps: 704, steps per second:  33, episode reward:  1.000, mean reward:  0.001 [ 0.000,  1.000], mean action: 1.526 [0.000, 3.000],  loss: 0.001173, mae: 0.034489, mean_q: -0.037482, mean_eps: 0.953519\n",
            "   52810/1750000: episode: 72, duration: 26.656s, episode steps: 812, steps per second:  30, episode reward:  2.000, mean reward:  0.002 [ 0.000,  1.000], mean action: 1.458 [0.000, 3.000],  loss: 0.001551, mae: 0.034005, mean_q: -0.036147, mean_eps: 0.952836\n",
            "   53317/1750000: episode: 73, duration: 15.991s, episode steps: 507, steps per second:  32, episode reward:  0.000, mean reward:  0.000 [ 0.000,  0.000], mean action: 1.507 [0.000, 3.000],  loss: 0.001237, mae: 0.034216, mean_q: -0.038436, mean_eps: 0.952242\n",
            "   53826/1750000: episode: 74, duration: 16.000s, episode steps: 509, steps per second:  32, episode reward:  0.000, mean reward:  0.000 [ 0.000,  0.000], mean action: 1.525 [0.000, 3.000],  loss: 0.001364, mae: 0.034294, mean_q: -0.039014, mean_eps: 0.951785\n",
            "   54762/1750000: episode: 75, duration: 29.803s, episode steps: 936, steps per second:  31, episode reward:  3.000, mean reward:  0.003 [ 0.000,  1.000], mean action: 1.552 [0.000, 3.000],  loss: 0.001343, mae: 0.034467, mean_q: -0.039289, mean_eps: 0.951135\n",
            "   55265/1750000: episode: 76, duration: 15.662s, episode steps: 503, steps per second:  32, episode reward:  0.000, mean reward:  0.000 [ 0.000,  0.000], mean action: 1.586 [0.000, 3.000],  loss: 0.000877, mae: 0.034371, mean_q: -0.041102, mean_eps: 0.950487\n",
            "   55769/1750000: episode: 77, duration: 15.922s, episode steps: 504, steps per second:  32, episode reward:  0.000, mean reward:  0.000 [ 0.000,  0.000], mean action: 1.433 [0.000, 3.000],  loss: 0.000504, mae: 0.034881, mean_q: -0.043388, mean_eps: 0.950034\n",
            "   56783/1750000: episode: 78, duration: 31.624s, episode steps: 1014, steps per second:  32, episode reward:  3.000, mean reward:  0.003 [ 0.000,  1.000], mean action: 1.537 [0.000, 3.000],  loss: 0.000871, mae: 0.034604, mean_q: -0.041428, mean_eps: 0.949352\n",
            "   57673/1750000: episode: 79, duration: 28.445s, episode steps: 890, steps per second:  31, episode reward:  2.000, mean reward:  0.002 [ 0.000,  1.000], mean action: 1.474 [0.000, 3.000],  loss: 0.001897, mae: 0.034029, mean_q: -0.039103, mean_eps: 0.948495\n",
            "   58382/1750000: episode: 80, duration: 21.193s, episode steps: 709, steps per second:  33, episode reward:  1.000, mean reward:  0.001 [ 0.000,  1.000], mean action: 1.513 [0.000, 3.000],  loss: 0.001156, mae: 0.034246, mean_q: -0.039269, mean_eps: 0.947775\n",
            "   58893/1750000: episode: 81, duration: 15.987s, episode steps: 511, steps per second:  32, episode reward:  0.000, mean reward:  0.000 [ 0.000,  0.000], mean action: 1.485 [0.000, 3.000],  loss: 0.000867, mae: 0.034704, mean_q: -0.039447, mean_eps: 0.947226\n",
            "   59385/1750000: episode: 82, duration: 15.519s, episode steps: 492, steps per second:  32, episode reward:  0.000, mean reward:  0.000 [ 0.000,  0.000], mean action: 1.492 [0.000, 3.000],  loss: 0.000260, mae: 0.034948, mean_q: -0.043906, mean_eps: 0.946774\n",
            "   60079/1750000: episode: 83, duration: 22.907s, episode steps: 694, steps per second:  30, episode reward:  1.000, mean reward:  0.001 [ 0.000,  1.000], mean action: 1.519 [0.000, 3.000],  loss: 0.000456, mae: 0.034711, mean_q: -0.042901, mean_eps: 0.946241\n",
            "   60702/1750000: episode: 84, duration: 19.275s, episode steps: 623, steps per second:  32, episode reward:  1.000, mean reward:  0.002 [ 0.000,  1.000], mean action: 1.616 [0.000, 3.000],  loss: 0.000809, mae: 0.033494, mean_q: -0.039314, mean_eps: 0.945649\n",
            "   61193/1750000: episode: 85, duration: 15.566s, episode steps: 491, steps per second:  32, episode reward:  0.000, mean reward:  0.000 [ 0.000,  0.000], mean action: 1.442 [0.000, 3.000],  loss: 0.000386, mae: 0.033814, mean_q: -0.041068, mean_eps: 0.945147\n",
            "   61797/1750000: episode: 86, duration: 18.552s, episode steps: 604, steps per second:  33, episode reward:  1.000, mean reward:  0.002 [ 0.000,  1.000], mean action: 1.454 [0.000, 3.000],  loss: 0.000729, mae: 0.033625, mean_q: -0.040039, mean_eps: 0.944654\n",
            "   62471/1750000: episode: 87, duration: 21.017s, episode steps: 674, steps per second:  32, episode reward:  1.000, mean reward:  0.001 [ 0.000,  1.000], mean action: 1.458 [0.000, 3.000],  loss: 0.000845, mae: 0.033549, mean_q: -0.038512, mean_eps: 0.944079\n",
            "   63103/1750000: episode: 88, duration: 20.877s, episode steps: 632, steps per second:  30, episode reward:  1.000, mean reward:  0.002 [ 0.000,  1.000], mean action: 1.533 [0.000, 3.000],  loss: 0.000798, mae: 0.033507, mean_q: -0.040139, mean_eps: 0.943493\n",
            "   63603/1750000: episode: 89, duration: 15.878s, episode steps: 500, steps per second:  31, episode reward:  0.000, mean reward:  0.000 [ 0.000,  0.000], mean action: 1.508 [0.000, 3.000],  loss: 0.001008, mae: 0.033410, mean_q: -0.038966, mean_eps: 0.942983\n",
            "   64228/1750000: episode: 90, duration: 19.138s, episode steps: 625, steps per second:  33, episode reward:  1.000, mean reward:  0.002 [ 0.000,  1.000], mean action: 1.458 [0.000, 3.000],  loss: 0.000606, mae: 0.033672, mean_q: -0.040659, mean_eps: 0.942477\n",
            "   64746/1750000: episode: 91, duration: 16.284s, episode steps: 518, steps per second:  32, episode reward:  0.000, mean reward:  0.000 [ 0.000,  0.000], mean action: 1.535 [0.000, 3.000],  loss: 0.001205, mae: 0.033299, mean_q: -0.037759, mean_eps: 0.941963\n",
            "   65780/1750000: episode: 92, duration: 32.310s, episode steps: 1034, steps per second:  32, episode reward:  3.000, mean reward:  0.003 [ 0.000,  1.000], mean action: 1.486 [0.000, 3.000],  loss: 0.001342, mae: 0.033532, mean_q: -0.037984, mean_eps: 0.941264\n",
            "   66267/1750000: episode: 93, duration: 15.666s, episode steps: 487, steps per second:  31, episode reward:  0.000, mean reward:  0.000 [ 0.000,  0.000], mean action: 1.581 [0.000, 3.000],  loss: 0.001672, mae: 0.032973, mean_q: -0.036403, mean_eps: 0.940580\n",
            "   67070/1750000: episode: 94, duration: 26.339s, episode steps: 803, steps per second:  30, episode reward:  2.000, mean reward:  0.002 [ 0.000,  1.000], mean action: 1.574 [0.000, 3.000],  loss: 0.000551, mae: 0.033703, mean_q: -0.040771, mean_eps: 0.939999\n",
            "   68054/1750000: episode: 95, duration: 30.931s, episode steps: 984, steps per second:  32, episode reward:  3.000, mean reward:  0.003 [ 0.000,  1.000], mean action: 1.447 [0.000, 3.000],  loss: 0.000641, mae: 0.033547, mean_q: -0.040426, mean_eps: 0.939194\n",
            "   68546/1750000: episode: 96, duration: 15.458s, episode steps: 492, steps per second:  32, episode reward:  0.000, mean reward:  0.000 [ 0.000,  0.000], mean action: 1.453 [0.000, 3.000],  loss: 0.000767, mae: 0.033762, mean_q: -0.041425, mean_eps: 0.938530\n",
            "   69051/1750000: episode: 97, duration: 15.906s, episode steps: 505, steps per second:  32, episode reward:  0.000, mean reward:  0.000 [ 0.000,  0.000], mean action: 1.513 [0.000, 3.000],  loss: 0.001244, mae: 0.033303, mean_q: -0.038661, mean_eps: 0.938082\n",
            "   69662/1750000: episode: 98, duration: 18.950s, episode steps: 611, steps per second:  32, episode reward:  1.000, mean reward:  0.002 [ 0.000,  1.000], mean action: 1.457 [0.000, 3.000],  loss: 0.000922, mae: 0.033490, mean_q: -0.039587, mean_eps: 0.937580\n",
            "   70283/1750000: episode: 99, duration: 18.973s, episode steps: 621, steps per second:  33, episode reward:  1.000, mean reward:  0.002 [ 0.000,  1.000], mean action: 1.449 [0.000, 3.000],  loss: 0.000607, mae: 0.031823, mean_q: -0.038755, mean_eps: 0.937025\n",
            "   71192/1750000: episode: 100, duration: 29.014s, episode steps: 909, steps per second:  31, episode reward:  3.000, mean reward:  0.003 [ 0.000,  1.000], mean action: 1.487 [0.000, 3.000],  loss: 0.000277, mae: 0.029397, mean_q: -0.036822, mean_eps: 0.936338\n",
            "   71734/1750000: episode: 101, duration: 17.224s, episode steps: 542, steps per second:  31, episode reward:  0.000, mean reward:  0.000 [ 0.000,  0.000], mean action: 1.496 [0.000, 3.000],  loss: 0.000925, mae: 0.029152, mean_q: -0.033590, mean_eps: 0.935684\n",
            "   72838/1750000: episode: 102, duration: 36.712s, episode steps: 1104, steps per second:  30, episode reward:  4.000, mean reward:  0.004 [ 0.000,  1.000], mean action: 1.534 [0.000, 3.000],  loss: 0.000850, mae: 0.029190, mean_q: -0.033851, mean_eps: 0.934943\n",
            "   73740/1750000: episode: 103, duration: 27.366s, episode steps: 902, steps per second:  33, episode reward:  2.000, mean reward:  0.002 [ 0.000,  1.000], mean action: 1.476 [0.000, 3.000],  loss: 0.000977, mae: 0.029032, mean_q: -0.032914, mean_eps: 0.934041\n",
            "   74252/1750000: episode: 104, duration: 16.790s, episode steps: 512, steps per second:  30, episode reward:  0.000, mean reward:  0.000 [ 0.000,  0.000], mean action: 1.506 [0.000, 3.000],  loss: 0.001080, mae: 0.029073, mean_q: -0.034081, mean_eps: 0.933405\n",
            "   75185/1750000: episode: 105, duration: 28.840s, episode steps: 933, steps per second:  32, episode reward:  3.000, mean reward:  0.003 [ 0.000,  1.000], mean action: 1.556 [0.000, 3.000],  loss: 0.000806, mae: 0.029076, mean_q: -0.033871, mean_eps: 0.932754\n",
            "   75865/1750000: episode: 106, duration: 22.561s, episode steps: 680, steps per second:  30, episode reward:  1.000, mean reward:  0.001 [ 0.000,  1.000], mean action: 1.551 [0.000, 3.000],  loss: 0.000920, mae: 0.029072, mean_q: -0.032767, mean_eps: 0.932027\n",
            "   76583/1750000: episode: 107, duration: 21.509s, episode steps: 718, steps per second:  33, episode reward:  1.000, mean reward:  0.001 [ 0.000,  1.000], mean action: 1.423 [0.000, 3.000],  loss: 0.001210, mae: 0.029035, mean_q: -0.033163, mean_eps: 0.931398\n",
            "   77091/1750000: episode: 108, duration: 16.037s, episode steps: 508, steps per second:  32, episode reward:  0.000, mean reward:  0.000 [ 0.000,  0.000], mean action: 1.467 [0.000, 3.000],  loss: 0.000613, mae: 0.029191, mean_q: -0.034656, mean_eps: 0.930848\n",
            "   77593/1750000: episode: 109, duration: 16.014s, episode steps: 502, steps per second:  31, episode reward:  0.000, mean reward:  0.000 [ 0.000,  0.000], mean action: 1.614 [0.000, 3.000],  loss: 0.001103, mae: 0.029018, mean_q: -0.032967, mean_eps: 0.930392\n",
            "   78205/1750000: episode: 110, duration: 21.271s, episode steps: 612, steps per second:  29, episode reward:  1.000, mean reward:  0.002 [ 0.000,  1.000], mean action: 1.549 [0.000, 3.000],  loss: 0.001008, mae: 0.029083, mean_q: -0.034438, mean_eps: 0.929890\n",
            "   78995/1750000: episode: 111, duration: 23.862s, episode steps: 790, steps per second:  33, episode reward:  2.000, mean reward:  0.003 [ 0.000,  1.000], mean action: 1.484 [0.000, 3.000],  loss: 0.000922, mae: 0.029853, mean_q: -0.033604, mean_eps: 0.929260\n",
            "   79496/1750000: episode: 112, duration: 15.978s, episode steps: 501, steps per second:  31, episode reward:  0.000, mean reward:  0.000 [ 0.000,  0.000], mean action: 1.495 [0.000, 3.000],  loss: 0.001191, mae: 0.028916, mean_q: -0.031318, mean_eps: 0.928680\n",
            "   80007/1750000: episode: 113, duration: 16.580s, episode steps: 511, steps per second:  31, episode reward:  0.000, mean reward:  0.000 [ 0.000,  0.000], mean action: 1.474 [0.000, 3.000],  loss: 0.000941, mae: 0.029587, mean_q: -0.032557, mean_eps: 0.928225\n",
            "   80818/1750000: episode: 114, duration: 28.034s, episode steps: 811, steps per second:  29, episode reward:  2.000, mean reward:  0.002 [ 0.000,  1.000], mean action: 1.541 [0.000, 3.000],  loss: 0.000907, mae: 0.026748, mean_q: -0.028637, mean_eps: 0.927629\n",
            "   81434/1750000: episode: 115, duration: 19.568s, episode steps: 616, steps per second:  31, episode reward:  1.000, mean reward:  0.002 [ 0.000,  1.000], mean action: 1.570 [0.000, 3.000],  loss: 0.000680, mae: 0.026793, mean_q: -0.029784, mean_eps: 0.926987\n",
            "   82135/1750000: episode: 116, duration: 23.839s, episode steps: 701, steps per second:  29, episode reward:  1.000, mean reward:  0.001 [ 0.000,  1.000], mean action: 1.506 [0.000, 3.000],  loss: 0.000681, mae: 0.026626, mean_q: -0.029862, mean_eps: 0.926394\n",
            "   82630/1750000: episode: 117, duration: 15.760s, episode steps: 495, steps per second:  31, episode reward:  0.000, mean reward:  0.000 [ 0.000,  0.000], mean action: 1.414 [0.000, 3.000],  loss: 0.000461, mae: 0.026684, mean_q: -0.030495, mean_eps: 0.925856\n",
            "   83123/1750000: episode: 118, duration: 16.256s, episode steps: 493, steps per second:  30, episode reward:  0.000, mean reward:  0.000 [ 0.000,  0.000], mean action: 1.444 [0.000, 3.000],  loss: 0.000631, mae: 0.027242, mean_q: -0.030142, mean_eps: 0.925412\n",
            "   83769/1750000: episode: 119, duration: 20.429s, episode steps: 646, steps per second:  32, episode reward:  1.000, mean reward:  0.002 [ 0.000,  1.000], mean action: 1.420 [0.000, 3.000],  loss: 0.000772, mae: 0.026534, mean_q: -0.029987, mean_eps: 0.924899\n",
            "   84858/1750000: episode: 120, duration: 35.783s, episode steps: 1089, steps per second:  30, episode reward:  3.000, mean reward:  0.003 [ 0.000,  1.000], mean action: 1.522 [0.000, 3.000],  loss: 0.001114, mae: 0.026949, mean_q: -0.028033, mean_eps: 0.924117\n",
            "   85794/1750000: episode: 121, duration: 30.582s, episode steps: 936, steps per second:  31, episode reward:  3.000, mean reward:  0.003 [ 0.000,  1.000], mean action: 1.569 [0.000, 3.000],  loss: 0.000848, mae: 0.027036, mean_q: -0.029126, mean_eps: 0.923207\n",
            "   86680/1750000: episode: 122, duration: 28.933s, episode steps: 886, steps per second:  31, episode reward:  2.000, mean reward:  0.002 [ 0.000,  1.000], mean action: 1.465 [0.000, 3.000],  loss: 0.000952, mae: 0.026808, mean_q: -0.028963, mean_eps: 0.922388\n",
            "   87708/1750000: episode: 123, duration: 34.565s, episode steps: 1028, steps per second:  30, episode reward:  3.000, mean reward:  0.003 [ 0.000,  1.000], mean action: 1.512 [0.000, 3.000],  loss: 0.000587, mae: 0.027030, mean_q: -0.030344, mean_eps: 0.921527\n",
            "   88206/1750000: episode: 124, duration: 16.394s, episode steps: 498, steps per second:  30, episode reward:  0.000, mean reward:  0.000 [ 0.000,  0.000], mean action: 1.526 [0.000, 3.000],  loss: 0.000607, mae: 0.027089, mean_q: -0.029134, mean_eps: 0.920840\n",
            "   88711/1750000: episode: 125, duration: 17.313s, episode steps: 505, steps per second:  29, episode reward:  0.000, mean reward:  0.000 [ 0.000,  0.000], mean action: 1.515 [0.000, 3.000],  loss: 0.000662, mae: 0.026826, mean_q: -0.030317, mean_eps: 0.920388\n",
            "   89650/1750000: episode: 126, duration: 30.838s, episode steps: 939, steps per second:  30, episode reward:  3.000, mean reward:  0.003 [ 0.000,  1.000], mean action: 1.439 [0.000, 3.000],  loss: 0.000917, mae: 0.027388, mean_q: -0.028854, mean_eps: 0.919738\n",
            "   90356/1750000: episode: 127, duration: 22.302s, episode steps: 706, steps per second:  32, episode reward:  1.000, mean reward:  0.001 [ 0.000,  1.000], mean action: 1.548 [0.000, 3.000],  loss: 0.000806, mae: 0.025145, mean_q: -0.023999, mean_eps: 0.918998\n",
            "   91460/1750000: episode: 128, duration: 35.547s, episode steps: 1104, steps per second:  31, episode reward:  4.000, mean reward:  0.004 [ 0.000,  1.000], mean action: 1.542 [0.000, 3.000],  loss: 0.000791, mae: 0.022401, mean_q: -0.019269, mean_eps: 0.918185\n",
            "   91967/1750000: episode: 129, duration: 17.427s, episode steps: 507, steps per second:  29, episode reward:  0.000, mean reward:  0.000 [ 0.000,  0.000], mean action: 1.509 [0.000, 3.000],  loss: 0.000401, mae: 0.021562, mean_q: -0.021812, mean_eps: 0.917459\n",
            "   92465/1750000: episode: 130, duration: 16.547s, episode steps: 498, steps per second:  30, episode reward:  0.000, mean reward:  0.000 [ 0.000,  0.000], mean action: 1.472 [0.000, 3.000],  loss: 0.000692, mae: 0.022571, mean_q: -0.020494, mean_eps: 0.917006\n",
            "   93165/1750000: episode: 131, duration: 22.002s, episode steps: 700, steps per second:  32, episode reward:  1.000, mean reward:  0.001 [ 0.000,  1.000], mean action: 1.519 [0.000, 3.000],  loss: 0.000577, mae: 0.022584, mean_q: -0.020048, mean_eps: 0.916466\n",
            "   93911/1750000: episode: 132, duration: 23.144s, episode steps: 746, steps per second:  32, episode reward:  2.000, mean reward:  0.003 [ 0.000,  1.000], mean action: 1.499 [0.000, 3.000],  loss: 0.000710, mae: 0.022604, mean_q: -0.019806, mean_eps: 0.915816\n",
            "   94543/1750000: episode: 133, duration: 20.679s, episode steps: 632, steps per second:  31, episode reward:  1.000, mean reward:  0.002 [ 0.000,  1.000], mean action: 1.547 [0.000, 3.000],  loss: 0.000562, mae: 0.022405, mean_q: -0.019591, mean_eps: 0.915197\n",
            "   95428/1750000: episode: 134, duration: 27.728s, episode steps: 885, steps per second:  32, episode reward:  2.000, mean reward:  0.002 [ 0.000,  1.000], mean action: 1.443 [0.000, 3.000],  loss: 0.000682, mae: 0.022612, mean_q: -0.020165, mean_eps: 0.914514\n",
            "   96143/1750000: episode: 135, duration: 22.032s, episode steps: 715, steps per second:  32, episode reward:  1.000, mean reward:  0.001 [ 0.000,  1.000], mean action: 1.484 [0.000, 3.000],  loss: 0.000727, mae: 0.022961, mean_q: -0.019447, mean_eps: 0.913794\n",
            "   97053/1750000: episode: 136, duration: 28.919s, episode steps: 910, steps per second:  31, episode reward:  3.000, mean reward:  0.003 [ 0.000,  1.000], mean action: 1.496 [0.000, 3.000],  loss: 0.000502, mae: 0.022591, mean_q: -0.019008, mean_eps: 0.913062\n",
            "   97846/1750000: episode: 137, duration: 24.716s, episode steps: 793, steps per second:  32, episode reward:  2.000, mean reward:  0.003 [ 0.000,  1.000], mean action: 1.527 [0.000, 3.000],  loss: 0.000340, mae: 0.022944, mean_q: -0.020288, mean_eps: 0.912295\n",
            "   98641/1750000: episode: 138, duration: 24.593s, episode steps: 795, steps per second:  32, episode reward:  2.000, mean reward:  0.003 [ 0.000,  1.000], mean action: 1.479 [0.000, 3.000],  loss: 0.000534, mae: 0.022661, mean_q: -0.021141, mean_eps: 0.911580\n",
            "   99328/1750000: episode: 139, duration: 22.115s, episode steps: 687, steps per second:  31, episode reward:  1.000, mean reward:  0.001 [ 0.000,  1.000], mean action: 1.448 [0.000, 3.000],  loss: 0.000251, mae: 0.023465, mean_q: -0.020116, mean_eps: 0.910914\n",
            "  100330/1750000: episode: 140, duration: 32.021s, episode steps: 1002, steps per second:  31, episode reward:  3.000, mean reward:  0.003 [ 0.000,  1.000], mean action: 1.443 [0.000, 3.000],  loss: 0.000541, mae: 0.023680, mean_q: -0.017818, mean_eps: 0.910155\n",
            "  100852/1750000: episode: 141, duration: 17.001s, episode steps: 522, steps per second:  31, episode reward:  0.000, mean reward:  0.000 [ 0.000,  0.000], mean action: 1.481 [0.000, 3.000],  loss: 0.000320, mae: 0.021743, mean_q: -0.019856, mean_eps: 0.909469\n",
            "  101560/1750000: episode: 142, duration: 21.237s, episode steps: 708, steps per second:  33, episode reward:  1.000, mean reward:  0.001 [ 0.000,  1.000], mean action: 1.555 [0.000, 3.000],  loss: 0.000259, mae: 0.022595, mean_q: -0.019212, mean_eps: 0.908916\n",
            "  102823/1750000: episode: 143, duration: 41.238s, episode steps: 1263, steps per second:  31, episode reward:  4.000, mean reward:  0.003 [ 0.000,  1.000], mean action: 1.470 [0.000, 3.000],  loss: 0.000458, mae: 0.022730, mean_q: -0.018414, mean_eps: 0.908029\n",
            "  103621/1750000: episode: 144, duration: 23.707s, episode steps: 798, steps per second:  34, episode reward:  2.000, mean reward:  0.003 [ 0.000,  1.000], mean action: 1.514 [0.000, 3.000],  loss: 0.000403, mae: 0.021916, mean_q: -0.019883, mean_eps: 0.907100\n",
            "  104442/1750000: episode: 145, duration: 26.559s, episode steps: 821, steps per second:  31, episode reward:  2.000, mean reward:  0.002 [ 0.000,  1.000], mean action: 1.505 [0.000, 3.000],  loss: 0.000076, mae: 0.021763, mean_q: -0.021395, mean_eps: 0.906371\n",
            "  105055/1750000: episode: 146, duration: 18.762s, episode steps: 613, steps per second:  33, episode reward:  1.000, mean reward:  0.002 [ 0.000,  1.000], mean action: 1.560 [0.000, 3.000],  loss: 0.000250, mae: 0.021141, mean_q: -0.021737, mean_eps: 0.905727\n",
            "  105547/1750000: episode: 147, duration: 15.489s, episode steps: 492, steps per second:  32, episode reward:  0.000, mean reward:  0.000 [ 0.000,  0.000], mean action: 1.561 [0.000, 3.000],  loss: 0.000484, mae: 0.022924, mean_q: -0.018315, mean_eps: 0.905230\n",
            "  106235/1750000: episode: 148, duration: 23.196s, episode steps: 688, steps per second:  30, episode reward:  1.000, mean reward:  0.001 [ 0.000,  1.000], mean action: 1.410 [0.000, 3.000],  loss: 0.000281, mae: 0.022195, mean_q: -0.019444, mean_eps: 0.904699\n",
            "  106733/1750000: episode: 149, duration: 15.814s, episode steps: 498, steps per second:  31, episode reward:  0.000, mean reward:  0.000 [ 0.000,  0.000], mean action: 1.480 [0.000, 3.000],  loss: 0.000258, mae: 0.022097, mean_q: -0.019166, mean_eps: 0.904164\n",
            "  107747/1750000: episode: 150, duration: 31.790s, episode steps: 1014, steps per second:  32, episode reward:  3.000, mean reward:  0.003 [ 0.000,  1.000], mean action: 1.468 [0.000, 3.000],  loss: 0.000410, mae: 0.022011, mean_q: -0.018896, mean_eps: 0.903484\n",
            "  108246/1750000: episode: 151, duration: 15.815s, episode steps: 499, steps per second:  32, episode reward:  0.000, mean reward:  0.000 [ 0.000,  0.000], mean action: 1.453 [0.000, 3.000],  loss: 0.000340, mae: 0.022187, mean_q: -0.019120, mean_eps: 0.902804\n",
            "  108752/1750000: episode: 152, duration: 15.871s, episode steps: 506, steps per second:  32, episode reward:  0.000, mean reward:  0.000 [ 0.000,  0.000], mean action: 1.421 [0.000, 3.000],  loss: 0.000086, mae: 0.021775, mean_q: -0.021653, mean_eps: 0.902352\n",
            "  109943/1750000: episode: 153, duration: 37.014s, episode steps: 1191, steps per second:  32, episode reward:  4.000, mean reward:  0.003 [ 0.000,  1.000], mean action: 1.491 [0.000, 3.000],  loss: 0.000323, mae: 0.022468, mean_q: -0.019197, mean_eps: 0.901589\n",
            "  110436/1750000: episode: 154, duration: 15.660s, episode steps: 493, steps per second:  31, episode reward:  0.000, mean reward:  0.000 [ 0.000,  0.000], mean action: 1.546 [0.000, 3.000],  loss: 0.000541, mae: 0.015820, mean_q: -0.006392, mean_eps: 0.900831\n",
            "  110926/1750000: episode: 155, duration: 15.504s, episode steps: 490, steps per second:  32, episode reward:  0.000, mean reward:  0.000 [ 0.000,  0.000], mean action: 1.561 [0.000, 3.000],  loss: 0.000398, mae: 0.016757, mean_q: -0.003276, mean_eps: 0.900388\n",
            "  111436/1750000: episode: 156, duration: 16.028s, episode steps: 510, steps per second:  32, episode reward:  0.000, mean reward:  0.000 [ 0.000,  0.000], mean action: 1.529 [0.000, 3.000],  loss: 0.000477, mae: 0.015384, mean_q: -0.004202, mean_eps: 0.899938\n",
            "  112350/1750000: episode: 157, duration: 29.571s, episode steps: 914, steps per second:  31, episode reward:  3.000, mean reward:  0.003 [ 0.000,  1.000], mean action: 1.508 [0.000, 3.000],  loss: 0.000354, mae: 0.015423, mean_q: -0.005510, mean_eps: 0.899297\n",
            "  113337/1750000: episode: 158, duration: 31.208s, episode steps: 987, steps per second:  32, episode reward:  3.000, mean reward:  0.003 [ 0.000,  1.000], mean action: 1.490 [0.000, 3.000],  loss: 0.000387, mae: 0.015309, mean_q: -0.005306, mean_eps: 0.898440\n",
            "  113835/1750000: episode: 159, duration: 15.447s, episode steps: 498, steps per second:  32, episode reward:  0.000, mean reward:  0.000 [ 0.000,  0.000], mean action: 1.488 [0.000, 3.000],  loss: 0.000326, mae: 0.014625, mean_q: -0.006212, mean_eps: 0.897773\n",
            "  114729/1750000: episode: 160, duration: 28.800s, episode steps: 894, steps per second:  31, episode reward:  2.000, mean reward:  0.002 [ 0.000,  1.000], mean action: 1.532 [0.000, 3.000],  loss: 0.000200, mae: 0.015474, mean_q: -0.005931, mean_eps: 0.897146\n",
            "  115254/1750000: episode: 161, duration: 16.433s, episode steps: 525, steps per second:  32, episode reward:  0.000, mean reward:  0.000 [ 0.000,  0.000], mean action: 1.573 [0.000, 3.000],  loss: 0.000293, mae: 0.014746, mean_q: -0.005836, mean_eps: 0.896507\n",
            "  115958/1750000: episode: 162, duration: 23.631s, episode steps: 704, steps per second:  30, episode reward:  1.000, mean reward:  0.001 [ 0.000,  1.000], mean action: 1.507 [0.000, 3.000],  loss: 0.000257, mae: 0.015769, mean_q: -0.005796, mean_eps: 0.895955\n",
            "  116969/1750000: episode: 163, duration: 31.835s, episode steps: 1011, steps per second:  32, episode reward:  3.000, mean reward:  0.003 [ 0.000,  1.000], mean action: 1.486 [0.000, 3.000],  loss: 0.000379, mae: 0.015980, mean_q: -0.004819, mean_eps: 0.895182\n",
            "  117486/1750000: episode: 164, duration: 16.182s, episode steps: 517, steps per second:  32, episode reward:  0.000, mean reward:  0.000 [ 0.000,  0.000], mean action: 1.536 [0.000, 3.000],  loss: 0.000142, mae: 0.016978, mean_q: -0.004531, mean_eps: 0.894495\n",
            "  118782/1750000: episode: 165, duration: 39.951s, episode steps: 1296, steps per second:  32, episode reward:  5.000, mean reward:  0.004 [ 0.000,  1.000], mean action: 1.522 [0.000, 3.000],  loss: 0.000230, mae: 0.014522, mean_q: -0.007158, mean_eps: 0.893679\n",
            "  119283/1750000: episode: 166, duration: 16.329s, episode steps: 501, steps per second:  31, episode reward:  0.000, mean reward:  0.000 [ 0.000,  0.000], mean action: 1.455 [0.000, 3.000],  loss: 0.000316, mae: 0.015952, mean_q: -0.004726, mean_eps: 0.892871\n",
            "  119926/1750000: episode: 167, duration: 21.486s, episode steps: 643, steps per second:  30, episode reward:  1.000, mean reward:  0.002 [ 0.000,  1.000], mean action: 1.484 [0.000, 3.000],  loss: 0.000069, mae: 0.015356, mean_q: -0.007004, mean_eps: 0.892356\n",
            "  120427/1750000: episode: 168, duration: 15.737s, episode steps: 501, steps per second:  32, episode reward:  0.000, mean reward:  0.000 [ 0.000,  0.000], mean action: 1.527 [0.000, 3.000],  loss: 0.000247, mae: 0.014905, mean_q: -0.005880, mean_eps: 0.891842\n",
            "  120936/1750000: episode: 169, duration: 16.087s, episode steps: 509, steps per second:  32, episode reward:  0.000, mean reward:  0.000 [ 0.000,  0.000], mean action: 1.442 [0.000, 3.000],  loss: 0.000612, mae: 0.016842, mean_q: -0.001538, mean_eps: 0.891388\n",
            "  121438/1750000: episode: 170, duration: 15.757s, episode steps: 502, steps per second:  32, episode reward:  0.000, mean reward:  0.000 [ 0.000,  0.000], mean action: 1.542 [0.000, 3.000],  loss: 0.000297, mae: 0.016691, mean_q: -0.002612, mean_eps: 0.890933\n",
            "  121958/1750000: episode: 171, duration: 16.325s, episode steps: 520, steps per second:  32, episode reward:  0.000, mean reward:  0.000 [ 0.000,  0.000], mean action: 1.506 [0.000, 3.000],  loss: 0.000447, mae: 0.017386, mean_q: -0.002179, mean_eps: 0.890472\n",
            "  122485/1750000: episode: 172, duration: 16.615s, episode steps: 527, steps per second:  32, episode reward:  0.000, mean reward:  0.000 [ 0.000,  0.000], mean action: 1.452 [0.000, 3.000],  loss: 0.000262, mae: 0.017265, mean_q: -0.002835, mean_eps: 0.890000\n",
            "  122991/1750000: episode: 173, duration: 15.915s, episode steps: 506, steps per second:  32, episode reward:  0.000, mean reward:  0.000 [ 0.000,  0.000], mean action: 1.472 [0.000, 3.000],  loss: 0.000479, mae: 0.016230, mean_q: -0.004111, mean_eps: 0.889536\n",
            "  123987/1750000: episode: 174, duration: 31.807s, episode steps: 996, steps per second:  31, episode reward:  3.000, mean reward:  0.003 [ 0.000,  1.000], mean action: 1.464 [0.000, 3.000],  loss: 0.000089, mae: 0.015574, mean_q: -0.005442, mean_eps: 0.888861\n",
            "  124491/1750000: episode: 175, duration: 15.987s, episode steps: 504, steps per second:  32, episode reward:  0.000, mean reward:  0.000 [ 0.000,  0.000], mean action: 1.605 [0.000, 3.000],  loss: 0.000177, mae: 0.017255, mean_q: -0.003223, mean_eps: 0.888186\n",
            "  125004/1750000: episode: 176, duration: 16.235s, episode steps: 513, steps per second:  32, episode reward:  0.000, mean reward:  0.000 [ 0.000,  0.000], mean action: 1.554 [0.000, 3.000],  loss: 0.000454, mae: 0.016258, mean_q: -0.002642, mean_eps: 0.887729\n",
            "  125532/1750000: episode: 177, duration: 17.208s, episode steps: 528, steps per second:  31, episode reward:  0.000, mean reward:  0.000 [ 0.000,  0.000], mean action: 1.572 [0.000, 3.000],  loss: 0.000206, mae: 0.017190, mean_q: -0.003588, mean_eps: 0.887261\n",
            "  126033/1750000: episode: 178, duration: 16.533s, episode steps: 501, steps per second:  30, episode reward:  0.000, mean reward:  0.000 [ 0.000,  0.000], mean action: 1.521 [0.000, 3.000],  loss: 0.000115, mae: 0.015595, mean_q: -0.005410, mean_eps: 0.886796\n",
            "  127221/1750000: episode: 179, duration: 38.341s, episode steps: 1188, steps per second:  31, episode reward:  4.000, mean reward:  0.003 [ 0.000,  1.000], mean action: 1.471 [0.000, 3.000],  loss: 0.000366, mae: 0.015887, mean_q: -0.003348, mean_eps: 0.886035\n",
            "  127846/1750000: episode: 180, duration: 19.302s, episode steps: 625, steps per second:  32, episode reward:  1.000, mean reward:  0.002 [ 0.000,  1.000], mean action: 1.674 [0.000, 3.000],  loss: 0.000078, mae: 0.015219, mean_q: -0.006001, mean_eps: 0.885219\n",
            "  129119/1750000: episode: 181, duration: 41.771s, episode steps: 1273, steps per second:  30, episode reward:  4.000, mean reward:  0.003 [ 0.000,  1.000], mean action: 1.474 [0.000, 3.000],  loss: 0.000392, mae: 0.015732, mean_q: -0.003115, mean_eps: 0.884366\n",
            "  129733/1750000: episode: 182, duration: 19.035s, episode steps: 614, steps per second:  32, episode reward:  1.000, mean reward:  0.002 [ 0.000,  1.000], mean action: 1.544 [0.000, 3.000],  loss: 0.000114, mae: 0.016544, mean_q: -0.004339, mean_eps: 0.883517\n",
            "  130548/1750000: episode: 183, duration: 26.734s, episode steps: 815, steps per second:  30, episode reward:  2.000, mean reward:  0.002 [ 0.000,  1.000], mean action: 1.428 [0.000, 3.000],  loss: 0.000459, mae: 0.013883, mean_q: 0.004975, mean_eps: 0.882874\n"
          ]
        }
      ]
    },
    {
      "cell_type": "code",
      "source": [
        "weights_filename = f'/content/drive/MyDrive/dqn/dqn_{env_name}_weights.h5f'\n",
        "if weights:\n",
        "    weights_filename = weights\n",
        "dqn.load_weights(weights_filename)\n",
        "dqn.test(env, nb_episodes=10, visualize=True)"
      ],
      "metadata": {
        "id": "WM0_A8liC1tA"
      },
      "execution_count": null,
      "outputs": []
    }
  ]
}