{
 "cells": [
  {
   "cell_type": "code",
   "execution_count": 12,
   "metadata": {},
   "outputs": [
    {
     "name": "stdout",
     "output_type": "stream",
     "text": [
      "Requirement already satisfied: gymnasium[atari] in c:\\users\\clayb\\anaconda3\\envs\\deep_py\\lib\\site-packages (0.29.1)\n",
      "Requirement already satisfied: numpy>=1.21.0 in c:\\users\\clayb\\anaconda3\\envs\\deep_py\\lib\\site-packages (from gymnasium[atari]) (1.24.3)\n",
      "Requirement already satisfied: cloudpickle>=1.2.0 in c:\\users\\clayb\\appdata\\roaming\\python\\python310\\site-packages (from gymnasium[atari]) (2.2.1)\n",
      "Requirement already satisfied: typing-extensions>=4.3.0 in c:\\users\\clayb\\anaconda3\\envs\\deep_py\\lib\\site-packages (from gymnasium[atari]) (4.5.0)\n",
      "Requirement already satisfied: farama-notifications>=0.0.1 in c:\\users\\clayb\\anaconda3\\envs\\deep_py\\lib\\site-packages (from gymnasium[atari]) (0.0.4)\n",
      "Requirement already satisfied: shimmy[atari]<1.0,>=0.1.0 in c:\\users\\clayb\\anaconda3\\envs\\deep_py\\lib\\site-packages (from gymnasium[atari]) (0.2.1)\n",
      "Requirement already satisfied: ale-py~=0.8.1 in c:\\users\\clayb\\anaconda3\\envs\\deep_py\\lib\\site-packages (from shimmy[atari]<1.0,>=0.1.0->gymnasium[atari]) (0.8.1)\n",
      "Requirement already satisfied: importlib-resources in c:\\users\\clayb\\anaconda3\\envs\\deep_py\\lib\\site-packages (from ale-py~=0.8.1->shimmy[atari]<1.0,>=0.1.0->gymnasium[atari]) (6.0.1)\n"
     ]
    }
   ],
   "source": [
    "!pip install gymnasium[atari]"
   ]
  },
  {
   "cell_type": "code",
   "execution_count": 13,
   "metadata": {},
   "outputs": [
    {
     "name": "stdout",
     "output_type": "stream",
     "text": [
      "Requirement already satisfied: keras in c:\\users\\clayb\\anaconda3\\envs\\deep_py\\lib\\site-packages (2.13.1)\n",
      "Requirement already satisfied: tensorflow in c:\\users\\clayb\\anaconda3\\envs\\deep_py\\lib\\site-packages (2.13.0)\n",
      "Requirement already satisfied: tensorflow-intel==2.13.0 in c:\\users\\clayb\\anaconda3\\envs\\deep_py\\lib\\site-packages (from tensorflow) (2.13.0)\n",
      "Requirement already satisfied: absl-py>=1.0.0 in c:\\users\\clayb\\anaconda3\\envs\\deep_py\\lib\\site-packages (from tensorflow-intel==2.13.0->tensorflow) (1.4.0)\n",
      "Requirement already satisfied: astunparse>=1.6.0 in c:\\users\\clayb\\anaconda3\\envs\\deep_py\\lib\\site-packages (from tensorflow-intel==2.13.0->tensorflow) (1.6.3)\n",
      "Requirement already satisfied: flatbuffers>=23.1.21 in c:\\users\\clayb\\anaconda3\\envs\\deep_py\\lib\\site-packages (from tensorflow-intel==2.13.0->tensorflow) (23.5.26)\n",
      "Requirement already satisfied: gast<=0.4.0,>=0.2.1 in c:\\users\\clayb\\anaconda3\\envs\\deep_py\\lib\\site-packages (from tensorflow-intel==2.13.0->tensorflow) (0.4.0)\n",
      "Requirement already satisfied: google-pasta>=0.1.1 in c:\\users\\clayb\\anaconda3\\envs\\deep_py\\lib\\site-packages (from tensorflow-intel==2.13.0->tensorflow) (0.2.0)\n",
      "Requirement already satisfied: h5py>=2.9.0 in c:\\users\\clayb\\appdata\\roaming\\python\\python310\\site-packages (from tensorflow-intel==2.13.0->tensorflow) (3.9.0)\n",
      "Requirement already satisfied: libclang>=13.0.0 in c:\\users\\clayb\\anaconda3\\envs\\deep_py\\lib\\site-packages (from tensorflow-intel==2.13.0->tensorflow) (16.0.6)\n",
      "Requirement already satisfied: numpy<=1.24.3,>=1.22 in c:\\users\\clayb\\anaconda3\\envs\\deep_py\\lib\\site-packages (from tensorflow-intel==2.13.0->tensorflow) (1.24.3)\n",
      "Requirement already satisfied: opt-einsum>=2.3.2 in c:\\users\\clayb\\anaconda3\\envs\\deep_py\\lib\\site-packages (from tensorflow-intel==2.13.0->tensorflow) (3.3.0)\n",
      "Requirement already satisfied: packaging in c:\\users\\clayb\\anaconda3\\envs\\deep_py\\lib\\site-packages (from tensorflow-intel==2.13.0->tensorflow) (22.0)\n",
      "Requirement already satisfied: protobuf!=4.21.0,!=4.21.1,!=4.21.2,!=4.21.3,!=4.21.4,!=4.21.5,<5.0.0dev,>=3.20.3 in c:\\users\\clayb\\anaconda3\\envs\\deep_py\\lib\\site-packages (from tensorflow-intel==2.13.0->tensorflow) (4.24.3)\n",
      "Requirement already satisfied: setuptools in c:\\users\\clayb\\anaconda3\\envs\\deep_py\\lib\\site-packages (from tensorflow-intel==2.13.0->tensorflow) (65.6.3)\n",
      "Requirement already satisfied: six>=1.12.0 in c:\\users\\clayb\\anaconda3\\envs\\deep_py\\lib\\site-packages (from tensorflow-intel==2.13.0->tensorflow) (1.16.0)\n",
      "Requirement already satisfied: termcolor>=1.1.0 in c:\\users\\clayb\\anaconda3\\envs\\deep_py\\lib\\site-packages (from tensorflow-intel==2.13.0->tensorflow) (2.3.0)\n",
      "Requirement already satisfied: typing-extensions<4.6.0,>=3.6.6 in c:\\users\\clayb\\anaconda3\\envs\\deep_py\\lib\\site-packages (from tensorflow-intel==2.13.0->tensorflow) (4.5.0)\n",
      "Requirement already satisfied: wrapt>=1.11.0 in c:\\users\\clayb\\anaconda3\\envs\\deep_py\\lib\\site-packages (from tensorflow-intel==2.13.0->tensorflow) (1.15.0)\n",
      "Requirement already satisfied: grpcio<2.0,>=1.24.3 in c:\\users\\clayb\\anaconda3\\envs\\deep_py\\lib\\site-packages (from tensorflow-intel==2.13.0->tensorflow) (1.58.0)\n",
      "Requirement already satisfied: tensorboard<2.14,>=2.13 in c:\\users\\clayb\\anaconda3\\envs\\deep_py\\lib\\site-packages (from tensorflow-intel==2.13.0->tensorflow) (2.13.0)\n",
      "Requirement already satisfied: tensorflow-estimator<2.14,>=2.13.0 in c:\\users\\clayb\\anaconda3\\envs\\deep_py\\lib\\site-packages (from tensorflow-intel==2.13.0->tensorflow) (2.13.0)\n",
      "Requirement already satisfied: keras<2.14,>=2.13.1 in c:\\users\\clayb\\anaconda3\\envs\\deep_py\\lib\\site-packages (from tensorflow-intel==2.13.0->tensorflow) (2.13.1)\n",
      "Requirement already satisfied: tensorflow-io-gcs-filesystem>=0.23.1 in c:\\users\\clayb\\anaconda3\\envs\\deep_py\\lib\\site-packages (from tensorflow-intel==2.13.0->tensorflow) (0.31.0)\n",
      "Requirement already satisfied: wheel<1.0,>=0.23.0 in c:\\users\\clayb\\anaconda3\\envs\\deep_py\\lib\\site-packages (from astunparse>=1.6.0->tensorflow-intel==2.13.0->tensorflow) (0.37.1)\n",
      "Requirement already satisfied: google-auth<3,>=1.6.3 in c:\\users\\clayb\\anaconda3\\envs\\deep_py\\lib\\site-packages (from tensorboard<2.14,>=2.13->tensorflow-intel==2.13.0->tensorflow) (2.23.0)\n",
      "Requirement already satisfied: google-auth-oauthlib<1.1,>=0.5 in c:\\users\\clayb\\anaconda3\\envs\\deep_py\\lib\\site-packages (from tensorboard<2.14,>=2.13->tensorflow-intel==2.13.0->tensorflow) (1.0.0)\n",
      "Requirement already satisfied: markdown>=2.6.8 in c:\\users\\clayb\\anaconda3\\envs\\deep_py\\lib\\site-packages (from tensorboard<2.14,>=2.13->tensorflow-intel==2.13.0->tensorflow) (3.4.4)\n",
      "Requirement already satisfied: requests<3,>=2.21.0 in c:\\users\\clayb\\anaconda3\\envs\\deep_py\\lib\\site-packages (from tensorboard<2.14,>=2.13->tensorflow-intel==2.13.0->tensorflow) (2.31.0)\n",
      "Requirement already satisfied: tensorboard-data-server<0.8.0,>=0.7.0 in c:\\users\\clayb\\anaconda3\\envs\\deep_py\\lib\\site-packages (from tensorboard<2.14,>=2.13->tensorflow-intel==2.13.0->tensorflow) (0.7.1)\n",
      "Requirement already satisfied: werkzeug>=1.0.1 in c:\\users\\clayb\\anaconda3\\envs\\deep_py\\lib\\site-packages (from tensorboard<2.14,>=2.13->tensorflow-intel==2.13.0->tensorflow) (2.3.7)\n",
      "Requirement already satisfied: cachetools<6.0,>=2.0.0 in c:\\users\\clayb\\anaconda3\\envs\\deep_py\\lib\\site-packages (from google-auth<3,>=1.6.3->tensorboard<2.14,>=2.13->tensorflow-intel==2.13.0->tensorflow) (5.3.1)\n",
      "Requirement already satisfied: pyasn1-modules>=0.2.1 in c:\\users\\clayb\\anaconda3\\envs\\deep_py\\lib\\site-packages (from google-auth<3,>=1.6.3->tensorboard<2.14,>=2.13->tensorflow-intel==2.13.0->tensorflow) (0.3.0)\n",
      "Requirement already satisfied: rsa<5,>=3.1.4 in c:\\users\\clayb\\anaconda3\\envs\\deep_py\\lib\\site-packages (from google-auth<3,>=1.6.3->tensorboard<2.14,>=2.13->tensorflow-intel==2.13.0->tensorflow) (4.9)\n",
      "Requirement already satisfied: urllib3<2.0 in c:\\users\\clayb\\anaconda3\\envs\\deep_py\\lib\\site-packages (from google-auth<3,>=1.6.3->tensorboard<2.14,>=2.13->tensorflow-intel==2.13.0->tensorflow) (1.26.16)\n",
      "Requirement already satisfied: requests-oauthlib>=0.7.0 in c:\\users\\clayb\\anaconda3\\envs\\deep_py\\lib\\site-packages (from google-auth-oauthlib<1.1,>=0.5->tensorboard<2.14,>=2.13->tensorflow-intel==2.13.0->tensorflow) (1.3.1)\n",
      "Requirement already satisfied: charset-normalizer<4,>=2 in c:\\users\\clayb\\anaconda3\\envs\\deep_py\\lib\\site-packages (from requests<3,>=2.21.0->tensorboard<2.14,>=2.13->tensorflow-intel==2.13.0->tensorflow) (3.2.0)\n",
      "Requirement already satisfied: idna<4,>=2.5 in c:\\users\\clayb\\anaconda3\\envs\\deep_py\\lib\\site-packages (from requests<3,>=2.21.0->tensorboard<2.14,>=2.13->tensorflow-intel==2.13.0->tensorflow) (3.4)\n",
      "Requirement already satisfied: certifi>=2017.4.17 in c:\\users\\clayb\\anaconda3\\envs\\deep_py\\lib\\site-packages (from requests<3,>=2.21.0->tensorboard<2.14,>=2.13->tensorflow-intel==2.13.0->tensorflow) (2022.12.7)\n",
      "Requirement already satisfied: MarkupSafe>=2.1.1 in c:\\users\\clayb\\anaconda3\\envs\\deep_py\\lib\\site-packages (from werkzeug>=1.0.1->tensorboard<2.14,>=2.13->tensorflow-intel==2.13.0->tensorflow) (2.1.3)\n",
      "Requirement already satisfied: pyasn1<0.6.0,>=0.4.6 in c:\\users\\clayb\\anaconda3\\envs\\deep_py\\lib\\site-packages (from pyasn1-modules>=0.2.1->google-auth<3,>=1.6.3->tensorboard<2.14,>=2.13->tensorflow-intel==2.13.0->tensorflow) (0.5.0)\n",
      "Requirement already satisfied: oauthlib>=3.0.0 in c:\\users\\clayb\\anaconda3\\envs\\deep_py\\lib\\site-packages (from requests-oauthlib>=0.7.0->google-auth-oauthlib<1.1,>=0.5->tensorboard<2.14,>=2.13->tensorflow-intel==2.13.0->tensorflow) (3.2.2)\n",
      "Requirement already satisfied: Pillow in c:\\users\\clayb\\anaconda3\\envs\\deep_py\\lib\\site-packages (10.0.0)\n",
      "Requirement already satisfied: h5py in c:\\users\\clayb\\appdata\\roaming\\python\\python310\\site-packages (3.9.0)\n",
      "Requirement already satisfied: numpy>=1.17.3 in c:\\users\\clayb\\anaconda3\\envs\\deep_py\\lib\\site-packages (from h5py) (1.24.3)\n",
      "Requirement already satisfied: keras-rl in c:\\users\\clayb\\appdata\\roaming\\python\\python310\\site-packages (0.4.2)\n",
      "Requirement already satisfied: keras>=2.0.7 in c:\\users\\clayb\\anaconda3\\envs\\deep_py\\lib\\site-packages (from keras-rl) (2.13.1)\n",
      "Requirement already satisfied: gymnasium[atari] in c:\\users\\clayb\\anaconda3\\envs\\deep_py\\lib\\site-packages (0.29.1)\n",
      "Requirement already satisfied: numpy>=1.21.0 in c:\\users\\clayb\\anaconda3\\envs\\deep_py\\lib\\site-packages (from gymnasium[atari]) (1.24.3)\n",
      "Requirement already satisfied: cloudpickle>=1.2.0 in c:\\users\\clayb\\appdata\\roaming\\python\\python310\\site-packages (from gymnasium[atari]) (2.2.1)\n",
      "Requirement already satisfied: typing-extensions>=4.3.0 in c:\\users\\clayb\\anaconda3\\envs\\deep_py\\lib\\site-packages (from gymnasium[atari]) (4.5.0)\n",
      "Requirement already satisfied: farama-notifications>=0.0.1 in c:\\users\\clayb\\anaconda3\\envs\\deep_py\\lib\\site-packages (from gymnasium[atari]) (0.0.4)\n",
      "Requirement already satisfied: shimmy[atari]<1.0,>=0.1.0 in c:\\users\\clayb\\anaconda3\\envs\\deep_py\\lib\\site-packages (from gymnasium[atari]) (0.2.1)\n",
      "Requirement already satisfied: ale-py~=0.8.1 in c:\\users\\clayb\\anaconda3\\envs\\deep_py\\lib\\site-packages (from shimmy[atari]<1.0,>=0.1.0->gymnasium[atari]) (0.8.1)\n",
      "Requirement already satisfied: importlib-resources in c:\\users\\clayb\\anaconda3\\envs\\deep_py\\lib\\site-packages (from ale-py~=0.8.1->shimmy[atari]<1.0,>=0.1.0->gymnasium[atari]) (6.0.1)\n",
      "Requirement already satisfied: keras-rl2 in c:\\users\\clayb\\anaconda3\\envs\\deep_py\\lib\\site-packages (1.0.5)\n",
      "Requirement already satisfied: tensorflow in c:\\users\\clayb\\anaconda3\\envs\\deep_py\\lib\\site-packages (from keras-rl2) (2.13.0)\n",
      "Requirement already satisfied: tensorflow-intel==2.13.0 in c:\\users\\clayb\\anaconda3\\envs\\deep_py\\lib\\site-packages (from tensorflow->keras-rl2) (2.13.0)\n",
      "Requirement already satisfied: absl-py>=1.0.0 in c:\\users\\clayb\\anaconda3\\envs\\deep_py\\lib\\site-packages (from tensorflow-intel==2.13.0->tensorflow->keras-rl2) (1.4.0)\n",
      "Requirement already satisfied: astunparse>=1.6.0 in c:\\users\\clayb\\anaconda3\\envs\\deep_py\\lib\\site-packages (from tensorflow-intel==2.13.0->tensorflow->keras-rl2) (1.6.3)\n",
      "Requirement already satisfied: flatbuffers>=23.1.21 in c:\\users\\clayb\\anaconda3\\envs\\deep_py\\lib\\site-packages (from tensorflow-intel==2.13.0->tensorflow->keras-rl2) (23.5.26)\n",
      "Requirement already satisfied: gast<=0.4.0,>=0.2.1 in c:\\users\\clayb\\anaconda3\\envs\\deep_py\\lib\\site-packages (from tensorflow-intel==2.13.0->tensorflow->keras-rl2) (0.4.0)\n",
      "Requirement already satisfied: google-pasta>=0.1.1 in c:\\users\\clayb\\anaconda3\\envs\\deep_py\\lib\\site-packages (from tensorflow-intel==2.13.0->tensorflow->keras-rl2) (0.2.0)\n",
      "Requirement already satisfied: h5py>=2.9.0 in c:\\users\\clayb\\appdata\\roaming\\python\\python310\\site-packages (from tensorflow-intel==2.13.0->tensorflow->keras-rl2) (3.9.0)\n",
      "Requirement already satisfied: libclang>=13.0.0 in c:\\users\\clayb\\anaconda3\\envs\\deep_py\\lib\\site-packages (from tensorflow-intel==2.13.0->tensorflow->keras-rl2) (16.0.6)\n",
      "Requirement already satisfied: numpy<=1.24.3,>=1.22 in c:\\users\\clayb\\anaconda3\\envs\\deep_py\\lib\\site-packages (from tensorflow-intel==2.13.0->tensorflow->keras-rl2) (1.24.3)\n",
      "Requirement already satisfied: opt-einsum>=2.3.2 in c:\\users\\clayb\\anaconda3\\envs\\deep_py\\lib\\site-packages (from tensorflow-intel==2.13.0->tensorflow->keras-rl2) (3.3.0)\n",
      "Requirement already satisfied: packaging in c:\\users\\clayb\\anaconda3\\envs\\deep_py\\lib\\site-packages (from tensorflow-intel==2.13.0->tensorflow->keras-rl2) (22.0)\n",
      "Requirement already satisfied: protobuf!=4.21.0,!=4.21.1,!=4.21.2,!=4.21.3,!=4.21.4,!=4.21.5,<5.0.0dev,>=3.20.3 in c:\\users\\clayb\\anaconda3\\envs\\deep_py\\lib\\site-packages (from tensorflow-intel==2.13.0->tensorflow->keras-rl2) (4.24.3)\n",
      "Requirement already satisfied: setuptools in c:\\users\\clayb\\anaconda3\\envs\\deep_py\\lib\\site-packages (from tensorflow-intel==2.13.0->tensorflow->keras-rl2) (65.6.3)\n",
      "Requirement already satisfied: six>=1.12.0 in c:\\users\\clayb\\anaconda3\\envs\\deep_py\\lib\\site-packages (from tensorflow-intel==2.13.0->tensorflow->keras-rl2) (1.16.0)\n",
      "Requirement already satisfied: termcolor>=1.1.0 in c:\\users\\clayb\\anaconda3\\envs\\deep_py\\lib\\site-packages (from tensorflow-intel==2.13.0->tensorflow->keras-rl2) (2.3.0)\n",
      "Requirement already satisfied: typing-extensions<4.6.0,>=3.6.6 in c:\\users\\clayb\\anaconda3\\envs\\deep_py\\lib\\site-packages (from tensorflow-intel==2.13.0->tensorflow->keras-rl2) (4.5.0)\n",
      "Requirement already satisfied: wrapt>=1.11.0 in c:\\users\\clayb\\anaconda3\\envs\\deep_py\\lib\\site-packages (from tensorflow-intel==2.13.0->tensorflow->keras-rl2) (1.15.0)\n",
      "Requirement already satisfied: grpcio<2.0,>=1.24.3 in c:\\users\\clayb\\anaconda3\\envs\\deep_py\\lib\\site-packages (from tensorflow-intel==2.13.0->tensorflow->keras-rl2) (1.58.0)\n",
      "Requirement already satisfied: tensorboard<2.14,>=2.13 in c:\\users\\clayb\\anaconda3\\envs\\deep_py\\lib\\site-packages (from tensorflow-intel==2.13.0->tensorflow->keras-rl2) (2.13.0)\n",
      "Requirement already satisfied: tensorflow-estimator<2.14,>=2.13.0 in c:\\users\\clayb\\anaconda3\\envs\\deep_py\\lib\\site-packages (from tensorflow-intel==2.13.0->tensorflow->keras-rl2) (2.13.0)\n",
      "Requirement already satisfied: keras<2.14,>=2.13.1 in c:\\users\\clayb\\anaconda3\\envs\\deep_py\\lib\\site-packages (from tensorflow-intel==2.13.0->tensorflow->keras-rl2) (2.13.1)\n",
      "Requirement already satisfied: tensorflow-io-gcs-filesystem>=0.23.1 in c:\\users\\clayb\\anaconda3\\envs\\deep_py\\lib\\site-packages (from tensorflow-intel==2.13.0->tensorflow->keras-rl2) (0.31.0)\n",
      "Requirement already satisfied: wheel<1.0,>=0.23.0 in c:\\users\\clayb\\anaconda3\\envs\\deep_py\\lib\\site-packages (from astunparse>=1.6.0->tensorflow-intel==2.13.0->tensorflow->keras-rl2) (0.37.1)\n",
      "Requirement already satisfied: google-auth<3,>=1.6.3 in c:\\users\\clayb\\anaconda3\\envs\\deep_py\\lib\\site-packages (from tensorboard<2.14,>=2.13->tensorflow-intel==2.13.0->tensorflow->keras-rl2) (2.23.0)\n",
      "Requirement already satisfied: google-auth-oauthlib<1.1,>=0.5 in c:\\users\\clayb\\anaconda3\\envs\\deep_py\\lib\\site-packages (from tensorboard<2.14,>=2.13->tensorflow-intel==2.13.0->tensorflow->keras-rl2) (1.0.0)\n",
      "Requirement already satisfied: markdown>=2.6.8 in c:\\users\\clayb\\anaconda3\\envs\\deep_py\\lib\\site-packages (from tensorboard<2.14,>=2.13->tensorflow-intel==2.13.0->tensorflow->keras-rl2) (3.4.4)\n",
      "Requirement already satisfied: requests<3,>=2.21.0 in c:\\users\\clayb\\anaconda3\\envs\\deep_py\\lib\\site-packages (from tensorboard<2.14,>=2.13->tensorflow-intel==2.13.0->tensorflow->keras-rl2) (2.31.0)\n",
      "Requirement already satisfied: tensorboard-data-server<0.8.0,>=0.7.0 in c:\\users\\clayb\\anaconda3\\envs\\deep_py\\lib\\site-packages (from tensorboard<2.14,>=2.13->tensorflow-intel==2.13.0->tensorflow->keras-rl2) (0.7.1)\n",
      "Requirement already satisfied: werkzeug>=1.0.1 in c:\\users\\clayb\\anaconda3\\envs\\deep_py\\lib\\site-packages (from tensorboard<2.14,>=2.13->tensorflow-intel==2.13.0->tensorflow->keras-rl2) (2.3.7)\n",
      "Requirement already satisfied: cachetools<6.0,>=2.0.0 in c:\\users\\clayb\\anaconda3\\envs\\deep_py\\lib\\site-packages (from google-auth<3,>=1.6.3->tensorboard<2.14,>=2.13->tensorflow-intel==2.13.0->tensorflow->keras-rl2) (5.3.1)\n",
      "Requirement already satisfied: pyasn1-modules>=0.2.1 in c:\\users\\clayb\\anaconda3\\envs\\deep_py\\lib\\site-packages (from google-auth<3,>=1.6.3->tensorboard<2.14,>=2.13->tensorflow-intel==2.13.0->tensorflow->keras-rl2) (0.3.0)\n",
      "Requirement already satisfied: rsa<5,>=3.1.4 in c:\\users\\clayb\\anaconda3\\envs\\deep_py\\lib\\site-packages (from google-auth<3,>=1.6.3->tensorboard<2.14,>=2.13->tensorflow-intel==2.13.0->tensorflow->keras-rl2) (4.9)\n",
      "Requirement already satisfied: urllib3<2.0 in c:\\users\\clayb\\anaconda3\\envs\\deep_py\\lib\\site-packages (from google-auth<3,>=1.6.3->tensorboard<2.14,>=2.13->tensorflow-intel==2.13.0->tensorflow->keras-rl2) (1.26.16)\n",
      "Requirement already satisfied: requests-oauthlib>=0.7.0 in c:\\users\\clayb\\anaconda3\\envs\\deep_py\\lib\\site-packages (from google-auth-oauthlib<1.1,>=0.5->tensorboard<2.14,>=2.13->tensorflow-intel==2.13.0->tensorflow->keras-rl2) (1.3.1)\n",
      "Requirement already satisfied: charset-normalizer<4,>=2 in c:\\users\\clayb\\anaconda3\\envs\\deep_py\\lib\\site-packages (from requests<3,>=2.21.0->tensorboard<2.14,>=2.13->tensorflow-intel==2.13.0->tensorflow->keras-rl2) (3.2.0)\n",
      "Requirement already satisfied: idna<4,>=2.5 in c:\\users\\clayb\\anaconda3\\envs\\deep_py\\lib\\site-packages (from requests<3,>=2.21.0->tensorboard<2.14,>=2.13->tensorflow-intel==2.13.0->tensorflow->keras-rl2) (3.4)\n",
      "Requirement already satisfied: certifi>=2017.4.17 in c:\\users\\clayb\\anaconda3\\envs\\deep_py\\lib\\site-packages (from requests<3,>=2.21.0->tensorboard<2.14,>=2.13->tensorflow-intel==2.13.0->tensorflow->keras-rl2) (2022.12.7)\n",
      "Requirement already satisfied: MarkupSafe>=2.1.1 in c:\\users\\clayb\\anaconda3\\envs\\deep_py\\lib\\site-packages (from werkzeug>=1.0.1->tensorboard<2.14,>=2.13->tensorflow-intel==2.13.0->tensorflow->keras-rl2) (2.1.3)\n",
      "Requirement already satisfied: pyasn1<0.6.0,>=0.4.6 in c:\\users\\clayb\\anaconda3\\envs\\deep_py\\lib\\site-packages (from pyasn1-modules>=0.2.1->google-auth<3,>=1.6.3->tensorboard<2.14,>=2.13->tensorflow-intel==2.13.0->tensorflow->keras-rl2) (0.5.0)\n",
      "Requirement already satisfied: oauthlib>=3.0.0 in c:\\users\\clayb\\anaconda3\\envs\\deep_py\\lib\\site-packages (from requests-oauthlib>=0.7.0->google-auth-oauthlib<1.1,>=0.5->tensorboard<2.14,>=2.13->tensorflow-intel==2.13.0->tensorflow->keras-rl2) (3.2.2)\n"
     ]
    }
   ],
   "source": [
    "!pip install keras\n",
    "!pip install tensorflow\n",
    "!pip install --user Pillow\n",
    "!pip install --user h5py\n",
    "!pip install --user keras-rl\n",
    "!pip install gymnasium[atari]\n",
    "!pip install keras-rl2"
   ]
  },
  {
   "cell_type": "code",
   "execution_count": 14,
   "metadata": {},
   "outputs": [
    {
     "name": "stdout",
     "output_type": "stream",
     "text": [
      "Requirement already satisfied: gymnasium in c:\\users\\clayb\\anaconda3\\envs\\deep_py\\lib\\site-packages (0.29.1)\n",
      "Requirement already satisfied: numpy>=1.21.0 in c:\\users\\clayb\\anaconda3\\envs\\deep_py\\lib\\site-packages (from gymnasium) (1.24.3)\n",
      "Requirement already satisfied: cloudpickle>=1.2.0 in c:\\users\\clayb\\appdata\\roaming\\python\\python310\\site-packages (from gymnasium) (2.2.1)\n",
      "Requirement already satisfied: typing-extensions>=4.3.0 in c:\\users\\clayb\\anaconda3\\envs\\deep_py\\lib\\site-packages (from gymnasium) (4.5.0)\n",
      "Requirement already satisfied: farama-notifications>=0.0.1 in c:\\users\\clayb\\anaconda3\\envs\\deep_py\\lib\\site-packages (from gymnasium) (0.0.4)\n",
      "Requirement already satisfied: gym[accept-rom-license,atari] in c:\\users\\clayb\\appdata\\roaming\\python\\python310\\site-packages (0.26.2)\n",
      "Requirement already satisfied: numpy>=1.18.0 in c:\\users\\clayb\\anaconda3\\envs\\deep_py\\lib\\site-packages (from gym[accept-rom-license,atari]) (1.24.3)\n",
      "Requirement already satisfied: cloudpickle>=1.2.0 in c:\\users\\clayb\\appdata\\roaming\\python\\python310\\site-packages (from gym[accept-rom-license,atari]) (2.2.1)\n",
      "Requirement already satisfied: gym-notices>=0.0.4 in c:\\users\\clayb\\appdata\\roaming\\python\\python310\\site-packages (from gym[accept-rom-license,atari]) (0.0.8)\n",
      "Requirement already satisfied: autorom[accept-rom-license]~=0.4.2 in c:\\users\\clayb\\anaconda3\\envs\\deep_py\\lib\\site-packages (from gym[accept-rom-license,atari]) (0.4.2)\n",
      "Requirement already satisfied: ale-py~=0.8.0 in c:\\users\\clayb\\anaconda3\\envs\\deep_py\\lib\\site-packages (from gym[accept-rom-license,atari]) (0.8.1)\n",
      "Requirement already satisfied: importlib-resources in c:\\users\\clayb\\anaconda3\\envs\\deep_py\\lib\\site-packages (from ale-py~=0.8.0->gym[accept-rom-license,atari]) (6.0.1)\n",
      "Requirement already satisfied: typing-extensions in c:\\users\\clayb\\anaconda3\\envs\\deep_py\\lib\\site-packages (from ale-py~=0.8.0->gym[accept-rom-license,atari]) (4.5.0)\n",
      "Requirement already satisfied: click in c:\\users\\clayb\\anaconda3\\envs\\deep_py\\lib\\site-packages (from autorom[accept-rom-license]~=0.4.2->gym[accept-rom-license,atari]) (8.1.7)\n",
      "Requirement already satisfied: requests in c:\\users\\clayb\\anaconda3\\envs\\deep_py\\lib\\site-packages (from autorom[accept-rom-license]~=0.4.2->gym[accept-rom-license,atari]) (2.31.0)\n",
      "Requirement already satisfied: tqdm in c:\\users\\clayb\\anaconda3\\envs\\deep_py\\lib\\site-packages (from autorom[accept-rom-license]~=0.4.2->gym[accept-rom-license,atari]) (4.66.1)\n",
      "Requirement already satisfied: AutoROM.accept-rom-license in c:\\users\\clayb\\anaconda3\\envs\\deep_py\\lib\\site-packages (from autorom[accept-rom-license]~=0.4.2->gym[accept-rom-license,atari]) (0.6.1)\n",
      "Requirement already satisfied: colorama in c:\\users\\clayb\\anaconda3\\envs\\deep_py\\lib\\site-packages (from click->autorom[accept-rom-license]~=0.4.2->gym[accept-rom-license,atari]) (0.4.6)\n",
      "Requirement already satisfied: charset-normalizer<4,>=2 in c:\\users\\clayb\\anaconda3\\envs\\deep_py\\lib\\site-packages (from requests->autorom[accept-rom-license]~=0.4.2->gym[accept-rom-license,atari]) (3.2.0)\n",
      "Requirement already satisfied: idna<4,>=2.5 in c:\\users\\clayb\\anaconda3\\envs\\deep_py\\lib\\site-packages (from requests->autorom[accept-rom-license]~=0.4.2->gym[accept-rom-license,atari]) (3.4)\n",
      "Requirement already satisfied: urllib3<3,>=1.21.1 in c:\\users\\clayb\\anaconda3\\envs\\deep_py\\lib\\site-packages (from requests->autorom[accept-rom-license]~=0.4.2->gym[accept-rom-license,atari]) (1.26.16)\n",
      "Requirement already satisfied: certifi>=2017.4.17 in c:\\users\\clayb\\anaconda3\\envs\\deep_py\\lib\\site-packages (from requests->autorom[accept-rom-license]~=0.4.2->gym[accept-rom-license,atari]) (2022.12.7)\n"
     ]
    }
   ],
   "source": [
    "import numpy as np\n",
    "!pip install gymnasium\n",
    "!pip install gym[atari,accept-rom-license]\n",
    "#import gym\n",
    "import gymnasium as gym\n",
    "\n",
    "from keras.models import Sequential\n",
    "from keras.layers import Dense, Activation, Flatten, Convolution2D, Permute\n",
    "from keras.optimizers import Adam\n",
    "\n",
    "from rl.agents.dqn import DQNAgent\n",
    "from rl.policy import EpsGreedyQPolicy\n",
    "from rl.memory import SequentialMemory"
   ]
  },
  {
   "cell_type": "code",
   "execution_count": 18,
   "metadata": {},
   "outputs": [
    {
     "name": "stderr",
     "output_type": "stream",
     "text": [
      "C:\\Users\\clayb\\AppData\\Roaming\\Python\\Python310\\site-packages\\gym\\envs\\registration.py:555: UserWarning: \u001b[33mWARN: The environment Breakout-v0 is out of date. You should consider upgrading to version `v4`.\u001b[0m\n",
      "  logger.warn(\n"
     ]
    },
    {
     "data": {
      "text/plain": [
       "(693650678, 2973253328)"
      ]
     },
     "execution_count": 18,
     "metadata": {},
     "output_type": "execute_result"
    }
   ],
   "source": [
    "# Initialize Gym environment\n",
    "ENV_NAME = 'Breakout-v0'\n",
    "env = gym.make(ENV_NAME)\n",
    "np.random.seed(123)\n",
    "env.seed(123)"
   ]
  },
  {
   "cell_type": "code",
   "execution_count": 19,
   "metadata": {},
   "outputs": [],
   "source": [
    "# Number of actions\n",
    "nb_actions = env.action_space.n"
   ]
  },
  {
   "cell_type": "code",
   "execution_count": 20,
   "metadata": {},
   "outputs": [],
   "source": [
    "# Define the model architecture\n",
    "input_shape = (84, 84)\n",
    "window_length = 4\n",
    "\n",
    "model = Sequential()\n",
    "model.add(Permute((2, 3, 1), input_shape=(window_length,) + input_shape))\n",
    "model.add(Convolution2D(32, (8, 8), strides=(4, 4)))\n",
    "model.add(Activation('relu'))\n",
    "model.add(Convolution2D(64, (4, 4), strides=(2, 2)))\n",
    "model.add(Activation('relu'))\n",
    "model.add(Convolution2D(64, (3, 3), strides=(1, 1)))\n",
    "model.add(Activation('relu'))\n",
    "model.add(Flatten())\n",
    "model.add(Dense(512))\n",
    "model.add(Activation('relu'))\n",
    "model.add(Dense(nb_actions))\n",
    "model.add(Activation('linear'))"
   ]
  },
  {
   "cell_type": "code",
   "execution_count": null,
   "metadata": {},
   "outputs": [],
   "source": [
    "# Configure and compile the agent\n",
    "memory = SequentialMemory(limit=1000000, window_length=window_length)\n",
    "policy = EpsGreedyQPolicy()\n",
    "dqn = DQNAgent(model=model, nb_actions=nb_actions, memory=memory, nb_steps_warmup=50000,\n",
    "               target_model_update=10000, policy=policy)\n",
    "dqn.compile(Adam(lr=0.00025), metrics=['mae'])"
   ]
  }
 ],
 "metadata": {
  "kernelspec": {
   "display_name": "deep_py",
   "language": "python",
   "name": "python3"
  },
  "language_info": {
   "codemirror_mode": {
    "name": "ipython",
    "version": 3
   },
   "file_extension": ".py",
   "mimetype": "text/x-python",
   "name": "python",
   "nbconvert_exporter": "python",
   "pygments_lexer": "ipython3",
   "version": "3.10.9"
  },
  "orig_nbformat": 4
 },
 "nbformat": 4,
 "nbformat_minor": 2
}
