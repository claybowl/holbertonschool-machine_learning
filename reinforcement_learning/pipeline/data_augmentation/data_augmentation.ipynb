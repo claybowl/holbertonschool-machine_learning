{
 "cells": [
  {
   "cell_type": "code",
   "execution_count": 19,
   "metadata": {},
   "outputs": [
    {
     "name": "stdout",
     "output_type": "stream",
     "text": [
      "absl-py==1.4.0\n",
      "array-record==0.4.1\n",
      "asttokens==2.2.1\n",
      "astunparse==1.6.3\n",
      "attrs==23.1.0\n",
      "autopep8==1.7.0\n",
      "backcall==0.2.0\n",
      "cachetools==5.3.1\n",
      "certifi==2023.7.22\n",
      "charset-normalizer==3.3.0\n",
      "click==8.1.7\n",
      "cloudpickle==2.2.1\n",
      "colorama==0.4.6\n",
      "comm==0.1.2\n",
      "contourpy==1.1.1\n",
      "cycler==0.12.1\n",
      "debugpy==1.6.6\n",
      "decorator==5.1.1\n",
      "dm-tree==0.1.8\n",
      "etils==1.5.1\n",
      "executing==1.2.0\n",
      "flatbuffers==1.12\n",
      "fonttools==4.43.1\n",
      "fsspec==2023.9.2\n",
      "gast==0.4.0\n",
      "google-auth==2.23.3\n",
      "google-auth-oauthlib==0.4.6\n",
      "google-pasta==0.2.0\n",
      "googleapis-common-protos==1.60.0\n",
      "grpcio==1.59.0\n",
      "gym==0.26.2\n",
      "gym-notices==0.0.8\n",
      "h5py==3.10.0\n",
      "idna==3.4\n",
      "importlib-resources==6.1.0\n",
      "ipykernel==6.21.3\n",
      "ipython==8.11.0\n",
      "jedi==0.18.2\n",
      "JsonForm==0.0.2\n",
      "jsonschema==4.19.1\n",
      "jsonschema-specifications==2023.7.1\n",
      "JsonSir==0.0.2\n",
      "jupyter_client==8.0.3\n",
      "jupyter_core==5.3.0\n",
      "keras==2.9.0\n",
      "Keras-Preprocessing==1.1.2\n",
      "kiwisolver==1.4.5\n",
      "libclang==16.0.6\n",
      "Markdown==3.5\n",
      "MarkupSafe==2.1.3\n",
      "matplotlib==3.8.0\n",
      "matplotlib-inline==0.1.6\n",
      "nest-asyncio==1.5.6\n",
      "numpy==1.26.0\n",
      "oauthlib==3.2.2\n",
      "opt-einsum==3.3.0\n",
      "packaging==23.0\n",
      "parso==0.8.3\n",
      "pickleshare==0.7.5\n",
      "Pillow==10.0.1\n",
      "platformdirs==3.1.1\n",
      "promise==2.3\n",
      "prompt-toolkit==3.0.38\n",
      "protobuf==3.20.3\n",
      "psutil==5.9.4\n",
      "pure-eval==0.2.2\n",
      "pyasn1==0.5.0\n",
      "pyasn1-modules==0.3.0\n",
      "pycodestyle==2.9.1\n",
      "Pygments==2.14.0\n",
      "pyparsing==3.1.1\n",
      "python-dateutil==2.8.2\n",
      "Python-EasyConfig==0.1.7\n",
      "pywin32==305\n",
      "PyYAML==6.0.1\n",
      "pyzmq==25.0.1\n",
      "referencing==0.30.2\n",
      "requests==2.31.0\n",
      "requests-oauthlib==1.3.1\n",
      "Resource==0.2.1\n",
      "rpds-py==0.10.6\n",
      "rsa==4.9\n",
      "six==1.16.0\n",
      "stack-data==0.6.2\n",
      "tensorboard==2.9.1\n",
      "tensorboard-data-server==0.6.1\n",
      "tensorboard-plugin-wit==1.8.1\n",
      "tensorflow==2.9.0\n",
      "tensorflow-datasets==4.9.3\n",
      "tensorflow-estimator==2.9.0\n",
      "tensorflow-io-gcs-filesystem==0.31.0\n",
      "tensorflow-metadata==1.14.0\n",
      "termcolor==2.3.0\n",
      "toml==0.10.2\n",
      "tornado==6.2\n",
      "tqdm==4.66.1\n",
      "traitlets==5.9.0\n",
      "typing_extensions==4.8.0\n",
      "urllib3==2.0.6\n",
      "wcwidth==0.2.6\n",
      "Werkzeug==3.0.0\n",
      "windows-curses==2.3.0\n",
      "wrapt==1.15.0\n",
      "zipp==3.17.0\n"
     ]
    },
    {
     "name": "stderr",
     "output_type": "stream",
     "text": [
      "WARNING: Ignoring invalid distribution -rotobuf (c:\\users\\clayb\\appdata\\local\\packages\\pythonsoftwarefoundation.python.3.10_qbz5n2kfra8p0\\localcache\\local-packages\\python310\\site-packages)\n"
     ]
    }
   ],
   "source": [
    "!pip freeze"
   ]
  },
  {
   "cell_type": "code",
   "execution_count": 20,
   "metadata": {},
   "outputs": [
    {
     "ename": "ImportError",
     "evalue": "cannot import name 'core' from partially initialized module 'tensorflow_datasets' (most likely due to a circular import) (C:\\Users\\clayb\\AppData\\Local\\Packages\\PythonSoftwareFoundation.Python.3.10_qbz5n2kfra8p0\\LocalCache\\local-packages\\Python310\\site-packages\\tensorflow_datasets\\__init__.py)",
     "output_type": "error",
     "traceback": [
      "\u001b[1;31m---------------------------------------------------------------------------\u001b[0m",
      "\u001b[1;31mImportError\u001b[0m                               Traceback (most recent call last)",
      "\u001b[1;32mc:\\Users\\clayb\\Documents\\GitHub\\holbertonschool-machine_learning\\reinforcement_learning\\pipeline\\data_augmentation\\data_augmentation.ipynb Cell 2\u001b[0m line \u001b[0;36m5\n\u001b[0;32m      <a href='vscode-notebook-cell:/c%3A/Users/clayb/Documents/GitHub/holbertonschool-machine_learning/reinforcement_learning/pipeline/data_augmentation/data_augmentation.ipynb#W4sZmlsZQ%3D%3D?line=1'>2</a>\u001b[0m \u001b[39mimport\u001b[39;00m \u001b[39mtensorflow\u001b[39;00m \u001b[39mas\u001b[39;00m \u001b[39mtf\u001b[39;00m\n\u001b[0;32m      <a href='vscode-notebook-cell:/c%3A/Users/clayb/Documents/GitHub/holbertonschool-machine_learning/reinforcement_learning/pipeline/data_augmentation/data_augmentation.ipynb#W4sZmlsZQ%3D%3D?line=3'>4</a>\u001b[0m \u001b[39mimport\u001b[39;00m \u001b[39mtensorflow\u001b[39;00m \u001b[39mas\u001b[39;00m \u001b[39mtf\u001b[39;00m\n\u001b[1;32m----> <a href='vscode-notebook-cell:/c%3A/Users/clayb/Documents/GitHub/holbertonschool-machine_learning/reinforcement_learning/pipeline/data_augmentation/data_augmentation.ipynb#W4sZmlsZQ%3D%3D?line=4'>5</a>\u001b[0m \u001b[39mimport\u001b[39;00m \u001b[39mtensorflow_datasets\u001b[39;00m \u001b[39mas\u001b[39;00m \u001b[39mtfds\u001b[39;00m\n\u001b[0;32m      <a href='vscode-notebook-cell:/c%3A/Users/clayb/Documents/GitHub/holbertonschool-machine_learning/reinforcement_learning/pipeline/data_augmentation/data_augmentation.ipynb#W4sZmlsZQ%3D%3D?line=5'>6</a>\u001b[0m \u001b[39mimport\u001b[39;00m \u001b[39mmatplotlib\u001b[39;00m\u001b[39m.\u001b[39;00m\u001b[39mpyplot\u001b[39;00m \u001b[39mas\u001b[39;00m \u001b[39mplt\u001b[39;00m\n",
      "File \u001b[1;32m~\\AppData\\Local\\Packages\\PythonSoftwareFoundation.Python.3.10_qbz5n2kfra8p0\\LocalCache\\local-packages\\Python310\\site-packages\\tensorflow_datasets\\__init__.py:43\u001b[0m\n\u001b[0;32m     41\u001b[0m _TIMESTAMP_IMPORT_STARTS \u001b[39m=\u001b[39m time\u001b[39m.\u001b[39mtime()\n\u001b[0;32m     42\u001b[0m \u001b[39mfrom\u001b[39;00m \u001b[39mabsl\u001b[39;00m \u001b[39mimport\u001b[39;00m logging\n\u001b[1;32m---> 43\u001b[0m \u001b[39mimport\u001b[39;00m \u001b[39mtensorflow_datasets\u001b[39;00m\u001b[39m.\u001b[39;00m\u001b[39mcore\u001b[39;00m\u001b[39m.\u001b[39;00m\u001b[39mlogging\u001b[39;00m \u001b[39mas\u001b[39;00m \u001b[39m_tfds_logging\u001b[39;00m\n\u001b[0;32m     44\u001b[0m \u001b[39mfrom\u001b[39;00m \u001b[39mtensorflow_datasets\u001b[39;00m\u001b[39m.\u001b[39;00m\u001b[39mcore\u001b[39;00m\u001b[39m.\u001b[39;00m\u001b[39mlogging\u001b[39;00m \u001b[39mimport\u001b[39;00m call_metadata \u001b[39mas\u001b[39;00m _call_metadata\n\u001b[0;32m     46\u001b[0m _metadata \u001b[39m=\u001b[39m _call_metadata\u001b[39m.\u001b[39mCallMetadata()\n",
      "\u001b[1;31mImportError\u001b[0m: cannot import name 'core' from partially initialized module 'tensorflow_datasets' (most likely due to a circular import) (C:\\Users\\clayb\\AppData\\Local\\Packages\\PythonSoftwareFoundation.Python.3.10_qbz5n2kfra8p0\\LocalCache\\local-packages\\Python310\\site-packages\\tensorflow_datasets\\__init__.py)"
     ]
    }
   ],
   "source": [
    "import numpy as np\n",
    "import tensorflow as tf\n",
    "\n",
    "import tensorflow as tf\n",
    "import tensorflow_datasets as tfds\n",
    "import matplotlib.pyplot as plt"
   ]
  },
  {
   "cell_type": "code",
   "execution_count": 1,
   "metadata": {},
   "outputs": [],
   "source": [
    "# Task 0:\n",
    "def flip_image(image):\n",
    "    flipped_image = tf.image.flip_left_right(image)\n",
    "    \n",
    "    return flipped_image"
   ]
  },
  {
   "cell_type": "code",
   "execution_count": null,
   "metadata": {},
   "outputs": [],
   "source": [
    "tf.compat.v1.enable_eager_execution()\n",
    "tf.compat.v1.set_random_seed(0)\n",
    "\n",
    "doggies = tfds.load('stanford_dogs', split='train', as_supervised=True)\n",
    "for image, _ in doggies.shuffle(10).take(1):\n",
    "    plt.imshow(flip_image(image))"
   ]
  },
  {
   "cell_type": "code",
   "execution_count": null,
   "metadata": {},
   "outputs": [],
   "source": [
    "# Task 1:\n",
    "def crop_image(image, size):\n",
    "    cropped_image = tf.image.random_crop(image, size)\n",
    "\n",
    "    return cropped_image"
   ]
  },
  {
   "cell_type": "code",
   "execution_count": null,
   "metadata": {},
   "outputs": [],
   "source": [
    "tf.compat.v1.enable_eager_execution()\n",
    "tf.compat.v1.set_random_seed(1)\n",
    "\n",
    "doggies = tfds.load('stanford_dogs', split='train', as_supervised=True)\n",
    "for image, _ in doggies.shuffle(10).take(1):\n",
    "    plt.imshow(crop_image(image, (200, 200, 3)))\n",
    "    plt.show()"
   ]
  },
  {
   "cell_type": "code",
   "execution_count": null,
   "metadata": {},
   "outputs": [],
   "source": [
    "# Task 2:\n",
    "def rotate_image(image):\n",
    "\n",
    "    return tf.image.rot90(image)\n"
   ]
  },
  {
   "cell_type": "code",
   "execution_count": null,
   "metadata": {},
   "outputs": [],
   "source": [
    "tf.compat.v1.enable_eager_execution()\n",
    "tf.compat.v1.set_random_seed(2)\n",
    "\n",
    "doggies = tfds.load('stanford_dogs', split='train', as_supervised=True)\n",
    "for image, _ in doggies.shuffle(10).take(1):\n",
    "    plt.imshow(rotate_image(image))\n",
    "    plt.show()"
   ]
  },
  {
   "cell_type": "code",
   "execution_count": null,
   "metadata": {},
   "outputs": [],
   "source": [
    "# Task 3:\n",
    "def shear_image(image, intensity):\n",
    "\n",
    "    return tf.keras.preprocessing.image.random_shear(image,\n",
    "                                                     intensity,\n",
    "                                                     row_axis=1,\n",
    "                                                     col_axis=0,\n",
    "                                                     channel_axis=2,\n",
    "                                                     fill_mode='nearest',\n",
    "                                                     cval=0.0,\n",
    "                                                     interpolation_order=1\n",
    "                                                     )"
   ]
  }
 ],
 "metadata": {
  "kernelspec": {
   "display_name": "Python 3",
   "language": "python",
   "name": "python3"
  },
  "language_info": {
   "codemirror_mode": {
    "name": "ipython",
    "version": 3
   },
   "file_extension": ".py",
   "mimetype": "text/x-python",
   "name": "python",
   "nbconvert_exporter": "python",
   "pygments_lexer": "ipython3",
   "version": "3.10.11"
  }
 },
 "nbformat": 4,
 "nbformat_minor": 2
}
