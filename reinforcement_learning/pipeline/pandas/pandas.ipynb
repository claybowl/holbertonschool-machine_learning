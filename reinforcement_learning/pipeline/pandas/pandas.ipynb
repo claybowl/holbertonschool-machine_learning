{
 "cells": [
  {
   "cell_type": "code",
   "execution_count": 1,
   "metadata": {},
   "outputs": [],
   "source": [
    "import pandas as pd\n",
    "import numpy as np"
   ]
  },
  {
   "cell_type": "markdown",
   "metadata": {},
   "source": [
    "## Task 0:"
   ]
  },
  {
   "cell_type": "code",
   "execution_count": 2,
   "metadata": {},
   "outputs": [],
   "source": [
    "def from_numpy(array):\n",
    "    \"\"\"Create a DataFrame from a np.ndarray\"\"\"\n",
    "    df = pd.DataFrame(array)\n",
    "    return df"
   ]
  },
  {
   "cell_type": "markdown",
   "metadata": {},
   "source": [
    "### Task 0 Main:"
   ]
  },
  {
   "cell_type": "code",
   "execution_count": 3,
   "metadata": {},
   "outputs": [
    {
     "name": "stdout",
     "output_type": "stream",
     "text": [
      "          0         1         2         3         4         5         6  \\\n",
      "0  1.764052  0.400157  0.978738  2.240893  1.867558 -0.977278  0.950088   \n",
      "1 -0.103219  0.410599  0.144044  1.454274  0.761038  0.121675  0.443863   \n",
      "2  1.494079 -0.205158  0.313068 -0.854096 -2.552990  0.653619  0.864436   \n",
      "3  2.269755 -1.454366  0.045759 -0.187184  1.532779  1.469359  0.154947   \n",
      "4 -0.887786 -1.980796 -0.347912  0.156349  1.230291  1.202380 -0.387327   \n",
      "\n",
      "          7  \n",
      "0 -0.151357  \n",
      "1  0.333674  \n",
      "2 -0.742165  \n",
      "3  0.378163  \n",
      "4 -0.302303  \n",
      "          0         1         2\n",
      "0 -1.048553 -1.420018 -1.706270\n",
      "1  1.950775 -0.509652 -0.438074\n",
      "2 -1.252795  0.777490 -1.613898\n",
      "3 -0.212740 -0.895467  0.386902\n",
      "4 -0.510805 -1.180632 -0.028182\n",
      "5  0.428332  0.066517  0.302472\n",
      "6 -0.634322 -0.362741 -0.672460\n",
      "7 -0.359553 -0.813146 -1.726283\n",
      "8  0.177426 -0.401781 -1.630198\n"
     ]
    }
   ],
   "source": [
    "np.random.seed(0)\n",
    "A = np.random.randn(5, 8)\n",
    "print(from_numpy(A))\n",
    "B = np.random.randn(9, 3)\n",
    "print(from_numpy(B))"
   ]
  },
  {
   "cell_type": "markdown",
   "metadata": {},
   "source": [
    "## Task 1:"
   ]
  },
  {
   "cell_type": "code",
   "execution_count": 4,
   "metadata": {},
   "outputs": [
    {
     "data": {
      "text/html": [
       "<div>\n",
       "<style scoped>\n",
       "    .dataframe tbody tr th:only-of-type {\n",
       "        vertical-align: middle;\n",
       "    }\n",
       "\n",
       "    .dataframe tbody tr th {\n",
       "        vertical-align: top;\n",
       "    }\n",
       "\n",
       "    .dataframe thead th {\n",
       "        text-align: right;\n",
       "    }\n",
       "</style>\n",
       "<table border=\"1\" class=\"dataframe\">\n",
       "  <thead>\n",
       "    <tr style=\"text-align: right;\">\n",
       "      <th></th>\n",
       "      <th>First</th>\n",
       "      <th>Second</th>\n",
       "    </tr>\n",
       "  </thead>\n",
       "  <tbody>\n",
       "    <tr>\n",
       "      <th>A</th>\n",
       "      <td>0.0</td>\n",
       "      <td>one</td>\n",
       "    </tr>\n",
       "    <tr>\n",
       "      <th>B</th>\n",
       "      <td>0.5</td>\n",
       "      <td>two</td>\n",
       "    </tr>\n",
       "    <tr>\n",
       "      <th>C</th>\n",
       "      <td>1.0</td>\n",
       "      <td>three</td>\n",
       "    </tr>\n",
       "    <tr>\n",
       "      <th>D</th>\n",
       "      <td>1.5</td>\n",
       "      <td>four</td>\n",
       "    </tr>\n",
       "  </tbody>\n",
       "</table>\n",
       "</div>"
      ],
      "text/plain": [
       "   First Second\n",
       "A    0.0    one\n",
       "B    0.5    two\n",
       "C    1.0  three\n",
       "D    1.5   four"
      ]
     },
     "execution_count": 4,
     "metadata": {},
     "output_type": "execute_result"
    }
   ],
   "source": [
    "data = {\n",
    "    'First': [0.0, 0.5, 1.0, 1.5],\n",
    "    'Second': ['one', 'two', 'three', 'four']\n",
    "}\n",
    "\n",
    "index = ['A', 'B', 'C', 'D']\n",
    "\n",
    "# create dataframe\n",
    "df = pd.DataFrame(data, index=index)\n",
    "\n",
    "df"
   ]
  },
  {
   "cell_type": "markdown",
   "metadata": {},
   "source": [
    "### Main"
   ]
  },
  {
   "cell_type": "code",
   "execution_count": 5,
   "metadata": {},
   "outputs": [
    {
     "name": "stdout",
     "output_type": "stream",
     "text": [
      "   First Second\n",
      "A    0.0    one\n",
      "B    0.5    two\n",
      "C    1.0  three\n",
      "D    1.5   four\n"
     ]
    }
   ],
   "source": [
    "print(df)"
   ]
  },
  {
   "cell_type": "markdown",
   "metadata": {},
   "source": [
    "## Task 2:"
   ]
  },
  {
   "cell_type": "code",
   "execution_count": 6,
   "metadata": {},
   "outputs": [],
   "source": [
    "def from_file(filename, delimiter):\n",
    "    \"\"\"\n",
    "    Load data from a file into a pandas DataFrame.\n",
    "\n",
    "    Parameters:\n",
    "    - filename: str\n",
    "        The path to the file to be read.\n",
    "    - delimiter: str\n",
    "        The column separator for the file.\n",
    "\n",
    "    Returns:\n",
    "    - df: pd.DataFrame\n",
    "        The loaded pandas DataFrame.\n",
    "    \"\"\"\n",
    "    # Read file using Pandas and return the resulting Dataframe\n",
    "    df = pd.read_csv(filename, delimiter=delimiter)\n",
    "    return df"
   ]
  },
  {
   "cell_type": "markdown",
   "metadata": {},
   "source": [
    "### Main:"
   ]
  },
  {
   "cell_type": "code",
   "execution_count": 7,
   "metadata": {},
   "outputs": [
    {
     "name": "stdout",
     "output_type": "stream",
     "text": [
      "    Timestamp   Open   High    Low  Close  Volume_(BTC)  Volume_(Currency)  \\\n",
      "0  1417411980  300.0  300.0  300.0  300.0          0.01                3.0   \n",
      "1  1417412040    NaN    NaN    NaN    NaN           NaN                NaN   \n",
      "2  1417412100    NaN    NaN    NaN    NaN           NaN                NaN   \n",
      "3  1417412160    NaN    NaN    NaN    NaN           NaN                NaN   \n",
      "4  1417412220    NaN    NaN    NaN    NaN           NaN                NaN   \n",
      "\n",
      "   Weighted_Price  \n",
      "0           300.0  \n",
      "1             NaN  \n",
      "2             NaN  \n",
      "3             NaN  \n",
      "4             NaN  \n",
      "          Timestamp     Open     High      Low    Close  Volume_(BTC)  \\\n",
      "4363452  1587513360  6847.97  6856.35  6847.97  6856.35      0.125174   \n",
      "4363453  1587513420  6850.23  6856.13  6850.23  6850.89      1.224777   \n",
      "4363454  1587513480  6846.50  6857.45  6846.02  6857.45      7.089168   \n",
      "4363455  1587513540  6854.18  6854.98  6854.18  6854.98      0.012231   \n",
      "4363456  1587513600  6850.60  6850.60  6850.60  6850.60      0.014436   \n",
      "\n",
      "         Volume_(Currency)  Weighted_Price  \n",
      "4363452         858.128697     6855.498790  \n",
      "4363453        8396.781459     6855.763449  \n",
      "4363454       48533.089069     6846.090966  \n",
      "4363455          83.831604     6854.195090  \n",
      "4363456          98.896906     6850.600000  \n"
     ]
    }
   ],
   "source": [
    "df1 = from_file('coinbaseUSD_1-min_data_2014-12-01_to_2019-01-09.csv', ',')\n",
    "print(df1.head())\n",
    "df2 = from_file('bitstampUSD_1-min_data_2012-01-01_to_2020-04-22.csv', ',')\n",
    "print(df2.tail())"
   ]
  },
  {
   "cell_type": "markdown",
   "metadata": {},
   "source": [
    "## Task 3:"
   ]
  },
  {
   "cell_type": "code",
   "execution_count": 8,
   "metadata": {},
   "outputs": [
    {
     "name": "stdout",
     "output_type": "stream",
     "text": [
      "                   Datetime    Close\n",
      "2099755 2019-01-07 22:02:00  4006.01\n",
      "2099756 2019-01-07 22:03:00  4006.01\n",
      "2099757 2019-01-07 22:04:00  4006.01\n",
      "2099758 2019-01-07 22:05:00  4005.50\n",
      "2099759 2019-01-07 22:06:00  4005.99\n"
     ]
    }
   ],
   "source": [
    "\n",
    "# Load the data using the provided function\n",
    "df = from_file('coinbaseUSD_1-min_data_2014-12-01_to_2019-01-09.csv', ',')\n",
    "\n",
    "# Rename the column Timestamp to Datetime\n",
    "df.rename(columns={'Timestamp': 'Datetime'}, inplace=True)\n",
    "\n",
    "# Convert the 'Datetime' column from UNIX timestamp to human readable format\n",
    "df['Datetime'] = pd.to_datetime(df['Datetime'], unit='s')\n",
    "\n",
    "# Select only 'Datetime' and 'Close' columns\n",
    "df = df[['Datetime', 'Close']]\n",
    "\n",
    "print(df.tail())\n"
   ]
  },
  {
   "cell_type": "markdown",
   "metadata": {},
   "source": [
    "### Main"
   ]
  },
  {
   "cell_type": "code",
   "execution_count": 9,
   "metadata": {},
   "outputs": [
    {
     "name": "stdout",
     "output_type": "stream",
     "text": [
      "          Timestamp     Open     High      Low    Close  Volume_(BTC)  \\\n",
      "2099755  1546898520  4006.01  4006.57  4006.00  4006.01      3.382954   \n",
      "2099756  1546898580  4006.01  4006.57  4006.00  4006.01      0.902164   \n",
      "2099757  1546898640  4006.01  4006.01  4006.00  4006.01      1.192123   \n",
      "2099758  1546898700  4006.01  4006.01  4005.50  4005.50      2.699700   \n",
      "2099759  1546898760  4005.51  4006.01  4005.51  4005.99      1.752778   \n",
      "\n",
      "         Volume_(Currency)  Weighted_Price  \n",
      "2099755       13553.433078     4006.390309  \n",
      "2099756        3614.083168     4006.017232  \n",
      "2099757        4775.647308     4006.003635  \n",
      "2099758       10814.241898     4005.719991  \n",
      "2099759        7021.183546     4005.745614  \n"
     ]
    }
   ],
   "source": [
    "\n",
    "df = from_file('coinbaseUSD_1-min_data_2014-12-01_to_2019-01-09.csv', ',')\n",
    "\n",
    "# YOUR CODE HERE\n",
    "\n",
    "print(df.tail())"
   ]
  },
  {
   "cell_type": "markdown",
   "metadata": {},
   "source": [
    "## Task 4:"
   ]
  },
  {
   "cell_type": "code",
   "execution_count": 10,
   "metadata": {},
   "outputs": [
    {
     "name": "stdout",
     "output_type": "stream",
     "text": [
      "[[4009.54 4007.01]\n",
      " [4007.01 4003.49]\n",
      " [4007.29 4006.57]\n",
      " [4006.57 4006.56]\n",
      " [4006.57 4006.01]\n",
      " [4006.57 4006.01]\n",
      " [4006.57 4006.01]\n",
      " [4006.01 4006.01]\n",
      " [4006.01 4005.5 ]\n",
      " [4006.01 4005.99]]\n"
     ]
    }
   ],
   "source": [
    "# Load the data using the provided function\n",
    "df = from_file('coinbaseUSD_1-min_data_2014-12-01_to_2019-01-09.csv', ',')\n",
    "\n",
    "# Select the last 10 rows of the columns 'High' and 'Close'\n",
    "subset = df[['High', 'Close']].tail(10)\n",
    "\n",
    "# Convert the DataFrame slice into a numpy array\n",
    "A = subset.values\n",
    "\n",
    "print(A)"
   ]
  },
  {
   "cell_type": "markdown",
   "metadata": {},
   "source": [
    "## Task 5:"
   ]
  },
  {
   "cell_type": "code",
   "execution_count": 16,
   "metadata": {},
   "outputs": [
    {
     "name": "stdout",
     "output_type": "stream",
     "text": [
      "            High      Low    Close  Volume_(BTC)\n",
      "2099460  4020.08  4020.07  4020.08      4.704989\n",
      "2099520  4020.94  4020.93  4020.94      2.111411\n",
      "2099580  4020.00  4019.01  4020.00      4.637035\n",
      "2099640  4017.00  4016.99  4017.00      2.362372\n",
      "2099700  4014.78  4013.50  4014.72      1.291557\n"
     ]
    }
   ],
   "source": [
    "# # Load the data using the provided function\n",
    "df = from_file('coinbaseUSD_1-min_data_2014-12-01_to_2019-01-09.csv', ',')\n",
    "\n",
    "# Select the columns 'High', 'Low', 'Close', and 'Volume_BTC'\n",
    "# Take every 60th row\n",
    "df = df[['High', 'Low', 'Close', 'Volume_(BTC)']][::60]\n",
    "\n",
    "print(df.tail())"
   ]
  },
  {
   "cell_type": "markdown",
   "metadata": {},
   "source": [
    "## Task 6:"
   ]
  },
  {
   "cell_type": "code",
   "execution_count": 18,
   "metadata": {},
   "outputs": [
    {
     "name": "stdout",
     "output_type": "stream",
     "text": [
      "      Timestamp   Open   High    Low  Close  Volume_(BTC)  Volume_(Currency)  \\\n",
      "7  1.417412e+09  300.0  300.0  300.0  300.0          0.01                3.0   \n",
      "6  1.417412e+09    NaN    NaN    NaN    NaN           NaN                NaN   \n",
      "5  1.417412e+09    NaN    NaN    NaN    NaN           NaN                NaN   \n",
      "4  1.417412e+09    NaN    NaN    NaN    NaN           NaN                NaN   \n",
      "3  1.417412e+09    NaN    NaN    NaN    NaN           NaN                NaN   \n",
      "2  1.417412e+09    NaN    NaN    NaN    NaN           NaN                NaN   \n",
      "1  1.417412e+09    NaN    NaN    NaN    NaN           NaN                NaN   \n",
      "0  1.417412e+09  300.0  300.0  300.0  300.0          0.01                3.0   \n",
      "\n",
      "   Weighted_Price  \n",
      "7           300.0  \n",
      "6             NaN  \n",
      "5             NaN  \n",
      "4             NaN  \n",
      "3             NaN  \n",
      "2             NaN  \n",
      "1             NaN  \n",
      "0           300.0  \n"
     ]
    }
   ],
   "source": [
    "# df = from_file('coinbaseUSD_1-min_data_2014-12-01_to_2019-01-09.csv', ',')\n",
    "\n",
    "# Transpose the DataFrame\n",
    "df = df.T\n",
    "\n",
    "# Sort the DataFrame in reverse chronological order based on the 'Timestamp' values\n",
    "df = df.sort_values(by='Timestamp', ascending=False)\n",
    "\n",
    "print(df.tail(8))"
   ]
  },
  {
   "cell_type": "markdown",
   "metadata": {},
   "source": [
    "## Task 7:"
   ]
  },
  {
   "cell_type": "code",
   "execution_count": 19,
   "metadata": {},
   "outputs": [
    {
     "name": "stdout",
     "output_type": "stream",
     "text": [
      "            Timestamp      Open      High       Low     Close  Volume_(BTC)  \\\n",
      "1543351  1.513514e+09  19891.99  19891.99  19891.98  19891.98      8.172155   \n",
      "1543353  1.513514e+09  19891.99  19891.99  19876.22  19884.99     19.925151   \n",
      "1543349  1.513514e+09  19891.00  19891.99  19890.99  19891.99      1.336512   \n",
      "1543350  1.513514e+09  19891.99  19891.99  19891.98  19891.98      3.323210   \n",
      "1543352  1.513514e+09  19891.99  19891.99  19891.98  19891.98      9.836946   \n",
      "\n",
      "         Volume_(Currency)  Weighted_Price  \n",
      "1543351      162560.403740    19891.987528  \n",
      "1543353      396292.881750    19889.078007  \n",
      "1543349       26584.930278    19891.272886  \n",
      "1543350       66105.250870    19891.984712  \n",
      "1543352      195676.363110    19891.983294  \n"
     ]
    }
   ],
   "source": [
    "# use the sort_values function and specify descending order\n",
    "df = df.sort_values(by='High', ascending=False)\n",
    "\n",
    "print(df.head())\n"
   ]
  },
  {
   "cell_type": "markdown",
   "metadata": {},
   "source": [
    "## Task 8:"
   ]
  },
  {
   "cell_type": "code",
   "execution_count": 20,
   "metadata": {},
   "outputs": [
    {
     "name": "stdout",
     "output_type": "stream",
     "text": [
      "            Timestamp      Open      High       Low     Close  Volume_(BTC)  \\\n",
      "1543351  1.513514e+09  19891.99  19891.99  19891.98  19891.98      8.172155   \n",
      "1543353  1.513514e+09  19891.99  19891.99  19876.22  19884.99     19.925151   \n",
      "1543349  1.513514e+09  19891.00  19891.99  19890.99  19891.99      1.336512   \n",
      "1543350  1.513514e+09  19891.99  19891.99  19891.98  19891.98      3.323210   \n",
      "1543352  1.513514e+09  19891.99  19891.99  19891.98  19891.98      9.836946   \n",
      "\n",
      "         Volume_(Currency)  Weighted_Price  \n",
      "1543351      162560.403740    19891.987528  \n",
      "1543353      396292.881750    19889.078007  \n",
      "1543349       26584.930278    19891.272886  \n",
      "1543350       66105.250870    19891.984712  \n",
      "1543352      195676.363110    19891.983294  \n"
     ]
    }
   ],
   "source": [
    "# Drop rows where 'Close' is NaN\n",
    "df = df.dropna(subset=['Close'])\n",
    "\n",
    "print(df.head())"
   ]
  },
  {
   "cell_type": "markdown",
   "metadata": {},
   "source": [
    "## Task 9:"
   ]
  },
  {
   "cell_type": "code",
   "execution_count": 21,
   "metadata": {},
   "outputs": [
    {
     "name": "stderr",
     "output_type": "stream",
     "text": [
      "C:\\Users\\clayb\\AppData\\Local\\Temp\\ipykernel_11152\\3749217408.py:7: FutureWarning: Series.fillna with 'method' is deprecated and will raise in a future version. Use obj.ffill() or obj.bfill() instead.\n",
      "  df.Close.fillna(method='pad', inplace=True)\n"
     ]
    },
    {
     "name": "stdout",
     "output_type": "stream",
     "text": [
      "    Timestamp   Open   High    Low  Close  Volume_(BTC)  Volume_(Currency)\n",
      "0  1417411980  300.0  300.0  300.0  300.0          0.01                3.0\n",
      "1  1417412040    NaN    NaN    NaN  300.0           NaN                NaN\n",
      "2  1417412100    NaN    NaN    NaN  300.0           NaN                NaN\n",
      "3  1417412160    NaN    NaN    NaN  300.0           NaN                NaN\n",
      "4  1417412220    NaN    NaN    NaN  300.0           NaN                NaN\n",
      "          Timestamp     Open     High      Low    Close  Volume_(BTC)  \\\n",
      "2099755  1546898520  4006.01  4006.57  4006.00  4006.01      3.382954   \n",
      "2099756  1546898580  4006.01  4006.57  4006.00  4006.01      0.902164   \n",
      "2099757  1546898640  4006.01  4006.01  4006.00  4006.01      1.192123   \n",
      "2099758  1546898700  4006.01  4006.01  4005.50  4005.50      2.699700   \n",
      "2099759  1546898760  4005.51  4006.01  4005.51  4005.99      1.752778   \n",
      "\n",
      "         Volume_(Currency)  \n",
      "2099755       13553.433078  \n",
      "2099756        3614.083168  \n",
      "2099757        4775.647308  \n",
      "2099758       10814.241898  \n",
      "2099759        7021.183546  \n"
     ]
    },
    {
     "name": "stderr",
     "output_type": "stream",
     "text": [
      "C:\\Users\\clayb\\AppData\\Local\\Temp\\ipykernel_11152\\3749217408.py:10: SettingWithCopyWarning: \n",
      "A value is trying to be set on a copy of a slice from a DataFrame\n",
      "\n",
      "See the caveats in the documentation: https://pandas.pydata.org/pandas-docs/stable/user_guide/indexing.html#returning-a-view-versus-a-copy\n",
      "  df[['High', 'Low', 'Open']].fillna(df.Close, inplace=True)\n",
      "C:\\Users\\clayb\\AppData\\Local\\Temp\\ipykernel_11152\\3749217408.py:13: SettingWithCopyWarning: \n",
      "A value is trying to be set on a copy of a slice from a DataFrame\n",
      "\n",
      "See the caveats in the documentation: https://pandas.pydata.org/pandas-docs/stable/user_guide/indexing.html#returning-a-view-versus-a-copy\n",
      "  df[['Volume_(BTC)', 'Volume_(Currency)']].fillna(0, inplace=True)\n"
     ]
    }
   ],
   "source": [
    "df = from_file('coinbaseUSD_1-min_data_2014-12-01_to_2019-01-09.csv', ',')\n",
    "\n",
    "\n",
    "# Remove Weighted_Price column\n",
    "df = df.drop('Weighted_Price', axis=1)\n",
    "\n",
    "# Fill missing values in Close with previous row value\n",
    "df.Close.fillna(method='pad', inplace=True)\n",
    "\n",
    "# Fill missing values in High, Low, Open with same row's Close value\n",
    "df[['High', 'Low', 'Open']].fillna(df.Close, inplace=True)\n",
    "\n",
    "# Fill missing values in Volume_(BTC) and Volume_(Currency) with 0\n",
    "df[['Volume_(BTC)', 'Volume_(Currency)']].fillna(0, inplace=True)\n",
    "\n",
    "print(df.head())\n",
    "print(df.tail())\n"
   ]
  },
  {
   "cell_type": "markdown",
   "metadata": {},
   "source": [
    "## Task 10:"
   ]
  },
  {
   "cell_type": "code",
   "execution_count": 22,
   "metadata": {},
   "outputs": [
    {
     "name": "stdout",
     "output_type": "stream",
     "text": [
      "               Open     High      Low    Close  Volume_(BTC)  \\\n",
      "Timestamp                                                      \n",
      "1546898520  4006.01  4006.57  4006.00  4006.01      3.382954   \n",
      "1546898580  4006.01  4006.57  4006.00  4006.01      0.902164   \n",
      "1546898640  4006.01  4006.01  4006.00  4006.01      1.192123   \n",
      "1546898700  4006.01  4006.01  4005.50  4005.50      2.699700   \n",
      "1546898760  4005.51  4006.01  4005.51  4005.99      1.752778   \n",
      "\n",
      "            Volume_(Currency)  Weighted_Price  \n",
      "Timestamp                                      \n",
      "1546898520       13553.433078     4006.390309  \n",
      "1546898580        3614.083168     4006.017232  \n",
      "1546898640        4775.647308     4006.003635  \n",
      "1546898700       10814.241898     4005.719991  \n",
      "1546898760        7021.183546     4005.745614  \n"
     ]
    }
   ],
   "source": [
    "df = from_file('coinbaseUSD_1-min_data_2014-12-01_to_2019-01-09.csv', ',')\n",
    "\n",
    "df = df.set_index('Timestamp')\n",
    "\n",
    "print(df.tail())"
   ]
  },
  {
   "cell_type": "markdown",
   "metadata": {},
   "source": [
    "## Task 11:"
   ]
  },
  {
   "cell_type": "code",
   "execution_count": 23,
   "metadata": {},
   "outputs": [
    {
     "name": "stdout",
     "output_type": "stream",
     "text": [
      "                        Open     High      Low    Close  Volume_(BTC)  \\\n",
      "         Timestamp                                                      \n",
      "bitstamp 1325317920     4.39     4.39     4.39     4.39      0.455581   \n",
      "         1325317980      NaN      NaN      NaN      NaN           NaN   \n",
      "         1325318040      NaN      NaN      NaN      NaN           NaN   \n",
      "         1325318100      NaN      NaN      NaN      NaN           NaN   \n",
      "         1325318160      NaN      NaN      NaN      NaN           NaN   \n",
      "...                      ...      ...      ...      ...           ...   \n",
      "coinbase 1546898520  4006.01  4006.57  4006.00  4006.01      3.382954   \n",
      "         1546898580  4006.01  4006.57  4006.00  4006.01      0.902164   \n",
      "         1546898640  4006.01  4006.01  4006.00  4006.01      1.192123   \n",
      "         1546898700  4006.01  4006.01  4005.50  4005.50      2.699700   \n",
      "         1546898760  4005.51  4006.01  4005.51  4005.99      1.752778   \n",
      "\n",
      "                     Volume_(Currency)  Weighted_Price  \n",
      "         Timestamp                                      \n",
      "bitstamp 1325317920           2.000000        4.390000  \n",
      "         1325317980                NaN             NaN  \n",
      "         1325318040                NaN             NaN  \n",
      "         1325318100                NaN             NaN  \n",
      "         1325318160                NaN             NaN  \n",
      "...                                ...             ...  \n",
      "coinbase 1546898520       13553.433078     4006.390309  \n",
      "         1546898580        3614.083168     4006.017232  \n",
      "         1546898640        4775.647308     4006.003635  \n",
      "         1546898700       10814.241898     4005.719991  \n",
      "         1546898760        7021.183546     4005.745614  \n",
      "\n",
      "[4573189 rows x 7 columns]\n"
     ]
    }
   ],
   "source": [
    "df1 = from_file('coinbaseUSD_1-min_data_2014-12-01_to_2019-01-09.csv', ',')\n",
    "df2 = from_file('bitstampUSD_1-min_data_2012-01-01_to_2020-04-22.csv', ',')\n",
    "\n",
    "# Index the DataFrames on the Timestamp columns\n",
    "df1.set_index('Timestamp', inplace=True)\n",
    "df2.set_index('Timestamp', inplace=True)\n",
    "\n",
    "# Filter df2 up to the given timestamp\n",
    "df2_filtered = df2[df2.index <= 1474111920]\n",
    "\n",
    "# Concatenate the dataframes, adding keys\n",
    "df = pd.concat([df2_filtered, df1], keys=['bitstamp', 'coinbase'])\n",
    "\n",
    "print(df)\n"
   ]
  },
  {
   "cell_type": "markdown",
   "metadata": {},
   "source": [
    "## Task 12:"
   ]
  },
  {
   "cell_type": "code",
   "execution_count": 37,
   "metadata": {},
   "outputs": [
    {
     "name": "stdout",
     "output_type": "stream",
     "text": [
      "                       Open   High     Low  Close  Volume_(BTC)  \\\n",
      "         Timestamp                                                \n",
      "bitstamp 1417411980  379.99  380.0  379.99  380.0      3.901265   \n",
      "         1417412040  380.00  380.0  380.00  380.0     35.249895   \n",
      "         1417412100  380.00  380.0  380.00  380.0      3.712000   \n",
      "         1417412160  379.93  380.0  379.93  380.0     13.451000   \n",
      "         1417412220  380.00  380.0  380.00  380.0      1.693000   \n",
      "...                     ...    ...     ...    ...           ...   \n",
      "coinbase 1417417740     NaN    NaN     NaN    NaN           NaN   \n",
      "         1417417800     NaN    NaN     NaN    NaN           NaN   \n",
      "         1417417860     NaN    NaN     NaN    NaN           NaN   \n",
      "         1417417920     NaN    NaN     NaN    NaN           NaN   \n",
      "         1417417980     NaN    NaN     NaN    NaN           NaN   \n",
      "\n",
      "                     Volume_(Currency)  Weighted_Price  \n",
      "         Timestamp                                      \n",
      "bitstamp 1417411980        1482.461708      379.995162  \n",
      "         1417412040       13394.959997      380.000000  \n",
      "         1417412100        1410.560000      380.000000  \n",
      "         1417412160        5111.297890      379.993896  \n",
      "         1417412220         643.340000      380.000000  \n",
      "...                                ...             ...  \n",
      "coinbase 1417417740                NaN             NaN  \n",
      "         1417417800                NaN             NaN  \n",
      "         1417417860                NaN             NaN  \n",
      "         1417417920                NaN             NaN  \n",
      "         1417417980                NaN             NaN  \n",
      "\n",
      "[202 rows x 7 columns]\n"
     ]
    }
   ],
   "source": [
    "# Read the CSV files\n",
    "df1 = from_file('coinbaseUSD_1-min_data_2014-12-01_to_2019-01-09.csv', ',')\n",
    "df2 = from_file('bitstampUSD_1-min_data_2012-01-01_to_2020-04-22.csv', ',')\n",
    "\n",
    "# Set 'Timestamp' as index for both dataframes\n",
    "df1.set_index('Timestamp', inplace=True)\n",
    "df2.set_index('Timestamp', inplace=True)\n",
    "\n",
    "# Filter the dataframes based on the given timestamps\n",
    "df1_filtered = df1[(df1.index >= 1417411980) & (df1.index <= 1417417980)]\n",
    "df2_filtered = df2[(df2.index >= 1417411980) & (df2.index <= 1417417980)]\n",
    "\n",
    "# Concatenate the dataframes, adding keys. First bitstamp, then coinbase.\n",
    "df = pd.concat([df2_filtered, df1_filtered], keys=['bitstamp', 'coinbase'])\n",
    "\n",
    "# No need to sort index as we're already appending in the desired order\n",
    "print(df)"
   ]
  },
  {
   "cell_type": "markdown",
   "metadata": {},
   "source": [
    "## Task 13:"
   ]
  },
  {
   "cell_type": "code",
   "execution_count": 45,
   "metadata": {},
   "outputs": [
    {
     "name": "stdout",
     "output_type": "stream",
     "text": [
      "               Open          High           Low         Close  Volume_(BTC)  \\\n",
      "count  1.990691e+06  1.990691e+06  1.990691e+06  1.990691e+06  1.990691e+06   \n",
      "mean   3.246403e+03  3.247829e+03  3.244856e+03  3.246403e+03  7.849139e+00   \n",
      "std    3.799154e+03  3.801394e+03  3.796761e+03  3.799150e+03  1.873222e+01   \n",
      "min    6.000000e-02  6.000000e-02  6.000000e-02  6.000000e-02  1.000000e-08   \n",
      "25%    4.195800e+02  4.196400e+02  4.195000e+02  4.195700e+02  9.024000e-01   \n",
      "50%    1.014580e+03  1.014890e+03  1.014150e+03  1.014530e+03  2.692900e+00   \n",
      "75%    6.322630e+03  6.324010e+03  6.321090e+03  6.322670e+03  7.600965e+00   \n",
      "max    1.989199e+04  1.989199e+04  1.989198e+04  1.989199e+04  1.563267e+03   \n",
      "\n",
      "       Volume_(Currency)  Weighted_Price  \n",
      "count       1.990691e+06    1.990691e+06  \n",
      "mean        3.600157e+04    3.246341e+03  \n",
      "std         1.401879e+05    3.799078e+03  \n",
      "min         2.641700e-06    6.000000e-02  \n",
      "25%         6.440031e+02    4.195645e+02  \n",
      "50%         3.695642e+03    1.014512e+03  \n",
      "75%         1.972392e+04    6.322550e+03  \n",
      "max         1.997076e+07    1.989199e+04  \n"
     ]
    }
   ],
   "source": [
    "df = from_file('coinbaseUSD_1-min_data_2014-12-01_to_2019-01-09.csv', ',')\n",
    "\n",
    "\n",
    "# Remove the Timestamp column\n",
    "# The `axis=1` parameter indicates we\n",
    "# are dropping a column (not a row)\n",
    "# If axis was 0, it would mean we're dropping a row\n",
    "df = df.drop('Timestamp', axis=1)\n",
    "\n",
    "# Calculate descriptive statistics\n",
    "# The describe() function provides statistics like mean, count,\n",
    "# std deviation, min, 25%, 50%, 75%, and max values for each column\n",
    "stats = df.describe()\n",
    "\n",
    "# Print the statistics\n",
    "print(stats)\n"
   ]
  },
  {
   "cell_type": "markdown",
   "metadata": {},
   "source": [
    "## Task 14:"
   ]
  },
  {
   "cell_type": "code",
   "execution_count": 46,
   "metadata": {},
   "outputs": [],
   "source": [
    "import datetime\n",
    "import matplotlib.pyplot as plt\n",
    "import numpy as np"
   ]
  },
  {
   "cell_type": "code",
   "execution_count": 49,
   "metadata": {},
   "outputs": [
    {
     "name": "stderr",
     "output_type": "stream",
     "text": [
      "C:\\Users\\clayb\\AppData\\Local\\Temp\\ipykernel_11152\\1470733988.py:16: FutureWarning: Series.fillna with 'method' is deprecated and will raise in a future version. Use obj.ffill() or obj.bfill() instead.\n",
      "  df['Close'].fillna(method='ffill', inplace=True)\n",
      "C:\\Users\\clayb\\AppData\\Local\\Temp\\ipykernel_11152\\1470733988.py:19: SettingWithCopyWarning: \n",
      "A value is trying to be set on a copy of a slice from a DataFrame\n",
      "\n",
      "See the caveats in the documentation: https://pandas.pydata.org/pandas-docs/stable/user_guide/indexing.html#returning-a-view-versus-a-copy\n",
      "  df[['High', 'Low', 'Open']].fillna(df['Close'], inplace=True)\n",
      "C:\\Users\\clayb\\AppData\\Local\\Temp\\ipykernel_11152\\1470733988.py:22: SettingWithCopyWarning: \n",
      "A value is trying to be set on a copy of a slice from a DataFrame\n",
      "\n",
      "See the caveats in the documentation: https://pandas.pydata.org/pandas-docs/stable/user_guide/indexing.html#returning-a-view-versus-a-copy\n",
      "  df[['Volume_(BTC)', 'Volume_(Currency)']].fillna(0, inplace=True)\n"
     ]
    },
    {
     "data": {
      "image/png": "[encoded data removed]",
      "text/plain": [
       "<Figure size 1400x800 with 1 Axes>"
      ]
     },
     "metadata": {},
     "output_type": "display_data"
    }
   ],
   "source": [
    "df = from_file('coinbaseUSD_1-min_data_2014-12-01_to_2019-01-09.csv', ',')\n",
    "\n",
    "\n",
    "# Drop the Weighted_Price column\n",
    "df.drop(columns='Weighted_Price', inplace=True)\n",
    "\n",
    "# Rename the Timestamp column to Date\n",
    "df.rename(columns={'Timestamp': 'Date'}, inplace=True)\\\n",
    "# Convert the timestamp values to date values\n",
    "df['Date'] = pd.to_datetime(df['Date'], unit='s')\n",
    "\n",
    "# Set the DataFrame index to the Date column\n",
    "df.set_index('Date', inplace=True)\n",
    "\n",
    "# Missing values in Close should be set to the previous row value\n",
    "df['Close'].fillna(method='ffill', inplace=True)\n",
    "\n",
    "# Missing values in High, Low, Open should be set to the same row’s Close value\n",
    "df[['High', 'Low', 'Open']].fillna(df['Close'], inplace=True)\n",
    "\n",
    "# Missing values in Volume_(BTC) and Volume_(Currency) should be set to 0\n",
    "df[['Volume_(BTC)', 'Volume_(Currency)']].fillna(0, inplace=True)\n",
    "\n",
    "# Create boolean mask to filter dates during and after 2017 only.\n",
    "df[df.index.year >= 2017]\n",
    "\n",
    "# Group samples by criteria(day) and assign each grouping\n",
    "# an aggregate operation.\n",
    "daily_df = df.resample('D').agg({\n",
    "    'High': 'max',\n",
    "    'Low':'min',\n",
    "    'Open': 'mean',\n",
    "    'Close': 'mean',\n",
    "    'Volume_(BTC)':'sum',\n",
    "    'Volume_(Currency)': 'sum'\n",
    "})\n",
    "\n",
    "# Group the values of the same day for plotting\n",
    "day_groups = df.resample('D').agg({\n",
    "    'High': 'max',\n",
    "    'Low': 'min',\n",
    "    'Open': 'mean',\n",
    "    'Close': 'mean',\n",
    "    'Volume_(BTC)': 'sum',\n",
    "    'Volume_(Currency)': 'sum'\n",
    "}).rename(columns={'Date': 'day'})\n",
    "\n",
    "# Visualize the data\n",
    "daily_df[['Open', 'High', 'Low', 'Close', 'Volume_(BTC)', 'Volume_(Currency)']].plot(figsize=(14, 8))\n",
    "plt.title(\"Bitcoin Data from 2017 Onwards\")\n",
    "plt.ylabel(\"Value\")\n",
    "plt.xlabel(\"Date\")\n",
    "plt.tight_layout()\n",
    "plt.legend(loc='upper left')\n",
    "plt.show()\n"
   ]
  }
 ],
 "metadata": {
  "kernelspec": {
   "display_name": "Python 3",
   "language": "python",
   "name": "python3"
  },
  "language_info": {
   "codemirror_mode": {
    "name": "ipython",
    "version": 3
   },
   "file_extension": ".py",
   "mimetype": "text/x-python",
   "name": "python",
   "nbconvert_exporter": "python",
   "pygments_lexer": "ipython3",
   "version": "3.10.11"
  }
 },
 "nbformat": 4,
 "nbformat_minor": 2
}
