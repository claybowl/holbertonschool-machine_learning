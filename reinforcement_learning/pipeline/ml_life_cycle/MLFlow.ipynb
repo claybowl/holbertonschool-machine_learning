{
 "cells": [
  {
   "cell_type": "code",
   "execution_count": 25,
   "metadata": {},
   "outputs": [],
   "source": [
    "# Importing necessary libraries\n",
    "from sklearn.neighbors import KNeighborsClassifier\n",
    "import numpy as np\n",
    "import pandas as pd\n",
    "import mlflow  # Import MLflow\n",
    "import mlflow.sklearn  # Import MLflow's scikit-learn package\n",
    "import matplotlib.pyplot as plt\n",
    "#!pip install seaborn\n",
    "import seaborn as sns"
   ]
  },
  {
   "cell_type": "code",
   "execution_count": 20,
   "metadata": {},
   "outputs": [],
   "source": [
    "mlflow.set_tracking_uri(\"databricks://community.cloud.databricks.com/?o=5574092529953980\")"
   ]
  },
  {
   "cell_type": "code",
   "execution_count": 21,
   "metadata": {},
   "outputs": [
    {
     "name": "stdout",
     "output_type": "stream",
     "text": [
      "Current tracking URI:  databricks://community.cloud.databricks.com/?o=5574092529953980\n"
     ]
    }
   ],
   "source": [
    "print(\"Current tracking URI: \", mlflow.get_tracking_uri())"
   ]
  },
  {
   "cell_type": "code",
   "execution_count": 26,
   "metadata": {},
   "outputs": [
    {
     "ename": "MlflowException",
     "evalue": "Got malformed Databricks CLI profile 'community.cloud.databricks.com'. Please make sure the Databricks CLI is properly configured as described at https://github.com/databricks/databricks-cli.",
     "output_type": "error",
     "traceback": [
      "\u001b[1;31m---------------------------------------------------------------------------\u001b[0m",
      "\u001b[1;31mMlflowException\u001b[0m                           Traceback (most recent call last)",
      "\u001b[1;32mc:\\Users\\clayb\\Documents\\GitHub\\holbertonschool-machine_learning\\reinforcement_learning\\pipeline\\ml_life_cycle\\MLFlow.ipynb Cell 4\u001b[0m line \u001b[0;36m1\n\u001b[1;32m----> <a href='vscode-notebook-cell:/c%3A/Users/clayb/Documents/GitHub/holbertonschool-machine_learning/reinforcement_learning/pipeline/ml_life_cycle/MLFlow.ipynb#X16sZmlsZQ%3D%3D?line=0'>1</a>\u001b[0m mlflow\u001b[39m.\u001b[39mset_experiment(\u001b[39m\"\u001b[39m\u001b[39mKNN\u001b[39m\u001b[39m\"\u001b[39m)\n",
      "File \u001b[1;32mc:\\Users\\clayb\\Anaconda3\\envs\\MLflow2\\Lib\\site-packages\\mlflow\\tracking\\fluent.py:128\u001b[0m, in \u001b[0;36mset_experiment\u001b[1;34m(experiment_name, experiment_id)\u001b[0m\n\u001b[0;32m    126\u001b[0m client \u001b[39m=\u001b[39m MlflowClient()\n\u001b[0;32m    127\u001b[0m \u001b[39mif\u001b[39;00m experiment_id \u001b[39mis\u001b[39;00m \u001b[39mNone\u001b[39;00m:\n\u001b[1;32m--> 128\u001b[0m     experiment \u001b[39m=\u001b[39m client\u001b[39m.\u001b[39mget_experiment_by_name(experiment_name)\n\u001b[0;32m    129\u001b[0m     \u001b[39mif\u001b[39;00m \u001b[39mnot\u001b[39;00m experiment:\n\u001b[0;32m    130\u001b[0m         _logger\u001b[39m.\u001b[39minfo(\n\u001b[0;32m    131\u001b[0m             \u001b[39m\"\u001b[39m\u001b[39mExperiment with name \u001b[39m\u001b[39m'\u001b[39m\u001b[39m%s\u001b[39;00m\u001b[39m'\u001b[39m\u001b[39m does not exist. Creating a new experiment.\u001b[39m\u001b[39m\"\u001b[39m,\n\u001b[0;32m    132\u001b[0m             experiment_name,\n\u001b[0;32m    133\u001b[0m         )\n",
      "File \u001b[1;32mc:\\Users\\clayb\\Anaconda3\\envs\\MLflow2\\Lib\\site-packages\\mlflow\\tracking\\client.py:508\u001b[0m, in \u001b[0;36mMlflowClient.get_experiment_by_name\u001b[1;34m(self, name)\u001b[0m\n\u001b[0;32m    477\u001b[0m \u001b[39mdef\u001b[39;00m \u001b[39mget_experiment_by_name\u001b[39m(\u001b[39mself\u001b[39m, name: \u001b[39mstr\u001b[39m) \u001b[39m-\u001b[39m\u001b[39m>\u001b[39m Optional[Experiment]:\n\u001b[0;32m    478\u001b[0m \u001b[39m    \u001b[39m\u001b[39m\"\"\"\u001b[39;00m\n\u001b[0;32m    479\u001b[0m \u001b[39m    Retrieve an experiment by experiment name from the backend store\u001b[39;00m\n\u001b[0;32m    480\u001b[0m \n\u001b[1;32m   (...)\u001b[0m\n\u001b[0;32m    506\u001b[0m \u001b[39m        Lifecycle_stage: active\u001b[39;00m\n\u001b[0;32m    507\u001b[0m \u001b[39m    \"\"\"\u001b[39;00m\n\u001b[1;32m--> 508\u001b[0m     \u001b[39mreturn\u001b[39;00m \u001b[39mself\u001b[39m\u001b[39m.\u001b[39m_tracking_client\u001b[39m.\u001b[39mget_experiment_by_name(name)\n",
      "File \u001b[1;32mc:\\Users\\clayb\\Anaconda3\\envs\\MLflow2\\Lib\\site-packages\\mlflow\\tracking\\_tracking_service\\client.py:220\u001b[0m, in \u001b[0;36mTrackingServiceClient.get_experiment_by_name\u001b[1;34m(self, name)\u001b[0m\n\u001b[0;32m    215\u001b[0m \u001b[39mdef\u001b[39;00m \u001b[39mget_experiment_by_name\u001b[39m(\u001b[39mself\u001b[39m, name):\n\u001b[0;32m    216\u001b[0m \u001b[39m    \u001b[39m\u001b[39m\"\"\"\u001b[39;00m\n\u001b[0;32m    217\u001b[0m \u001b[39m    :param name: The experiment name.\u001b[39;00m\n\u001b[0;32m    218\u001b[0m \u001b[39m    :return: :py:class:`mlflow.entities.Experiment`\u001b[39;00m\n\u001b[0;32m    219\u001b[0m \u001b[39m    \"\"\"\u001b[39;00m\n\u001b[1;32m--> 220\u001b[0m     \u001b[39mreturn\u001b[39;00m \u001b[39mself\u001b[39m\u001b[39m.\u001b[39mstore\u001b[39m.\u001b[39mget_experiment_by_name(name)\n",
      "File \u001b[1;32mc:\\Users\\clayb\\Anaconda3\\envs\\MLflow2\\Lib\\site-packages\\mlflow\\store\\tracking\\rest_store.py:306\u001b[0m, in \u001b[0;36mRestStore.get_experiment_by_name\u001b[1;34m(self, experiment_name)\u001b[0m\n\u001b[0;32m    304\u001b[0m \u001b[39mtry\u001b[39;00m:\n\u001b[0;32m    305\u001b[0m     req_body \u001b[39m=\u001b[39m message_to_json(GetExperimentByName(experiment_name\u001b[39m=\u001b[39mexperiment_name))\n\u001b[1;32m--> 306\u001b[0m     response_proto \u001b[39m=\u001b[39m \u001b[39mself\u001b[39m\u001b[39m.\u001b[39m_call_endpoint(GetExperimentByName, req_body)\n\u001b[0;32m    307\u001b[0m     \u001b[39mreturn\u001b[39;00m Experiment\u001b[39m.\u001b[39mfrom_proto(response_proto\u001b[39m.\u001b[39mexperiment)\n\u001b[0;32m    308\u001b[0m \u001b[39mexcept\u001b[39;00m MlflowException \u001b[39mas\u001b[39;00m e:\n",
      "File \u001b[1;32mc:\\Users\\clayb\\Anaconda3\\envs\\MLflow2\\Lib\\site-packages\\mlflow\\store\\tracking\\rest_store.py:59\u001b[0m, in \u001b[0;36mRestStore._call_endpoint\u001b[1;34m(self, api, json_body)\u001b[0m\n\u001b[0;32m     57\u001b[0m endpoint, method \u001b[39m=\u001b[39m _METHOD_TO_INFO[api]\n\u001b[0;32m     58\u001b[0m response_proto \u001b[39m=\u001b[39m api\u001b[39m.\u001b[39mResponse()\n\u001b[1;32m---> 59\u001b[0m \u001b[39mreturn\u001b[39;00m call_endpoint(\u001b[39mself\u001b[39m\u001b[39m.\u001b[39mget_host_creds(), endpoint, method, json_body, response_proto)\n",
      "File \u001b[1;32mc:\\Users\\clayb\\Anaconda3\\envs\\MLflow2\\Lib\\site-packages\\mlflow\\utils\\databricks_utils.py:452\u001b[0m, in \u001b[0;36mget_databricks_host_creds\u001b[1;34m(server_uri)\u001b[0m\n\u001b[0;32m    448\u001b[0m             config \u001b[39m=\u001b[39m provider\u001b[39m.\u001b[39mDatabricksConfig\u001b[39m.\u001b[39mfrom_token(\n\u001b[0;32m    449\u001b[0m                 host\u001b[39m=\u001b[39mhost, token\u001b[39m=\u001b[39mtoken, insecure\u001b[39m=\u001b[39m\u001b[39mFalse\u001b[39;00m\n\u001b[0;32m    450\u001b[0m             )\n\u001b[0;32m    451\u001b[0m \u001b[39mif\u001b[39;00m \u001b[39mnot\u001b[39;00m config \u001b[39mor\u001b[39;00m \u001b[39mnot\u001b[39;00m config\u001b[39m.\u001b[39mhost:\n\u001b[1;32m--> 452\u001b[0m     _fail_malformed_databricks_auth(profile)\n\u001b[0;32m    454\u001b[0m insecure \u001b[39m=\u001b[39m \u001b[39mhasattr\u001b[39m(config, \u001b[39m\"\u001b[39m\u001b[39minsecure\u001b[39m\u001b[39m\"\u001b[39m) \u001b[39mand\u001b[39;00m config\u001b[39m.\u001b[39minsecure\n\u001b[0;32m    456\u001b[0m \u001b[39mif\u001b[39;00m config\u001b[39m.\u001b[39musername \u001b[39mis\u001b[39;00m \u001b[39mnot\u001b[39;00m \u001b[39mNone\u001b[39;00m \u001b[39mand\u001b[39;00m config\u001b[39m.\u001b[39mpassword \u001b[39mis\u001b[39;00m \u001b[39mnot\u001b[39;00m \u001b[39mNone\u001b[39;00m:\n",
      "File \u001b[1;32mc:\\Users\\clayb\\Anaconda3\\envs\\MLflow2\\Lib\\site-packages\\mlflow\\utils\\databricks_utils.py:403\u001b[0m, in \u001b[0;36m_fail_malformed_databricks_auth\u001b[1;34m(profile)\u001b[0m\n\u001b[0;32m    402\u001b[0m \u001b[39mdef\u001b[39;00m \u001b[39m_fail_malformed_databricks_auth\u001b[39m(profile):\n\u001b[1;32m--> 403\u001b[0m     \u001b[39mraise\u001b[39;00m MlflowException(\n\u001b[0;32m    404\u001b[0m         \u001b[39m\"\u001b[39m\u001b[39mGot malformed Databricks CLI profile \u001b[39m\u001b[39m'\u001b[39m\u001b[39m%s\u001b[39;00m\u001b[39m'\u001b[39m\u001b[39m. Please make sure the \u001b[39m\u001b[39m\"\u001b[39m\n\u001b[0;32m    405\u001b[0m         \u001b[39m\"\u001b[39m\u001b[39mDatabricks CLI is properly configured as described at \u001b[39m\u001b[39m\"\u001b[39m\n\u001b[0;32m    406\u001b[0m         \u001b[39m\"\u001b[39m\u001b[39mhttps://github.com/databricks/databricks-cli.\u001b[39m\u001b[39m\"\u001b[39m \u001b[39m%\u001b[39m profile\n\u001b[0;32m    407\u001b[0m     )\n",
      "\u001b[1;31mMlflowException\u001b[0m: Got malformed Databricks CLI profile 'community.cloud.databricks.com'. Please make sure the Databricks CLI is properly configured as described at https://github.com/databricks/databricks-cli."
     ]
    }
   ],
   "source": [
    "mlflow.set_experiment(\"KNN\")"
   ]
  },
  {
   "cell_type": "code",
   "execution_count": 17,
   "metadata": {},
   "outputs": [],
   "source": [
    "mlflow.end_run()"
   ]
  },
  {
   "cell_type": "code",
   "execution_count": 23,
   "metadata": {},
   "outputs": [
    {
     "ename": "MlflowException",
     "evalue": "Got malformed Databricks CLI profile 'community.cloud.databricks.com'. Please make sure the Databricks CLI is properly configured as described at https://github.com/databricks/databricks-cli.",
     "output_type": "error",
     "traceback": [
      "\u001b[1;31m---------------------------------------------------------------------------\u001b[0m",
      "\u001b[1;31mMlflowException\u001b[0m                           Traceback (most recent call last)",
      "\u001b[1;32mc:\\Users\\clayb\\Documents\\GitHub\\holbertonschool-machine_learning\\reinforcement_learning\\pipeline\\ml_life_cycle\\MLFlow.ipynb Cell 6\u001b[0m line \u001b[0;36m2\n\u001b[0;32m      <a href='vscode-notebook-cell:/c%3A/Users/clayb/Documents/GitHub/holbertonschool-machine_learning/reinforcement_learning/pipeline/ml_life_cycle/MLFlow.ipynb#X20sZmlsZQ%3D%3D?line=0'>1</a>\u001b[0m \u001b[39m# Initialize MLflow experiment\u001b[39;00m\n\u001b[1;32m----> <a href='vscode-notebook-cell:/c%3A/Users/clayb/Documents/GitHub/holbertonschool-machine_learning/reinforcement_learning/pipeline/ml_life_cycle/MLFlow.ipynb#X20sZmlsZQ%3D%3D?line=1'>2</a>\u001b[0m mlflow\u001b[39m.\u001b[39mstart_run(experiment_id\u001b[39m=\u001b[39m\u001b[39mNone\u001b[39;00m, run_name\u001b[39m=\u001b[39m\u001b[39m\"\u001b[39m\u001b[39mKNN_Audio_Features_2\u001b[39m\u001b[39m\"\u001b[39m, nested\u001b[39m=\u001b[39m\u001b[39mFalse\u001b[39;00m)\n\u001b[0;32m      <a href='vscode-notebook-cell:/c%3A/Users/clayb/Documents/GitHub/holbertonschool-machine_learning/reinforcement_learning/pipeline/ml_life_cycle/MLFlow.ipynb#X20sZmlsZQ%3D%3D?line=3'>4</a>\u001b[0m mlflow\u001b[39m.\u001b[39mautolog()\n",
      "File \u001b[1;32mc:\\Users\\clayb\\Anaconda3\\envs\\MLflow2\\Lib\\site-packages\\mlflow\\tracking\\fluent.py:365\u001b[0m, in \u001b[0;36mstart_run\u001b[1;34m(run_id, experiment_id, run_name, nested, tags, description)\u001b[0m\n\u001b[0;32m    361\u001b[0m         user_specified_tags[MLFLOW_RUN_NAME] \u001b[39m=\u001b[39m run_name\n\u001b[0;32m    363\u001b[0m     resolved_tags \u001b[39m=\u001b[39m context_registry\u001b[39m.\u001b[39mresolve_tags(user_specified_tags)\n\u001b[1;32m--> 365\u001b[0m     active_run_obj \u001b[39m=\u001b[39m client\u001b[39m.\u001b[39mcreate_run(\n\u001b[0;32m    366\u001b[0m         experiment_id\u001b[39m=\u001b[39mexp_id_for_run, tags\u001b[39m=\u001b[39mresolved_tags, run_name\u001b[39m=\u001b[39mrun_name\n\u001b[0;32m    367\u001b[0m     )\n\u001b[0;32m    369\u001b[0m _active_run_stack\u001b[39m.\u001b[39mappend(ActiveRun(active_run_obj))\n\u001b[0;32m    370\u001b[0m \u001b[39mreturn\u001b[39;00m _active_run_stack[\u001b[39m-\u001b[39m\u001b[39m1\u001b[39m]\n",
      "File \u001b[1;32mc:\\Users\\clayb\\Anaconda3\\envs\\MLflow2\\Lib\\site-packages\\mlflow\\tracking\\client.py:327\u001b[0m, in \u001b[0;36mMlflowClient.create_run\u001b[1;34m(self, experiment_id, start_time, tags, run_name)\u001b[0m\n\u001b[0;32m    276\u001b[0m \u001b[39mdef\u001b[39;00m \u001b[39mcreate_run\u001b[39m(\n\u001b[0;32m    277\u001b[0m     \u001b[39mself\u001b[39m,\n\u001b[0;32m    278\u001b[0m     experiment_id: \u001b[39mstr\u001b[39m,\n\u001b[1;32m   (...)\u001b[0m\n\u001b[0;32m    281\u001b[0m     run_name: Optional[\u001b[39mstr\u001b[39m] \u001b[39m=\u001b[39m \u001b[39mNone\u001b[39;00m,\n\u001b[0;32m    282\u001b[0m ) \u001b[39m-\u001b[39m\u001b[39m>\u001b[39m Run:\n\u001b[0;32m    283\u001b[0m \u001b[39m    \u001b[39m\u001b[39m\"\"\"\u001b[39;00m\n\u001b[0;32m    284\u001b[0m \u001b[39m    Create a :py:class:`mlflow.entities.Run` object that can be associated with\u001b[39;00m\n\u001b[0;32m    285\u001b[0m \u001b[39m    metrics, parameters, artifacts, etc.\u001b[39;00m\n\u001b[1;32m   (...)\u001b[0m\n\u001b[0;32m    325\u001b[0m \u001b[39m        status: RUNNING\u001b[39;00m\n\u001b[0;32m    326\u001b[0m \u001b[39m    \"\"\"\u001b[39;00m\n\u001b[1;32m--> 327\u001b[0m     \u001b[39mreturn\u001b[39;00m \u001b[39mself\u001b[39m\u001b[39m.\u001b[39m_tracking_client\u001b[39m.\u001b[39mcreate_run(experiment_id, start_time, tags, run_name)\n",
      "File \u001b[1;32mc:\\Users\\clayb\\Anaconda3\\envs\\MLflow2\\Lib\\site-packages\\mlflow\\tracking\\_tracking_service\\client.py:131\u001b[0m, in \u001b[0;36mTrackingServiceClient.create_run\u001b[1;34m(self, experiment_id, start_time, tags, run_name)\u001b[0m\n\u001b[0;32m    126\u001b[0m \u001b[39m# Extract user from tags\u001b[39;00m\n\u001b[0;32m    127\u001b[0m \u001b[39m# This logic is temporary; the user_id attribute of runs is deprecated and will be removed\u001b[39;00m\n\u001b[0;32m    128\u001b[0m \u001b[39m# in a later release.\u001b[39;00m\n\u001b[0;32m    129\u001b[0m user_id \u001b[39m=\u001b[39m tags\u001b[39m.\u001b[39mget(MLFLOW_USER, \u001b[39m\"\u001b[39m\u001b[39munknown\u001b[39m\u001b[39m\"\u001b[39m)\n\u001b[1;32m--> 131\u001b[0m \u001b[39mreturn\u001b[39;00m \u001b[39mself\u001b[39m\u001b[39m.\u001b[39mstore\u001b[39m.\u001b[39mcreate_run(\n\u001b[0;32m    132\u001b[0m     experiment_id\u001b[39m=\u001b[39mexperiment_id,\n\u001b[0;32m    133\u001b[0m     user_id\u001b[39m=\u001b[39muser_id,\n\u001b[0;32m    134\u001b[0m     start_time\u001b[39m=\u001b[39mstart_time \u001b[39mor\u001b[39;00m get_current_time_millis(),\n\u001b[0;32m    135\u001b[0m     tags\u001b[39m=\u001b[39m[RunTag(key, value) \u001b[39mfor\u001b[39;00m (key, value) \u001b[39min\u001b[39;00m tags\u001b[39m.\u001b[39mitems()],\n\u001b[0;32m    136\u001b[0m     run_name\u001b[39m=\u001b[39mrun_name,\n\u001b[0;32m    137\u001b[0m )\n",
      "File \u001b[1;32mc:\\Users\\clayb\\Anaconda3\\envs\\MLflow2\\Lib\\site-packages\\mlflow\\store\\tracking\\rest_store.py:178\u001b[0m, in \u001b[0;36mRestStore.create_run\u001b[1;34m(self, experiment_id, user_id, start_time, tags, run_name)\u001b[0m\n\u001b[0;32m    168\u001b[0m tag_protos \u001b[39m=\u001b[39m [tag\u001b[39m.\u001b[39mto_proto() \u001b[39mfor\u001b[39;00m tag \u001b[39min\u001b[39;00m tags]\n\u001b[0;32m    169\u001b[0m req_body \u001b[39m=\u001b[39m message_to_json(\n\u001b[0;32m    170\u001b[0m     CreateRun(\n\u001b[0;32m    171\u001b[0m         experiment_id\u001b[39m=\u001b[39m\u001b[39mstr\u001b[39m(experiment_id),\n\u001b[1;32m   (...)\u001b[0m\n\u001b[0;32m    176\u001b[0m     )\n\u001b[0;32m    177\u001b[0m )\n\u001b[1;32m--> 178\u001b[0m response_proto \u001b[39m=\u001b[39m \u001b[39mself\u001b[39m\u001b[39m.\u001b[39m_call_endpoint(CreateRun, req_body)\n\u001b[0;32m    179\u001b[0m \u001b[39mreturn\u001b[39;00m Run\u001b[39m.\u001b[39mfrom_proto(response_proto\u001b[39m.\u001b[39mrun)\n",
      "File \u001b[1;32mc:\\Users\\clayb\\Anaconda3\\envs\\MLflow2\\Lib\\site-packages\\mlflow\\store\\tracking\\rest_store.py:59\u001b[0m, in \u001b[0;36mRestStore._call_endpoint\u001b[1;34m(self, api, json_body)\u001b[0m\n\u001b[0;32m     57\u001b[0m endpoint, method \u001b[39m=\u001b[39m _METHOD_TO_INFO[api]\n\u001b[0;32m     58\u001b[0m response_proto \u001b[39m=\u001b[39m api\u001b[39m.\u001b[39mResponse()\n\u001b[1;32m---> 59\u001b[0m \u001b[39mreturn\u001b[39;00m call_endpoint(\u001b[39mself\u001b[39m\u001b[39m.\u001b[39mget_host_creds(), endpoint, method, json_body, response_proto)\n",
      "File \u001b[1;32mc:\\Users\\clayb\\Anaconda3\\envs\\MLflow2\\Lib\\site-packages\\mlflow\\utils\\databricks_utils.py:452\u001b[0m, in \u001b[0;36mget_databricks_host_creds\u001b[1;34m(server_uri)\u001b[0m\n\u001b[0;32m    448\u001b[0m             config \u001b[39m=\u001b[39m provider\u001b[39m.\u001b[39mDatabricksConfig\u001b[39m.\u001b[39mfrom_token(\n\u001b[0;32m    449\u001b[0m                 host\u001b[39m=\u001b[39mhost, token\u001b[39m=\u001b[39mtoken, insecure\u001b[39m=\u001b[39m\u001b[39mFalse\u001b[39;00m\n\u001b[0;32m    450\u001b[0m             )\n\u001b[0;32m    451\u001b[0m \u001b[39mif\u001b[39;00m \u001b[39mnot\u001b[39;00m config \u001b[39mor\u001b[39;00m \u001b[39mnot\u001b[39;00m config\u001b[39m.\u001b[39mhost:\n\u001b[1;32m--> 452\u001b[0m     _fail_malformed_databricks_auth(profile)\n\u001b[0;32m    454\u001b[0m insecure \u001b[39m=\u001b[39m \u001b[39mhasattr\u001b[39m(config, \u001b[39m\"\u001b[39m\u001b[39minsecure\u001b[39m\u001b[39m\"\u001b[39m) \u001b[39mand\u001b[39;00m config\u001b[39m.\u001b[39minsecure\n\u001b[0;32m    456\u001b[0m \u001b[39mif\u001b[39;00m config\u001b[39m.\u001b[39musername \u001b[39mis\u001b[39;00m \u001b[39mnot\u001b[39;00m \u001b[39mNone\u001b[39;00m \u001b[39mand\u001b[39;00m config\u001b[39m.\u001b[39mpassword \u001b[39mis\u001b[39;00m \u001b[39mnot\u001b[39;00m \u001b[39mNone\u001b[39;00m:\n",
      "File \u001b[1;32mc:\\Users\\clayb\\Anaconda3\\envs\\MLflow2\\Lib\\site-packages\\mlflow\\utils\\databricks_utils.py:403\u001b[0m, in \u001b[0;36m_fail_malformed_databricks_auth\u001b[1;34m(profile)\u001b[0m\n\u001b[0;32m    402\u001b[0m \u001b[39mdef\u001b[39;00m \u001b[39m_fail_malformed_databricks_auth\u001b[39m(profile):\n\u001b[1;32m--> 403\u001b[0m     \u001b[39mraise\u001b[39;00m MlflowException(\n\u001b[0;32m    404\u001b[0m         \u001b[39m\"\u001b[39m\u001b[39mGot malformed Databricks CLI profile \u001b[39m\u001b[39m'\u001b[39m\u001b[39m%s\u001b[39;00m\u001b[39m'\u001b[39m\u001b[39m. Please make sure the \u001b[39m\u001b[39m\"\u001b[39m\n\u001b[0;32m    405\u001b[0m         \u001b[39m\"\u001b[39m\u001b[39mDatabricks CLI is properly configured as described at \u001b[39m\u001b[39m\"\u001b[39m\n\u001b[0;32m    406\u001b[0m         \u001b[39m\"\u001b[39m\u001b[39mhttps://github.com/databricks/databricks-cli.\u001b[39m\u001b[39m\"\u001b[39m \u001b[39m%\u001b[39m profile\n\u001b[0;32m    407\u001b[0m     )\n",
      "\u001b[1;31mMlflowException\u001b[0m: Got malformed Databricks CLI profile 'community.cloud.databricks.com'. Please make sure the Databricks CLI is properly configured as described at https://github.com/databricks/databricks-cli."
     ]
    }
   ],
   "source": [
    "# Initialize MLflow experiment\n",
    "mlflow.start_run(experiment_id=None, run_name=\"KNN_Audio_Features_2\", nested=False)\n",
    "\n",
    "mlflow.autolog()"
   ]
  },
  {
   "cell_type": "code",
   "execution_count": 24,
   "metadata": {},
   "outputs": [],
   "source": [
    "df = pd.read_csv('claybowls_starred.csv')"
   ]
  },
  {
   "cell_type": "code",
   "execution_count": 10,
   "metadata": {},
   "outputs": [],
   "source": [
    "# Sample data: Replace this with your actual audio features data\n",
    "audio_features = ['danceability', 'energy', 'loudness', 'speechiness', 'acousticness', 'instrumentalness', 'liveness', 'valence', 'tempo']\n",
    "X_train = np.random.rand(100, 5)  # 100 songs, 5 audio features each\n",
    "y_train = np.random.randint(0, 2, 100)  # Labels (not necessary for unsupervised K-NN)\n",
    "X_test = np.random.rand(10, 5)  # 10 songs to find neighbors for\n"
   ]
  },
  {
   "cell_type": "code",
   "execution_count": null,
   "metadata": {},
   "outputs": [],
   "source": [
    "# Initialize K-NN classifier\n",
    "knn = KNeighborsClassifier(n_neighbors=10, metric='euclidean')"
   ]
  },
  {
   "cell_type": "code",
   "execution_count": 11,
   "metadata": {},
   "outputs": [
    {
     "ename": "MlflowException",
     "evalue": "Got malformed Databricks CLI profile 'community.cloud.databricks.com'. Please make sure the Databricks CLI is properly configured as described at https://github.com/databricks/databricks-cli.",
     "output_type": "error",
     "traceback": [
      "\u001b[1;31m---------------------------------------------------------------------------\u001b[0m",
      "\u001b[1;31mMlflowException\u001b[0m                           Traceback (most recent call last)",
      "\u001b[1;32mc:\\Users\\clayb\\Documents\\GitHub\\holbertonschool-machine_learning\\reinforcement_learning\\pipeline\\ml_life_cycle\\MLFlow.ipynb Cell 10\u001b[0m line \u001b[0;36m2\n\u001b[0;32m      <a href='vscode-notebook-cell:/c%3A/Users/clayb/Documents/GitHub/holbertonschool-machine_learning/reinforcement_learning/pipeline/ml_life_cycle/MLFlow.ipynb#X24sZmlsZQ%3D%3D?line=0'>1</a>\u001b[0m \u001b[39m# Log model parameters\u001b[39;00m\n\u001b[1;32m----> <a href='vscode-notebook-cell:/c%3A/Users/clayb/Documents/GitHub/holbertonschool-machine_learning/reinforcement_learning/pipeline/ml_life_cycle/MLFlow.ipynb#X24sZmlsZQ%3D%3D?line=1'>2</a>\u001b[0m mlflow\u001b[39m.\u001b[39mlog_param(\u001b[39m\"\u001b[39m\u001b[39mn_neighbors\u001b[39m\u001b[39m\"\u001b[39m, \u001b[39m10\u001b[39m)\n\u001b[0;32m      <a href='vscode-notebook-cell:/c%3A/Users/clayb/Documents/GitHub/holbertonschool-machine_learning/reinforcement_learning/pipeline/ml_life_cycle/MLFlow.ipynb#X24sZmlsZQ%3D%3D?line=2'>3</a>\u001b[0m mlflow\u001b[39m.\u001b[39mlog_param(\u001b[39m\"\u001b[39m\u001b[39mmetric\u001b[39m\u001b[39m\"\u001b[39m, \u001b[39m'\u001b[39m\u001b[39meuclidean\u001b[39m\u001b[39m'\u001b[39m)\n",
      "File \u001b[1;32mc:\\Users\\clayb\\Anaconda3\\envs\\MLflow2\\Lib\\site-packages\\mlflow\\tracking\\fluent.py:597\u001b[0m, in \u001b[0;36mlog_param\u001b[1;34m(key, value)\u001b[0m\n\u001b[0;32m    573\u001b[0m \u001b[39mdef\u001b[39;00m \u001b[39mlog_param\u001b[39m(key: \u001b[39mstr\u001b[39m, value: Any) \u001b[39m-\u001b[39m\u001b[39m>\u001b[39m Any:\n\u001b[0;32m    574\u001b[0m \u001b[39m    \u001b[39m\u001b[39m\"\"\"\u001b[39;00m\n\u001b[0;32m    575\u001b[0m \u001b[39m    Log a parameter (e.g. model hyperparameter) under the current run. If no run is active,\u001b[39;00m\n\u001b[0;32m    576\u001b[0m \u001b[39m    this method will create a new active run.\u001b[39;00m\n\u001b[1;32m   (...)\u001b[0m\n\u001b[0;32m    595\u001b[0m \u001b[39m            assert value == 0.01\u001b[39;00m\n\u001b[0;32m    596\u001b[0m \u001b[39m    \"\"\"\u001b[39;00m\n\u001b[1;32m--> 597\u001b[0m     run_id \u001b[39m=\u001b[39m _get_or_start_run()\u001b[39m.\u001b[39minfo\u001b[39m.\u001b[39mrun_id\n\u001b[0;32m    598\u001b[0m     \u001b[39mreturn\u001b[39;00m MlflowClient()\u001b[39m.\u001b[39mlog_param(run_id, key, value)\n",
      "File \u001b[1;32mc:\\Users\\clayb\\Anaconda3\\envs\\MLflow2\\Lib\\site-packages\\mlflow\\tracking\\fluent.py:1767\u001b[0m, in \u001b[0;36m_get_or_start_run\u001b[1;34m()\u001b[0m\n\u001b[0;32m   1765\u001b[0m \u001b[39mif\u001b[39;00m \u001b[39mlen\u001b[39m(_active_run_stack) \u001b[39m>\u001b[39m \u001b[39m0\u001b[39m:\n\u001b[0;32m   1766\u001b[0m     \u001b[39mreturn\u001b[39;00m _active_run_stack[\u001b[39m-\u001b[39m\u001b[39m1\u001b[39m]\n\u001b[1;32m-> 1767\u001b[0m \u001b[39mreturn\u001b[39;00m start_run()\n",
      "File \u001b[1;32mc:\\Users\\clayb\\Anaconda3\\envs\\MLflow2\\Lib\\site-packages\\mlflow\\tracking\\fluent.py:365\u001b[0m, in \u001b[0;36mstart_run\u001b[1;34m(run_id, experiment_id, run_name, nested, tags, description)\u001b[0m\n\u001b[0;32m    361\u001b[0m         user_specified_tags[MLFLOW_RUN_NAME] \u001b[39m=\u001b[39m run_name\n\u001b[0;32m    363\u001b[0m     resolved_tags \u001b[39m=\u001b[39m context_registry\u001b[39m.\u001b[39mresolve_tags(user_specified_tags)\n\u001b[1;32m--> 365\u001b[0m     active_run_obj \u001b[39m=\u001b[39m client\u001b[39m.\u001b[39mcreate_run(\n\u001b[0;32m    366\u001b[0m         experiment_id\u001b[39m=\u001b[39mexp_id_for_run, tags\u001b[39m=\u001b[39mresolved_tags, run_name\u001b[39m=\u001b[39mrun_name\n\u001b[0;32m    367\u001b[0m     )\n\u001b[0;32m    369\u001b[0m _active_run_stack\u001b[39m.\u001b[39mappend(ActiveRun(active_run_obj))\n\u001b[0;32m    370\u001b[0m \u001b[39mreturn\u001b[39;00m _active_run_stack[\u001b[39m-\u001b[39m\u001b[39m1\u001b[39m]\n",
      "File \u001b[1;32mc:\\Users\\clayb\\Anaconda3\\envs\\MLflow2\\Lib\\site-packages\\mlflow\\tracking\\client.py:327\u001b[0m, in \u001b[0;36mMlflowClient.create_run\u001b[1;34m(self, experiment_id, start_time, tags, run_name)\u001b[0m\n\u001b[0;32m    276\u001b[0m \u001b[39mdef\u001b[39;00m \u001b[39mcreate_run\u001b[39m(\n\u001b[0;32m    277\u001b[0m     \u001b[39mself\u001b[39m,\n\u001b[0;32m    278\u001b[0m     experiment_id: \u001b[39mstr\u001b[39m,\n\u001b[1;32m   (...)\u001b[0m\n\u001b[0;32m    281\u001b[0m     run_name: Optional[\u001b[39mstr\u001b[39m] \u001b[39m=\u001b[39m \u001b[39mNone\u001b[39;00m,\n\u001b[0;32m    282\u001b[0m ) \u001b[39m-\u001b[39m\u001b[39m>\u001b[39m Run:\n\u001b[0;32m    283\u001b[0m \u001b[39m    \u001b[39m\u001b[39m\"\"\"\u001b[39;00m\n\u001b[0;32m    284\u001b[0m \u001b[39m    Create a :py:class:`mlflow.entities.Run` object that can be associated with\u001b[39;00m\n\u001b[0;32m    285\u001b[0m \u001b[39m    metrics, parameters, artifacts, etc.\u001b[39;00m\n\u001b[1;32m   (...)\u001b[0m\n\u001b[0;32m    325\u001b[0m \u001b[39m        status: RUNNING\u001b[39;00m\n\u001b[0;32m    326\u001b[0m \u001b[39m    \"\"\"\u001b[39;00m\n\u001b[1;32m--> 327\u001b[0m     \u001b[39mreturn\u001b[39;00m \u001b[39mself\u001b[39m\u001b[39m.\u001b[39m_tracking_client\u001b[39m.\u001b[39mcreate_run(experiment_id, start_time, tags, run_name)\n",
      "File \u001b[1;32mc:\\Users\\clayb\\Anaconda3\\envs\\MLflow2\\Lib\\site-packages\\mlflow\\tracking\\_tracking_service\\client.py:131\u001b[0m, in \u001b[0;36mTrackingServiceClient.create_run\u001b[1;34m(self, experiment_id, start_time, tags, run_name)\u001b[0m\n\u001b[0;32m    126\u001b[0m \u001b[39m# Extract user from tags\u001b[39;00m\n\u001b[0;32m    127\u001b[0m \u001b[39m# This logic is temporary; the user_id attribute of runs is deprecated and will be removed\u001b[39;00m\n\u001b[0;32m    128\u001b[0m \u001b[39m# in a later release.\u001b[39;00m\n\u001b[0;32m    129\u001b[0m user_id \u001b[39m=\u001b[39m tags\u001b[39m.\u001b[39mget(MLFLOW_USER, \u001b[39m\"\u001b[39m\u001b[39munknown\u001b[39m\u001b[39m\"\u001b[39m)\n\u001b[1;32m--> 131\u001b[0m \u001b[39mreturn\u001b[39;00m \u001b[39mself\u001b[39m\u001b[39m.\u001b[39mstore\u001b[39m.\u001b[39mcreate_run(\n\u001b[0;32m    132\u001b[0m     experiment_id\u001b[39m=\u001b[39mexperiment_id,\n\u001b[0;32m    133\u001b[0m     user_id\u001b[39m=\u001b[39muser_id,\n\u001b[0;32m    134\u001b[0m     start_time\u001b[39m=\u001b[39mstart_time \u001b[39mor\u001b[39;00m get_current_time_millis(),\n\u001b[0;32m    135\u001b[0m     tags\u001b[39m=\u001b[39m[RunTag(key, value) \u001b[39mfor\u001b[39;00m (key, value) \u001b[39min\u001b[39;00m tags\u001b[39m.\u001b[39mitems()],\n\u001b[0;32m    136\u001b[0m     run_name\u001b[39m=\u001b[39mrun_name,\n\u001b[0;32m    137\u001b[0m )\n",
      "File \u001b[1;32mc:\\Users\\clayb\\Anaconda3\\envs\\MLflow2\\Lib\\site-packages\\mlflow\\store\\tracking\\rest_store.py:178\u001b[0m, in \u001b[0;36mRestStore.create_run\u001b[1;34m(self, experiment_id, user_id, start_time, tags, run_name)\u001b[0m\n\u001b[0;32m    168\u001b[0m tag_protos \u001b[39m=\u001b[39m [tag\u001b[39m.\u001b[39mto_proto() \u001b[39mfor\u001b[39;00m tag \u001b[39min\u001b[39;00m tags]\n\u001b[0;32m    169\u001b[0m req_body \u001b[39m=\u001b[39m message_to_json(\n\u001b[0;32m    170\u001b[0m     CreateRun(\n\u001b[0;32m    171\u001b[0m         experiment_id\u001b[39m=\u001b[39m\u001b[39mstr\u001b[39m(experiment_id),\n\u001b[1;32m   (...)\u001b[0m\n\u001b[0;32m    176\u001b[0m     )\n\u001b[0;32m    177\u001b[0m )\n\u001b[1;32m--> 178\u001b[0m response_proto \u001b[39m=\u001b[39m \u001b[39mself\u001b[39m\u001b[39m.\u001b[39m_call_endpoint(CreateRun, req_body)\n\u001b[0;32m    179\u001b[0m \u001b[39mreturn\u001b[39;00m Run\u001b[39m.\u001b[39mfrom_proto(response_proto\u001b[39m.\u001b[39mrun)\n",
      "File \u001b[1;32mc:\\Users\\clayb\\Anaconda3\\envs\\MLflow2\\Lib\\site-packages\\mlflow\\store\\tracking\\rest_store.py:59\u001b[0m, in \u001b[0;36mRestStore._call_endpoint\u001b[1;34m(self, api, json_body)\u001b[0m\n\u001b[0;32m     57\u001b[0m endpoint, method \u001b[39m=\u001b[39m _METHOD_TO_INFO[api]\n\u001b[0;32m     58\u001b[0m response_proto \u001b[39m=\u001b[39m api\u001b[39m.\u001b[39mResponse()\n\u001b[1;32m---> 59\u001b[0m \u001b[39mreturn\u001b[39;00m call_endpoint(\u001b[39mself\u001b[39m\u001b[39m.\u001b[39mget_host_creds(), endpoint, method, json_body, response_proto)\n",
      "File \u001b[1;32mc:\\Users\\clayb\\Anaconda3\\envs\\MLflow2\\Lib\\site-packages\\mlflow\\utils\\databricks_utils.py:452\u001b[0m, in \u001b[0;36mget_databricks_host_creds\u001b[1;34m(server_uri)\u001b[0m\n\u001b[0;32m    448\u001b[0m             config \u001b[39m=\u001b[39m provider\u001b[39m.\u001b[39mDatabricksConfig\u001b[39m.\u001b[39mfrom_token(\n\u001b[0;32m    449\u001b[0m                 host\u001b[39m=\u001b[39mhost, token\u001b[39m=\u001b[39mtoken, insecure\u001b[39m=\u001b[39m\u001b[39mFalse\u001b[39;00m\n\u001b[0;32m    450\u001b[0m             )\n\u001b[0;32m    451\u001b[0m \u001b[39mif\u001b[39;00m \u001b[39mnot\u001b[39;00m config \u001b[39mor\u001b[39;00m \u001b[39mnot\u001b[39;00m config\u001b[39m.\u001b[39mhost:\n\u001b[1;32m--> 452\u001b[0m     _fail_malformed_databricks_auth(profile)\n\u001b[0;32m    454\u001b[0m insecure \u001b[39m=\u001b[39m \u001b[39mhasattr\u001b[39m(config, \u001b[39m\"\u001b[39m\u001b[39minsecure\u001b[39m\u001b[39m\"\u001b[39m) \u001b[39mand\u001b[39;00m config\u001b[39m.\u001b[39minsecure\n\u001b[0;32m    456\u001b[0m \u001b[39mif\u001b[39;00m config\u001b[39m.\u001b[39musername \u001b[39mis\u001b[39;00m \u001b[39mnot\u001b[39;00m \u001b[39mNone\u001b[39;00m \u001b[39mand\u001b[39;00m config\u001b[39m.\u001b[39mpassword \u001b[39mis\u001b[39;00m \u001b[39mnot\u001b[39;00m \u001b[39mNone\u001b[39;00m:\n",
      "File \u001b[1;32mc:\\Users\\clayb\\Anaconda3\\envs\\MLflow2\\Lib\\site-packages\\mlflow\\utils\\databricks_utils.py:403\u001b[0m, in \u001b[0;36m_fail_malformed_databricks_auth\u001b[1;34m(profile)\u001b[0m\n\u001b[0;32m    402\u001b[0m \u001b[39mdef\u001b[39;00m \u001b[39m_fail_malformed_databricks_auth\u001b[39m(profile):\n\u001b[1;32m--> 403\u001b[0m     \u001b[39mraise\u001b[39;00m MlflowException(\n\u001b[0;32m    404\u001b[0m         \u001b[39m\"\u001b[39m\u001b[39mGot malformed Databricks CLI profile \u001b[39m\u001b[39m'\u001b[39m\u001b[39m%s\u001b[39;00m\u001b[39m'\u001b[39m\u001b[39m. Please make sure the \u001b[39m\u001b[39m\"\u001b[39m\n\u001b[0;32m    405\u001b[0m         \u001b[39m\"\u001b[39m\u001b[39mDatabricks CLI is properly configured as described at \u001b[39m\u001b[39m\"\u001b[39m\n\u001b[0;32m    406\u001b[0m         \u001b[39m\"\u001b[39m\u001b[39mhttps://github.com/databricks/databricks-cli.\u001b[39m\u001b[39m\"\u001b[39m \u001b[39m%\u001b[39m profile\n\u001b[0;32m    407\u001b[0m     )\n",
      "\u001b[1;31mMlflowException\u001b[0m: Got malformed Databricks CLI profile 'community.cloud.databricks.com'. Please make sure the Databricks CLI is properly configured as described at https://github.com/databricks/databricks-cli."
     ]
    }
   ],
   "source": [
    "# Log model parameters\n",
    "mlflow.log_param(\"n_neighbors\", 10)\n",
    "mlflow.log_param(\"metric\", 'euclidean')"
   ]
  },
  {
   "cell_type": "code",
   "execution_count": null,
   "metadata": {},
   "outputs": [],
   "source": [
    "# Fit the model\n",
    "knn.fit(X_train, y_train)\n",
    "\n",
    "# Save the model using MLflow\n",
    "mlflow.sklearn.save_model(sk_model=knn, path=\"K-NN_Music_Features_3\")\n",
    "\n",
    "# Log the model\n",
    "mlflow.sklearn.log_model(knn, \"KNN_Model\")\n",
    "\n",
    "# Find the nearest neighbors\n",
    "distances, indices = knn.kneighbors(X_test)\n",
    "\n",
    "# Log metrics (example: mean distance of the first query point)\n",
    "mlflow.log_metric(\"mean_distance_first_query\", np.mean(distances[0]))\n",
    "\n"
   ]
  },
  {
   "cell_type": "code",
   "execution_count": null,
   "metadata": {},
   "outputs": [],
   "source": [
    "mlflow.sklearn.log_model(\n",
    "    sk_model=knn,\n",
    "    artifact_path=\"sklearn-model\",\n",
    "    registered_model_name=\"K-NN\",\n",
    ")"
   ]
  },
  {
   "cell_type": "code",
   "execution_count": null,
   "metadata": {},
   "outputs": [],
   "source": [
    "# Get the URI of the currently active run's artifact location\n",
    "artifact_uri = mlflow.get_artifact_uri()\n",
    "\n",
    "print(\"Artifact URI:\", artifact_uri)"
   ]
  },
  {
   "cell_type": "code",
   "execution_count": null,
   "metadata": {},
   "outputs": [],
   "source": [
    "# End MLflow run\n",
    "mlflow.end_run()"
   ]
  },
  {
   "cell_type": "code",
   "execution_count": null,
   "metadata": {},
   "outputs": [],
   "source": [
    "mlflow.set_tracking_uri(\"reinforcement_learning\\pipeline\\data_augmentation\\K-NN_Music_Features_2\")"
   ]
  },
  {
   "cell_type": "code",
   "execution_count": null,
   "metadata": {},
   "outputs": [],
   "source": [
    "# Display the indices of 10 nearest songs for each song in X_test\n",
    "print('Indices of 10 nearest songs:', indices)"
   ]
  },
  {
   "cell_type": "code",
   "execution_count": null,
   "metadata": {},
   "outputs": [],
   "source": [
    "# Importing the CSV file containing Clayton's starred songs and their audio features\n",
    "df = pd.read_csv('claybowls_starred.csv')"
   ]
  },
  {
   "cell_type": "code",
   "execution_count": null,
   "metadata": {},
   "outputs": [],
   "source": [
    "# Selecting only the audio features from the DataFrame\n",
    "audio_features = ['danceability', 'energy', 'loudness', 'speechiness', 'acousticness', 'instrumentalness', 'liveness', 'valence', 'tempo']\n",
    "X_train_clayton = df[audio_features].values\n",
    "\n",
    "# Initialize K-NN classifier with Clayton's data\n",
    "knn_clayton = KNeighborsClassifier(n_neighbors=10, metric='euclidean')\n",
    "\n",
    "# Fit the model with Clayton's data\n",
    "knn_clayton.fit(X_train_clayton, np.zeros(X_train_clayton.shape[0]))\n",
    "\n",
    "# Display the indices of the 10 nearest songs to Clayton's average\n",
    "print('Indices of 10 nearest songs to Clayton\\'s average:', indices)"
   ]
  },
  {
   "cell_type": "code",
   "execution_count": null,
   "metadata": {},
   "outputs": [],
   "source": [
    "# Clayton's average audio feature values\n",
    "clayton_avg_features = np.array([0.6541, 0.5704, -9.4199, 0.1001, 0.2857, 0.2042, 0.2016, 0.5649, 119.9958])\n",
    "clayton_avg_features = clayton_avg_features.reshape(1, -1)\n",
    "\n",
    "# Use K-NN to find the 10 nearest songs to Clayton's average audio features\n",
    "distances, indices = knn_clayton.kneighbors(clayton_avg_features)\n"
   ]
  },
  {
   "cell_type": "code",
   "execution_count": null,
   "metadata": {},
   "outputs": [],
   "source": [
    "# Retrieve the song names corresponding to the indices of the 10 nearest songs to Clayton's average\n",
    "nearest_songs = df.iloc[indices[0]]\n",
    "\n",
    "# Display the names, artists, and albums of the 10 nearest songs\n",
    "nearest_songs[['name', 'artist', 'album']]\n",
    "\n",
    "# Set the style for the plots\n",
    "sns.set(style='whitegrid')\n",
    "\n",
    "# Create a DataFrame containing only the 10 nearest songs and their audio features\n",
    "nearest_songs_features = nearest_songs[audio_features]\n",
    "\n",
    "# Add Clayton's average audio features as a new row to the DataFrame\n",
    "nearest_songs_features.loc['Clayton_Avg'] = clayton_avg_features[0]"
   ]
  },
  {
   "cell_type": "code",
   "execution_count": null,
   "metadata": {},
   "outputs": [],
   "source": [
    "# Create a heatmap to visualize the audio features of the 10 nearest songs compared to Clayton's average\n",
    "plt.figure(figsize=(12, 8))\n",
    "sns.heatmap(nearest_songs_features, annot=True, cmap='coolwarm', cbar=True, xticklabels=audio_features, yticklabels=nearest_songs_features.index)\n",
    "plt.title('Heatmap of Audio Features for 10 Nearest Songs Compared to Clayton\\'s Average')\n",
    "plt.xlabel('Audio Features')\n",
    "plt.ylabel('Song Indices / Clayton\\'s Average')\n",
    "plt.show()"
   ]
  }
 ],
 "metadata": {
  "kernelspec": {
   "display_name": "Python 3",
   "language": "python",
   "name": "python3"
  },
  "language_info": {
   "codemirror_mode": {
    "name": "ipython",
    "version": 3
   },
   "file_extension": ".py",
   "mimetype": "text/x-python",
   "name": "python",
   "nbconvert_exporter": "python",
   "pygments_lexer": "ipython3",
   "version": "3.11.5"
  }
 },
 "nbformat": 4,
 "nbformat_minor": 2
}
