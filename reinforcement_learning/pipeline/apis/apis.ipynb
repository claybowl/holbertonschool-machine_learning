{
 "cells": [
  {
   "cell_type": "code",
   "execution_count": 2,
   "metadata": {},
   "outputs": [],
   "source": [
    "import requests"
   ]
  },
  {
   "cell_type": "markdown",
   "metadata": {},
   "source": [
    "## Task 0. Can I join?:"
   ]
  },
  {
   "cell_type": "code",
   "execution_count": 3,
   "metadata": {},
   "outputs": [],
   "source": [
    "def availableShips(passengerCount):\n",
    "    \"\"\"Returns a list of ships available for a given\n",
    "    passenger count\"\"\"\n",
    "    # empty list to hold names of available ships\n",
    "    available_ships = []\n",
    "    \n",
    "    # initialize URL for Swapi API endpoint for starships\n",
    "    url = \"https://swapi.dev/api/starships/\"\n",
    "\n",
    "    while url:\n",
    "        # connect with API\n",
    "        response = requests.get(url)\n",
    "        ship_data = response.json()\n",
    "\n",
    "        # loop through starship pages\n",
    "        for starship in ship_data['results']:\n",
    "            try:\n",
    "                capacity = int(starship['passengers'])\n",
    "            except ValueError:\n",
    "                continue\n",
    "            if capacity >= passengerCount:\n",
    "                available_ships.append(starship['name'])\n",
    "        url = ship_data['next']\n",
    "    return available_ships\n",
    "        \n"
   ]
  },
  {
   "cell_type": "code",
   "execution_count": 4,
   "metadata": {},
   "outputs": [
    {
     "name": "stdout",
     "output_type": "stream",
     "text": [
      "CR90 corvette\n",
      "Sentinel-class landing craft\n",
      "Millennium Falcon\n",
      "Executor\n",
      "Rebel transport\n",
      "Slave 1\n",
      "Imperial shuttle\n",
      "EF76 Nebulon-B escort frigate\n",
      "Calamari Cruiser\n",
      "Republic Cruiser\n",
      "Droid control ship\n",
      "Scimitar\n",
      "J-type diplomatic barge\n",
      "AA-9 Coruscant freighter\n",
      "Republic Assault ship\n",
      "Solar Sailer\n",
      "Trade Federation cruiser\n",
      "Theta-class T-2c shuttle\n",
      "Republic attack cruiser\n"
     ]
    }
   ],
   "source": [
    "if __name__ == \"__main__\":\n",
    "    ships = availableShips(4)\n",
    "    for ship in ships:\n",
    "        print(ship)"
   ]
  },
  {
   "cell_type": "markdown",
   "metadata": {},
   "source": [
    "## Task 1. Where I am?:"
   ]
  },
  {
   "cell_type": "code",
   "execution_count": 21,
   "metadata": {},
   "outputs": [],
   "source": [
    "def sentientPlanets():\n",
    "    \"\"\"Returns a list of planets with sentient life\"\"\"\n",
    "    # initialize an empty list of sentient planets\n",
    "    sentient_planets = []\n",
    "\n",
    "    # create API object\n",
    "    url = \"https://swapi-api.hbtn.io/api/species/\"\n",
    "\n",
    "    while url:\n",
    "        # make get request to url and store response\n",
    "        # parse json data from response and store in data variable\n",
    "        response = requests.get(url)\n",
    "        sentience_data = response.json()\n",
    "\n",
    "        # the loop for life\n",
    "        for species in sentience_data['results']:\n",
    "            if species['designation'] == 'sentient' or species['classification'] == 'sentient':\n",
    "                homeworld_url = species['homeworld']\n",
    "\n",
    "                # get the name of the planet from the homeworld url\n",
    "                if homeworld_url:\n",
    "                    homeworld_response = requests.get(homeworld_url)\n",
    "                    homeworld_response = requests.get(homeworld_url).json()\n",
    "                    sentient_planets.append(homeworld_response['name'])\n",
    "        url = sentience_data['next']\n",
    "    return sentience_data"
   ]
  },
  {
   "cell_type": "code",
   "execution_count": 22,
   "metadata": {},
   "outputs": [
    {
     "name": "stdout",
     "output_type": "stream",
     "text": [
      "count\n",
      "next\n",
      "previous\n",
      "results\n"
     ]
    }
   ],
   "source": [
    "if __name__ == \"__main__\":\n",
    "    planets = sentientPlanets()\n",
    "    for planet in planets:\n",
    "        print(planet)"
   ]
  }
 ],
 "metadata": {
  "kernelspec": {
   "display_name": "Python 3",
   "language": "python",
   "name": "python3"
  },
  "language_info": {
   "codemirror_mode": {
    "name": "ipython",
    "version": 3
   },
   "file_extension": ".py",
   "mimetype": "text/x-python",
   "name": "python",
   "nbconvert_exporter": "python",
   "pygments_lexer": "ipython3",
   "version": "3.10.11"
  }
 },
 "nbformat": 4,
 "nbformat_minor": 2
}
