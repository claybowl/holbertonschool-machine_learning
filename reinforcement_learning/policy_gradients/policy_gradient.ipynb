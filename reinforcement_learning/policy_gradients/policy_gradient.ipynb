{
 "cells": [
  {
   "cell_type": "code",
   "execution_count": 1,
   "metadata": {},
   "outputs": [],
   "source": [
    "# !pip install numpy\n",
    "import numpy as np"
   ]
  },
  {
   "cell_type": "code",
   "execution_count": 2,
   "metadata": {},
   "outputs": [],
   "source": [
    "def policy(matrix, weight):\n",
    "    \"\"\"Computes the policy with weight of a matrix\"\"\"\n",
    "    z = matrix.dot(weight)\n",
    "    exp = np.exp(z)\n",
    "    return exp / np.sum(exp, axis=1, keepdims=True)"
   ]
  },
  {
   "cell_type": "code",
   "execution_count": 3,
   "metadata": {},
   "outputs": [
    {
     "name": "stdout",
     "output_type": "stream",
     "text": [
      "[[0.50351642 0.49648358]]\n"
     ]
    }
   ],
   "source": [
    "# Test the function\n",
    "weight = np.ndarray((4, 2), buffer=np.array([\n",
    "    [4.17022005e-01, 7.20324493e-01], \n",
    "    [1.14374817e-04, 3.02332573e-01], \n",
    "    [1.46755891e-01, 9.23385948e-02], \n",
    "    [1.86260211e-01, 3.45560727e-01]\n",
    "]))\n",
    "state = np.ndarray((1, 4), buffer=np.array([\n",
    "    [-0.04428214,  0.01636746,  0.01196594, -0.03095031]\n",
    "]))\n",
    "\n",
    "res = policy(state, weight)\n",
    "print(res)"
   ]
  },
  {
   "cell_type": "markdown",
   "metadata": {},
   "source": [
    "By using the previous function created *policy*, write a function that computes the Monte-Carlo policy gradient based on a state and a weight matrix."
   ]
  },
  {
   "cell_type": "code",
   "execution_count": 4,
   "metadata": {},
   "outputs": [],
   "source": [
    "def policy_gradient(state, weight):\n",
    "    \"\"\"\n",
    "    Compute the Monte Carlo policy gradient\n",
    "    based on state/weight.\n",
    "    \"\"\"\n",
    "    probs = policy(state, weight)\n",
    "    action =  np.random.choice(2, p=probs[0])\n",
    "    dlog = np.zeros_like(probs)\n",
    "    dlog[0, action] = 1\n",
    "    grad = dlog - probs\n",
    "    return action, grad"
   ]
  },
  {
   "cell_type": "code",
   "execution_count": 5,
   "metadata": {},
   "outputs": [],
   "source": [
    "import gym"
   ]
  },
  {
   "cell_type": "code",
   "execution_count": 6,
   "metadata": {},
   "outputs": [
    {
     "name": "stdout",
     "output_type": "stream",
     "text": [
      "Weight [[4.17022005e-01 7.20324493e-01]\n",
      " [1.14374817e-04 3.02332573e-01]\n",
      " [1.46755891e-01 9.23385948e-02]\n",
      " [1.86260211e-01 3.45560727e-01]]\n",
      "State [[ 0.00202839  0.04140456 -0.04985191  0.00102226]]\n",
      "Action 0\n",
      "Gradient [[ 0.50400093 -0.50400093]]\n"
     ]
    }
   ],
   "source": [
    "# Test the function\n",
    "env = gym.make('CartPole-v1')\n",
    "np.random.seed(1)\n",
    "\n",
    "weight = np.random.rand(4, 2)\n",
    "state = env.reset()[None, :]\n",
    "print(\"Weight\", weight)\n",
    "print(\"State\", state)\n",
    "\n",
    "action, grad = policy_gradient(state, weight)\n",
    "print(\"Action\", action)\n",
    "print(\"Gradient\", grad)\n",
    "\n",
    "env.close()"
   ]
  },
  {
   "cell_type": "code",
   "execution_count": 7,
   "metadata": {},
   "outputs": [],
   "source": [
    "def train(env, nb_episodes, alpha=0.000055, gamma=0.95):\n",
    "    \"\"\"Implements a full training\"\"\"\n",
    "    np.random.seed(1)\n",
    "    weight = np.random.rand(4, 2)\n",
    "    scores = []\n",
    "\n",
    "    for episode in range(1, nb_episodes + 1):\n",
    "        state = env.reset()[None, :]\n",
    "        grads = []\n",
    "        rewards = []\n",
    "        score = 0\n",
    "    \n",
    "        while True:\n",
    "            action, grad = policy_gradient(state, weight)\n",
    "            state, reward, done, _ = env.step(action)\n",
    "            state = state[None, :]\n",
    "\n",
    "            grads.append(grad)\n",
    "            rewards.append(reward)\n",
    "            score += reward\n",
    "\n",
    "            if done:\n",
    "                break\n",
    "\n",
    "        for i in range(len(grads)):\n",
    "            for j in range(i, len(grads)):\n",
    "                grads[i] += gamma ** (j - i) * rewards[j]\n",
    "\n",
    "        for grad in grads:\n",
    "            weight += alpha * grad\n",
    "        \n",
    "        scores.append(score)\n",
    "        print(\"Episode: {} - Score: {}\".format(episode, score), end=\"\\r\", flush=False)\n",
    "\n",
    "    return scores"
   ]
  },
  {
   "cell_type": "code",
   "execution_count": 8,
   "metadata": {},
   "outputs": [
    {
     "name": "stdout",
     "output_type": "stream",
     "text": [
      "Episode: 13 - Score: 20.0\r"
     ]
    },
    {
     "name": "stdout",
     "output_type": "stream",
     "text": [
      "Episode: 5000 - Score: 75.00\r"
     ]
    }
   ],
   "source": [
    "# Test the function\n",
    "env = gym.make('CartPole-v1')\n",
    "nb_episodes = 5000\n",
    "scores = train(env, nb_episodes)\n",
    "env.close()"
   ]
  },
  {
   "cell_type": "code",
   "execution_count": 9,
   "metadata": {},
   "outputs": [],
   "source": [
    "import matplotlib.pyplot as plt"
   ]
  },
  {
   "cell_type": "markdown",
   "metadata": {},
   "source": [
    "The x-axis represents the episode number, and the y-axis represents the total reward obtained in that episode.\n",
    "We plot the total reward for each episode to visualize how the agent's performance changes over time."
   ]
  },
  {
   "cell_type": "code",
   "execution_count": 10,
   "metadata": {},
   "outputs": [
    {
     "name": "stdout",
     "output_type": "stream",
     "text": [
      "Episode: 5000 - Score: 15.00\r"
     ]
    },
    {
     "data": {
      "image/png": "[encoded data removed]",
      "text/plain": [
       "<Figure size 432x288 with 1 Axes>"
      ]
     },
     "metadata": {
      "needs_background": "light"
     },
     "output_type": "display_data"
    }
   ],
   "source": [
    "# After running training function and generating scores\n",
    "env = gym.make('CartPole-v1')\n",
    "nb_episodes = 5000\n",
    "scores = train(env, nb_episodes)\n",
    "env.close()\n",
    "\n",
    "# Plot Scores\n",
    "plt.plot(range(1, nb_episodes + 1), scores)\n",
    "plt.xlabel('Episode')\n",
    "plt.ylabel('Total Reward')\n",
    "plt.title('Training Progress')\n",
    "plt.show()"
   ]
  }
 ],
 "metadata": {
  "kernelspec": {
   "display_name": "policy_gradient",
   "language": "python",
   "name": "python3"
  },
  "language_info": {
   "codemirror_mode": {
    "name": "ipython",
    "version": 3
   },
   "file_extension": ".py",
   "mimetype": "text/x-python",
   "name": "python",
   "nbconvert_exporter": "python",
   "pygments_lexer": "ipython3",
   "version": "3.5.6"
  },
  "orig_nbformat": 4
 },
 "nbformat": 4,
 "nbformat_minor": 2
}
